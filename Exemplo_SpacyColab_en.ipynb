{
  "nbformat": 4,
  "nbformat_minor": 0,
  "metadata": {
    "colab": {
      "provenance": [],
      "toc_visible": true,
      "include_colab_link": true
    },
    "kernelspec": {
      "name": "python3",
      "display_name": "Python 3"
    },
    "accelerator": "TPU"
  },
  "cells": [
    {
      "cell_type": "markdown",
      "metadata": {
        "id": "view-in-github",
        "colab_type": "text"
      },
      "source": [
        "<a href=\"https://colab.research.google.com/github/osmarbraz/exemplos_spacy/blob/main/Exemplo_SpacyColab_en.ipynb\" target=\"_parent\"><img src=\"https://colab.research.google.com/assets/colab-badge.svg\" alt=\"Open In Colab\"/></a>"
      ]
    },
    {
      "cell_type": "markdown",
      "metadata": {
        "id": "IziPWVaeGlWk"
      },
      "source": [
        "# Exemplo uso Spacy com Modelo em Inglês\n",
        "Exemplo do uso Spacy Python Library com execução através do Google Colaboratory.<br>\n",
        "Site ferramenta: https://spacy.io/\n",
        "\n",
        "Tutorial<br>\n",
        "https://medium.com/@van3ssabandeira/o-famoso-spacy-90afb683b6fe\n"
      ]
    },
    {
      "cell_type": "markdown",
      "metadata": {
        "id": "rCk1PJ6Uwpu3"
      },
      "source": [
        "# 0 Preparação do ambiente\n",
        "Preparação do ambiente para executar o spacy."
      ]
    },
    {
      "cell_type": "markdown",
      "metadata": {
        "id": "4w0iMqLMwx5Q"
      },
      "source": [
        "##Tratamento de logs"
      ]
    },
    {
      "cell_type": "code",
      "metadata": {
        "id": "tlN4O-0gwzSN"
      },
      "source": [
        "#biblioteca de logging\n",
        "import logging\n",
        "\n",
        "#Formado da mensagem\n",
        "logging.basicConfig(format='%(asctime)s : %(levelname)s : %(message)s', level=logging.INFO)"
      ],
      "execution_count": 1,
      "outputs": []
    },
    {
      "cell_type": "markdown",
      "metadata": {
        "id": "YgkRcED5w7_L"
      },
      "source": [
        "## Parâmetros\n",
        "\n",
        "Parâmetros da execução do teste\n",
        "\n",
        "* sm = small model (não possui vocabulário de palavras)\n",
        "* md = medium model\n",
        "* lg = large model\n",
        "\n",
        "https://spacy.io/models/en"
      ]
    },
    {
      "cell_type": "code",
      "metadata": {
        "id": "Rbk9_hJ-yc1L"
      },
      "source": [
        "#definição do nome do arquivo do modelo\n",
        "#ARQUIVOMODELOSPACY = 'en_core_web_sm'\n",
        "#ARQUIVOMODELOSPACY = 'en_core_web_md'\n",
        "ARQUIVOMODELOSPACY = 'en_core_web_lg'\n",
        "\n",
        "logging.info('Parâmetros definidos!')"
      ],
      "execution_count": 2,
      "outputs": []
    },
    {
      "cell_type": "markdown",
      "metadata": {
        "id": "ku3JQLuL3jCe"
      },
      "source": [
        "# 1 Instalação"
      ]
    },
    {
      "cell_type": "markdown",
      "metadata": {
        "id": "1MNQcVUH9Pqv"
      },
      "source": [
        "Instala o spacy no notebook. O site para instalação está em https://spacy.io/usage.\n",
        "\n",
        "No Jupiter Notebook executar através \"Anaconda Prompt\"."
      ]
    },
    {
      "cell_type": "code",
      "metadata": {
        "id": "F9luAEBK9do5",
        "colab": {
          "base_uri": "https://localhost:8080/"
        },
        "outputId": "f92d6a9b-a013-49fb-e811-d88f42d832ba"
      },
      "source": [
        "# Instala a última versão disponível\n",
        "#!pip install -U spacy\n",
        "\n",
        "# Instala uma versão específica\n",
        "!pip install -U spacy==3.0.6"
      ],
      "execution_count": 3,
      "outputs": [
        {
          "output_type": "stream",
          "name": "stdout",
          "text": [
            "Looking in indexes: https://pypi.org/simple, https://us-python.pkg.dev/colab-wheels/public/simple/\n",
            "Collecting spacy==3.0.6\n",
            "  Downloading spacy-3.0.6-cp39-cp39-manylinux2014_x86_64.whl (12.6 MB)\n",
            "\u001b[2K     \u001b[90m━━━━━━━━━━━━━━━━━━━━━━━━━━━━━━━━━━━━━━━━\u001b[0m \u001b[32m12.6/12.6 MB\u001b[0m \u001b[31m29.1 MB/s\u001b[0m eta \u001b[36m0:00:00\u001b[0m\n",
            "\u001b[?25hRequirement already satisfied: blis<0.8.0,>=0.4.0 in /usr/local/lib/python3.9/dist-packages (from spacy==3.0.6) (0.7.9)\n",
            "Requirement already satisfied: tqdm<5.0.0,>=4.38.0 in /usr/local/lib/python3.9/dist-packages (from spacy==3.0.6) (4.65.0)\n",
            "Requirement already satisfied: srsly<3.0.0,>=2.4.1 in /usr/local/lib/python3.9/dist-packages (from spacy==3.0.6) (2.4.6)\n",
            "Collecting pydantic<1.8.0,>=1.7.1\n",
            "  Downloading pydantic-1.7.4-cp39-cp39-manylinux2014_x86_64.whl (10.3 MB)\n",
            "\u001b[2K     \u001b[90m━━━━━━━━━━━━━━━━━━━━━━━━━━━━━━━━━━━━━━━━\u001b[0m \u001b[32m10.3/10.3 MB\u001b[0m \u001b[31m24.9 MB/s\u001b[0m eta \u001b[36m0:00:00\u001b[0m\n",
            "\u001b[?25hRequirement already satisfied: setuptools in /usr/local/lib/python3.9/dist-packages (from spacy==3.0.6) (67.6.1)\n",
            "Collecting thinc<8.1.0,>=8.0.3\n",
            "  Downloading thinc-8.0.17-cp39-cp39-manylinux_2_17_x86_64.manylinux2014_x86_64.whl (668 kB)\n",
            "\u001b[2K     \u001b[90m━━━━━━━━━━━━━━━━━━━━━━━━━━━━━━━━━━━━━━━\u001b[0m \u001b[32m668.8/668.8 kB\u001b[0m \u001b[31m3.9 MB/s\u001b[0m eta \u001b[36m0:00:00\u001b[0m\n",
            "\u001b[?25hRequirement already satisfied: requests<3.0.0,>=2.13.0 in /usr/local/lib/python3.9/dist-packages (from spacy==3.0.6) (2.27.1)\n",
            "Collecting wasabi<1.1.0,>=0.8.1\n",
            "  Downloading wasabi-0.10.1-py3-none-any.whl (26 kB)\n",
            "Requirement already satisfied: murmurhash<1.1.0,>=0.28.0 in /usr/local/lib/python3.9/dist-packages (from spacy==3.0.6) (1.0.9)\n",
            "Requirement already satisfied: spacy-legacy<3.1.0,>=3.0.4 in /usr/local/lib/python3.9/dist-packages (from spacy==3.0.6) (3.0.12)\n",
            "Requirement already satisfied: catalogue<2.1.0,>=2.0.3 in /usr/local/lib/python3.9/dist-packages (from spacy==3.0.6) (2.0.8)\n",
            "Requirement already satisfied: numpy>=1.15.0 in /usr/local/lib/python3.9/dist-packages (from spacy==3.0.6) (1.24.2)\n",
            "Collecting typer<0.4.0,>=0.3.0\n",
            "  Downloading typer-0.3.2-py3-none-any.whl (21 kB)\n",
            "Requirement already satisfied: jinja2 in /usr/local/lib/python3.9/dist-packages (from spacy==3.0.6) (3.1.2)\n",
            "Requirement already satisfied: packaging>=20.0 in /usr/local/lib/python3.9/dist-packages (from spacy==3.0.6) (23.0)\n",
            "Requirement already satisfied: pathy>=0.3.5 in /usr/local/lib/python3.9/dist-packages (from spacy==3.0.6) (0.10.1)\n",
            "Requirement already satisfied: preshed<3.1.0,>=3.0.2 in /usr/local/lib/python3.9/dist-packages (from spacy==3.0.6) (3.0.8)\n",
            "Requirement already satisfied: cymem<2.1.0,>=2.0.2 in /usr/local/lib/python3.9/dist-packages (from spacy==3.0.6) (2.0.7)\n",
            "Requirement already satisfied: smart-open<7.0.0,>=5.2.1 in /usr/local/lib/python3.9/dist-packages (from pathy>=0.3.5->spacy==3.0.6) (6.3.0)\n",
            "Requirement already satisfied: charset-normalizer~=2.0.0 in /usr/local/lib/python3.9/dist-packages (from requests<3.0.0,>=2.13.0->spacy==3.0.6) (2.0.12)\n",
            "Requirement already satisfied: certifi>=2017.4.17 in /usr/local/lib/python3.9/dist-packages (from requests<3.0.0,>=2.13.0->spacy==3.0.6) (2022.12.7)\n",
            "Requirement already satisfied: urllib3<1.27,>=1.21.1 in /usr/local/lib/python3.9/dist-packages (from requests<3.0.0,>=2.13.0->spacy==3.0.6) (1.26.15)\n",
            "Requirement already satisfied: idna<4,>=2.5 in /usr/local/lib/python3.9/dist-packages (from requests<3.0.0,>=2.13.0->spacy==3.0.6) (3.4)\n",
            "Collecting click<7.2.0,>=7.1.1\n",
            "  Downloading click-7.1.2-py2.py3-none-any.whl (82 kB)\n",
            "\u001b[2K     \u001b[90m━━━━━━━━━━━━━━━━━━━━━━━━━━━━━━━━━━━━━━━━\u001b[0m \u001b[32m82.8/82.8 kB\u001b[0m \u001b[31m2.9 MB/s\u001b[0m eta \u001b[36m0:00:00\u001b[0m\n",
            "\u001b[?25hRequirement already satisfied: MarkupSafe>=2.0 in /usr/local/lib/python3.9/dist-packages (from jinja2->spacy==3.0.6) (2.1.2)\n",
            "Installing collected packages: wasabi, pydantic, click, typer, thinc, spacy\n",
            "  Attempting uninstall: wasabi\n",
            "    Found existing installation: wasabi 1.1.1\n",
            "    Uninstalling wasabi-1.1.1:\n",
            "      Successfully uninstalled wasabi-1.1.1\n",
            "  Attempting uninstall: pydantic\n",
            "    Found existing installation: pydantic 1.10.7\n",
            "    Uninstalling pydantic-1.10.7:\n",
            "      Successfully uninstalled pydantic-1.10.7\n",
            "  Attempting uninstall: click\n",
            "    Found existing installation: click 8.1.3\n",
            "    Uninstalling click-8.1.3:\n",
            "      Successfully uninstalled click-8.1.3\n",
            "  Attempting uninstall: typer\n",
            "    Found existing installation: typer 0.7.0\n",
            "    Uninstalling typer-0.7.0:\n",
            "      Successfully uninstalled typer-0.7.0\n",
            "  Attempting uninstall: thinc\n",
            "    Found existing installation: thinc 8.1.9\n",
            "    Uninstalling thinc-8.1.9:\n",
            "      Successfully uninstalled thinc-8.1.9\n",
            "  Attempting uninstall: spacy\n",
            "    Found existing installation: spacy 3.5.1\n",
            "    Uninstalling spacy-3.5.1:\n",
            "      Successfully uninstalled spacy-3.5.1\n",
            "\u001b[31mERROR: pip's dependency resolver does not currently take into account all the packages that are installed. This behaviour is the source of the following dependency conflicts.\n",
            "pandas-profiling 3.2.0 requires pydantic>=1.8.1, but you have pydantic 1.7.4 which is incompatible.\n",
            "inflect 6.0.2 requires pydantic>=1.9.1, but you have pydantic 1.7.4 which is incompatible.\n",
            "flask 2.2.3 requires click>=8.0, but you have click 7.1.2 which is incompatible.\n",
            "en-core-web-sm 3.5.0 requires spacy<3.6.0,>=3.5.0, but you have spacy 3.0.6 which is incompatible.\u001b[0m\u001b[31m\n",
            "\u001b[0mSuccessfully installed click-7.1.2 pydantic-1.7.4 spacy-3.0.6 thinc-8.0.17 typer-0.3.2 wasabi-0.10.1\n"
          ]
        }
      ]
    },
    {
      "cell_type": "markdown",
      "metadata": {
        "id": "oN_oynsK3nRF"
      },
      "source": [
        "# 2 Execução"
      ]
    },
    {
      "cell_type": "markdown",
      "metadata": {
        "id": "9D9S3cvz9c4X"
      },
      "source": [
        "##Baixa o modelo em inglês.\n",
        "\n",
        "Outras linguagens podem ser consultadas em:<br> \n",
        "https://spacy.io/usage/models#languages"
      ]
    },
    {
      "cell_type": "code",
      "metadata": {
        "colab": {
          "base_uri": "https://localhost:8080/"
        },
        "id": "NjNxNcvqa1AP",
        "outputId": "5727e899-356a-4b86-ad8b-728c16886234"
      },
      "source": [
        "!python -m spacy download $ARQUIVOMODELOSPACY"
      ],
      "execution_count": 4,
      "outputs": [
        {
          "output_type": "stream",
          "name": "stdout",
          "text": [
            "2023-04-11 14:01:23.368309: I tensorflow/core/platform/cpu_feature_guard.cc:182] This TensorFlow binary is optimized to use available CPU instructions in performance-critical operations.\n",
            "To enable the following instructions: AVX2 FMA, in other operations, rebuild TensorFlow with the appropriate compiler flags.\n",
            "2023-04-11 14:01:25.560600: W tensorflow/compiler/tf2tensorrt/utils/py_utils.cc:38] TF-TRT Warning: Could not find TensorRT\n",
            "\u001b[33mDEPRECATION: https://github.com/explosion/spacy-models/releases/download/en_core_web_lg-3.0.0/en_core_web_lg-3.0.0-py3-none-any.whl#egg=en_core_web_lg==3.0.0 contains an egg fragment with a non-PEP 508 name pip 25.0 will enforce this behaviour change. A possible replacement is to use the req @ url syntax, and remove the egg fragment. Discussion can be found at https://github.com/pypa/pip/issues/11617\u001b[0m\u001b[33m\n",
            "\u001b[0mLooking in indexes: https://pypi.org/simple, https://us-python.pkg.dev/colab-wheels/public/simple/\n",
            "Collecting en-core-web-lg==3.0.0\n",
            "  Downloading https://github.com/explosion/spacy-models/releases/download/en_core_web_lg-3.0.0/en_core_web_lg-3.0.0-py3-none-any.whl (778.8 MB)\n",
            "\u001b[2K     \u001b[90m━━━━━━━━━━━━━━━━━━━━━━━━━━━━━━━━━━━━━━━\u001b[0m \u001b[32m778.8/778.8 MB\u001b[0m \u001b[31m1.8 MB/s\u001b[0m eta \u001b[36m0:00:00\u001b[0m\n",
            "\u001b[?25hRequirement already satisfied: spacy<3.1.0,>=3.0.0 in /usr/local/lib/python3.9/dist-packages (from en-core-web-lg==3.0.0) (3.0.6)\n",
            "Requirement already satisfied: wasabi<1.1.0,>=0.8.1 in /usr/local/lib/python3.9/dist-packages (from spacy<3.1.0,>=3.0.0->en-core-web-lg==3.0.0) (0.10.1)\n",
            "Requirement already satisfied: pathy>=0.3.5 in /usr/local/lib/python3.9/dist-packages (from spacy<3.1.0,>=3.0.0->en-core-web-lg==3.0.0) (0.10.1)\n",
            "Requirement already satisfied: packaging>=20.0 in /usr/local/lib/python3.9/dist-packages (from spacy<3.1.0,>=3.0.0->en-core-web-lg==3.0.0) (23.0)\n",
            "Requirement already satisfied: blis<0.8.0,>=0.4.0 in /usr/local/lib/python3.9/dist-packages (from spacy<3.1.0,>=3.0.0->en-core-web-lg==3.0.0) (0.7.9)\n",
            "Requirement already satisfied: murmurhash<1.1.0,>=0.28.0 in /usr/local/lib/python3.9/dist-packages (from spacy<3.1.0,>=3.0.0->en-core-web-lg==3.0.0) (1.0.9)\n",
            "Requirement already satisfied: typer<0.4.0,>=0.3.0 in /usr/local/lib/python3.9/dist-packages (from spacy<3.1.0,>=3.0.0->en-core-web-lg==3.0.0) (0.3.2)\n",
            "Requirement already satisfied: numpy>=1.15.0 in /usr/local/lib/python3.9/dist-packages (from spacy<3.1.0,>=3.0.0->en-core-web-lg==3.0.0) (1.24.2)\n",
            "Requirement already satisfied: setuptools in /usr/local/lib/python3.9/dist-packages (from spacy<3.1.0,>=3.0.0->en-core-web-lg==3.0.0) (67.6.1)\n",
            "Requirement already satisfied: srsly<3.0.0,>=2.4.1 in /usr/local/lib/python3.9/dist-packages (from spacy<3.1.0,>=3.0.0->en-core-web-lg==3.0.0) (2.4.6)\n",
            "Requirement already satisfied: tqdm<5.0.0,>=4.38.0 in /usr/local/lib/python3.9/dist-packages (from spacy<3.1.0,>=3.0.0->en-core-web-lg==3.0.0) (4.65.0)\n",
            "Requirement already satisfied: requests<3.0.0,>=2.13.0 in /usr/local/lib/python3.9/dist-packages (from spacy<3.1.0,>=3.0.0->en-core-web-lg==3.0.0) (2.27.1)\n",
            "Requirement already satisfied: jinja2 in /usr/local/lib/python3.9/dist-packages (from spacy<3.1.0,>=3.0.0->en-core-web-lg==3.0.0) (3.1.2)\n",
            "Requirement already satisfied: preshed<3.1.0,>=3.0.2 in /usr/local/lib/python3.9/dist-packages (from spacy<3.1.0,>=3.0.0->en-core-web-lg==3.0.0) (3.0.8)\n",
            "Requirement already satisfied: cymem<2.1.0,>=2.0.2 in /usr/local/lib/python3.9/dist-packages (from spacy<3.1.0,>=3.0.0->en-core-web-lg==3.0.0) (2.0.7)\n",
            "Requirement already satisfied: pydantic<1.8.0,>=1.7.1 in /usr/local/lib/python3.9/dist-packages (from spacy<3.1.0,>=3.0.0->en-core-web-lg==3.0.0) (1.7.4)\n",
            "Requirement already satisfied: spacy-legacy<3.1.0,>=3.0.4 in /usr/local/lib/python3.9/dist-packages (from spacy<3.1.0,>=3.0.0->en-core-web-lg==3.0.0) (3.0.12)\n",
            "Requirement already satisfied: catalogue<2.1.0,>=2.0.3 in /usr/local/lib/python3.9/dist-packages (from spacy<3.1.0,>=3.0.0->en-core-web-lg==3.0.0) (2.0.8)\n",
            "Requirement already satisfied: thinc<8.1.0,>=8.0.3 in /usr/local/lib/python3.9/dist-packages (from spacy<3.1.0,>=3.0.0->en-core-web-lg==3.0.0) (8.0.17)\n",
            "Requirement already satisfied: smart-open<7.0.0,>=5.2.1 in /usr/local/lib/python3.9/dist-packages (from pathy>=0.3.5->spacy<3.1.0,>=3.0.0->en-core-web-lg==3.0.0) (6.3.0)\n",
            "Requirement already satisfied: charset-normalizer~=2.0.0 in /usr/local/lib/python3.9/dist-packages (from requests<3.0.0,>=2.13.0->spacy<3.1.0,>=3.0.0->en-core-web-lg==3.0.0) (2.0.12)\n",
            "Requirement already satisfied: certifi>=2017.4.17 in /usr/local/lib/python3.9/dist-packages (from requests<3.0.0,>=2.13.0->spacy<3.1.0,>=3.0.0->en-core-web-lg==3.0.0) (2022.12.7)\n",
            "Requirement already satisfied: idna<4,>=2.5 in /usr/local/lib/python3.9/dist-packages (from requests<3.0.0,>=2.13.0->spacy<3.1.0,>=3.0.0->en-core-web-lg==3.0.0) (3.4)\n",
            "Requirement already satisfied: urllib3<1.27,>=1.21.1 in /usr/local/lib/python3.9/dist-packages (from requests<3.0.0,>=2.13.0->spacy<3.1.0,>=3.0.0->en-core-web-lg==3.0.0) (1.26.15)\n",
            "Requirement already satisfied: click<7.2.0,>=7.1.1 in /usr/local/lib/python3.9/dist-packages (from typer<0.4.0,>=0.3.0->spacy<3.1.0,>=3.0.0->en-core-web-lg==3.0.0) (7.1.2)\n",
            "Requirement already satisfied: MarkupSafe>=2.0 in /usr/local/lib/python3.9/dist-packages (from jinja2->spacy<3.1.0,>=3.0.0->en-core-web-lg==3.0.0) (2.1.2)\n",
            "Installing collected packages: en-core-web-lg\n",
            "Successfully installed en-core-web-lg-3.0.0\n",
            "\u001b[38;5;2m✔ Download and installation successful\u001b[0m\n",
            "You can now load the package via spacy.load('en_core_web_lg')\n"
          ]
        }
      ]
    },
    {
      "cell_type": "markdown",
      "metadata": {
        "id": "IZzqQLfH8xV7"
      },
      "source": [
        "## Importa as bibliotecas"
      ]
    },
    {
      "cell_type": "code",
      "metadata": {
        "id": "BGFVnIzQGrEH"
      },
      "source": [
        "# Importando as bibliotecas.\n",
        "import spacy \n",
        "from spacy  import displacy\n",
        "\n",
        "logging.info('Import realizado!')"
      ],
      "execution_count": 5,
      "outputs": []
    },
    {
      "cell_type": "markdown",
      "metadata": {
        "id": "_DCJI8rd-YY0"
      },
      "source": [
        "##Carrega o modelo em inglês. \n",
        "\n",
        "Outros modelos estão disponíveis em https://spacy.io/models\n",
        "\n",
        "Para tornar os modelos compactos e rápidos, os modelos pequenos do spaCy (todos os pacotes que terminam em **sm**(small) não contêm  vetores de palavras e incluem apenas tensores sensíveis ao contexto. \n"
      ]
    },
    {
      "cell_type": "code",
      "metadata": {
        "id": "sarerq3C-b5B"
      },
      "source": [
        "# Instala somente os pipelines necessários \n",
        "#nlp = spacy.load(ARQUIVOMODELOSPACY, disable=['tokenizer', 'lemmatizer', 'ner', 'parser', 'textcat', 'custom'])\n",
        "\n",
        "nlp = spacy.load(ARQUIVOMODELOSPACY) \n",
        "\n",
        "logging.info('Modelo carregado !')"
      ],
      "execution_count": 6,
      "outputs": []
    },
    {
      "cell_type": "markdown",
      "metadata": {
        "id": "lIjF4JyJVbdr"
      },
      "source": [
        "# 3 Frase a ser analisada"
      ]
    },
    {
      "cell_type": "code",
      "metadata": {
        "id": "DpdLO64TVObM"
      },
      "source": [
        "document = u\"Wall Street Journal just published an interesting piece on crypto currencies. What is crypto currencies?\""
      ],
      "execution_count": 7,
      "outputs": []
    },
    {
      "cell_type": "markdown",
      "metadata": {
        "id": "g771s17Cjr6Q"
      },
      "source": [
        "##Armazena um texto.\n",
        "\n",
        "Com duas frases(sentenças)."
      ]
    },
    {
      "cell_type": "code",
      "metadata": {
        "id": "8FEGlAMwjuQy"
      },
      "source": [
        "doc = nlp(document)\n",
        "logging.info('Texto armazenado!')"
      ],
      "execution_count": 8,
      "outputs": []
    },
    {
      "cell_type": "markdown",
      "metadata": {
        "id": "Tu8rmnCEjzhE"
      },
      "source": [
        "##Separando o texto em uma lista de tokens.\n",
        "\n"
      ]
    },
    {
      "cell_type": "code",
      "metadata": {
        "id": "B5UhFBLoj0GK",
        "colab": {
          "base_uri": "https://localhost:8080/"
        },
        "outputId": "c2fb721f-32c1-48df-880f-67a97fb2d9e4"
      },
      "source": [
        ">>> [token.orth_ for token in doc]"
      ],
      "execution_count": 9,
      "outputs": [
        {
          "output_type": "execute_result",
          "data": {
            "text/plain": [
              "['Wall',\n",
              " 'Street',\n",
              " 'Journal',\n",
              " 'just',\n",
              " 'published',\n",
              " 'an',\n",
              " 'interesting',\n",
              " 'piece',\n",
              " 'on',\n",
              " 'crypto',\n",
              " 'currencies',\n",
              " '.',\n",
              " 'What',\n",
              " 'is',\n",
              " 'crypto',\n",
              " 'currencies',\n",
              " '?']"
            ]
          },
          "metadata": {},
          "execution_count": 9
        }
      ]
    },
    {
      "cell_type": "markdown",
      "metadata": {
        "id": "FHd7CqIHWVrs"
      },
      "source": [
        "##Separando o texto em uma lista de palavras"
      ]
    },
    {
      "cell_type": "code",
      "metadata": {
        "id": "xhL5CexYWU08",
        "colab": {
          "base_uri": "https://localhost:8080/"
        },
        "outputId": "18f59c05-e2ca-4626-d57d-b996f9b2ee14"
      },
      "source": [
        "doc.text.split()"
      ],
      "execution_count": 10,
      "outputs": [
        {
          "output_type": "execute_result",
          "data": {
            "text/plain": [
              "['Wall',\n",
              " 'Street',\n",
              " 'Journal',\n",
              " 'just',\n",
              " 'published',\n",
              " 'an',\n",
              " 'interesting',\n",
              " 'piece',\n",
              " 'on',\n",
              " 'crypto',\n",
              " 'currencies.',\n",
              " 'What',\n",
              " 'is',\n",
              " 'crypto',\n",
              " 'currencies?']"
            ]
          },
          "metadata": {},
          "execution_count": 10
        }
      ]
    },
    {
      "cell_type": "markdown",
      "metadata": {
        "id": "yvGrdfchknQt"
      },
      "source": [
        "##Verificando se a palavra é um verbo."
      ]
    },
    {
      "cell_type": "code",
      "metadata": {
        "id": "Tq0jKcd7kp-n",
        "colab": {
          "base_uri": "https://localhost:8080/"
        },
        "outputId": "0cc9d16a-eea4-4729-98fa-2efbe1689489"
      },
      "source": [
        "[(token.text, token.pos_ == 'VERB') for token in doc]"
      ],
      "execution_count": 11,
      "outputs": [
        {
          "output_type": "execute_result",
          "data": {
            "text/plain": [
              "[('Wall', False),\n",
              " ('Street', False),\n",
              " ('Journal', False),\n",
              " ('just', False),\n",
              " ('published', True),\n",
              " ('an', False),\n",
              " ('interesting', False),\n",
              " ('piece', False),\n",
              " ('on', False),\n",
              " ('crypto', False),\n",
              " ('currencies', False),\n",
              " ('.', False),\n",
              " ('What', False),\n",
              " ('is', False),\n",
              " ('crypto', False),\n",
              " ('currencies', False),\n",
              " ('?', False)]"
            ]
          },
          "metadata": {},
          "execution_count": 11
        }
      ]
    },
    {
      "cell_type": "markdown",
      "metadata": {
        "id": "x7QqVueRkyOS"
      },
      "source": [
        "##Identificando o infinitivo dos verbos."
      ]
    },
    {
      "cell_type": "code",
      "metadata": {
        "id": "2bzgquPBky1x",
        "colab": {
          "base_uri": "https://localhost:8080/"
        },
        "outputId": "37d825f2-ddca-4254-8ff0-9b6a45f23f1e"
      },
      "source": [
        "[(token.text, token.lemma_) for token in doc if token.pos_ == 'VERB']"
      ],
      "execution_count": 12,
      "outputs": [
        {
          "output_type": "execute_result",
          "data": {
            "text/plain": [
              "[('published', 'publish')]"
            ]
          },
          "metadata": {},
          "execution_count": 12
        }
      ]
    },
    {
      "cell_type": "markdown",
      "metadata": {
        "id": "yazH-uzZk8vQ"
      },
      "source": [
        "##Verificando se a palavra da frase é uma pontuação."
      ]
    },
    {
      "cell_type": "code",
      "metadata": {
        "id": "427rrsWek_-x",
        "colab": {
          "base_uri": "https://localhost:8080/"
        },
        "outputId": "76020b04-81ae-4671-e79b-2ebf5acbe1fe"
      },
      "source": [
        "[(token.text, token.is_punct) for token in doc]"
      ],
      "execution_count": 13,
      "outputs": [
        {
          "output_type": "execute_result",
          "data": {
            "text/plain": [
              "[('Wall', False),\n",
              " ('Street', False),\n",
              " ('Journal', False),\n",
              " ('just', False),\n",
              " ('published', False),\n",
              " ('an', False),\n",
              " ('interesting', False),\n",
              " ('piece', False),\n",
              " ('on', False),\n",
              " ('crypto', False),\n",
              " ('currencies', False),\n",
              " ('.', True),\n",
              " ('What', False),\n",
              " ('is', False),\n",
              " ('crypto', False),\n",
              " ('currencies', False),\n",
              " ('?', True)]"
            ]
          },
          "metadata": {},
          "execution_count": 13
        }
      ]
    },
    {
      "cell_type": "markdown",
      "metadata": {
        "id": "DvRTdi50lLrX"
      },
      "source": [
        "##Identificando as classes gramaticais das palavras.\n",
        "\n",
        "O significado das classes estão em: https://spacy.io/api/annotation#pos-tagging\n"
      ]
    },
    {
      "cell_type": "code",
      "metadata": {
        "id": "5YhWKL4ilNoc",
        "colab": {
          "base_uri": "https://localhost:8080/"
        },
        "outputId": "af807f3d-61b9-4200-bccf-80f0f573e5f0"
      },
      "source": [
        "[(token.text, token.pos_) for token in doc]"
      ],
      "execution_count": 14,
      "outputs": [
        {
          "output_type": "execute_result",
          "data": {
            "text/plain": [
              "[('Wall', 'PROPN'),\n",
              " ('Street', 'PROPN'),\n",
              " ('Journal', 'PROPN'),\n",
              " ('just', 'ADV'),\n",
              " ('published', 'VERB'),\n",
              " ('an', 'DET'),\n",
              " ('interesting', 'ADJ'),\n",
              " ('piece', 'NOUN'),\n",
              " ('on', 'ADP'),\n",
              " ('crypto', 'ADJ'),\n",
              " ('currencies', 'NOUN'),\n",
              " ('.', 'PUNCT'),\n",
              " ('What', 'PRON'),\n",
              " ('is', 'AUX'),\n",
              " ('crypto', 'ADJ'),\n",
              " ('currencies', 'NOUN'),\n",
              " ('?', 'PUNCT')]"
            ]
          },
          "metadata": {},
          "execution_count": 14
        }
      ]
    },
    {
      "cell_type": "markdown",
      "metadata": {
        "id": "rd6sIh0bXQuP"
      },
      "source": [
        "## Ancestrais"
      ]
    },
    {
      "cell_type": "code",
      "metadata": {
        "id": "S8wvoA4HXSIj",
        "colab": {
          "base_uri": "https://localhost:8080/"
        },
        "outputId": "c088c8b5-fa21-4b49-f5ab-2bc5dd2cdd12"
      },
      "source": [
        "tokens = [token for token in doc]\n",
        "tokens[0].is_ancestor(tokens[2])"
      ],
      "execution_count": 15,
      "outputs": [
        {
          "output_type": "execute_result",
          "data": {
            "text/plain": [
              "False"
            ]
          },
          "metadata": {},
          "execution_count": 15
        }
      ]
    },
    {
      "cell_type": "markdown",
      "metadata": {
        "id": "xFqMaIEolR2T"
      },
      "source": [
        "##Identificando as sentenças em um texto."
      ]
    },
    {
      "cell_type": "markdown",
      "metadata": {
        "id": "KfqTTg4TC2z7"
      },
      "source": [
        "Mostra as frases de um texto."
      ]
    },
    {
      "cell_type": "code",
      "metadata": {
        "id": "05o-JE5RlUCQ",
        "colab": {
          "base_uri": "https://localhost:8080/"
        },
        "outputId": "e757dd31-f181-4f0e-9084-fbdc8fdc2273"
      },
      "source": [
        "for sentencas in doc.sents:\n",
        "    print(sentencas)"
      ],
      "execution_count": 16,
      "outputs": [
        {
          "output_type": "stream",
          "name": "stdout",
          "text": [
            "Wall Street Journal just published an interesting piece on crypto currencies.\n",
            "What is crypto currencies?\n"
          ]
        }
      ]
    },
    {
      "cell_type": "markdown",
      "metadata": {
        "id": "xwml1YkDlXPf"
      },
      "source": [
        "##Identificando as entidades. (NER/Named Entity Recognition)\n",
        "\n",
        "**Text**: o texto original da entidade.<br>\n",
        "**Start**: Índice de início da entidade no Doc.<br>\n",
        "**End**: Índice do fim da entidade no Doc.<br>\n",
        "**Label**: rótulo da entidade, ou seja, tipo.<br>\n",
        "\n",
        "https://medium.com/botsbrasil/como-reconhecer-entidades-na-l%C3%ADngua-portuguesa-usando-spacy-8a5ca6f42c4f"
      ]
    },
    {
      "cell_type": "markdown",
      "metadata": {
        "id": "3NRQb-Gp5EAP"
      },
      "source": [
        "### Listando as entidades identificadas"
      ]
    },
    {
      "cell_type": "code",
      "metadata": {
        "id": "OCUsoS4En0JK",
        "colab": {
          "base_uri": "https://localhost:8080/"
        },
        "outputId": "f31486f7-8fb2-4611-e813-e253db27fff2"
      },
      "source": [
        "for ent in doc.ents:\n",
        "   print(ent.text, ent.start_char, ent.end_char, ent.label_)"
      ],
      "execution_count": 17,
      "outputs": [
        {
          "output_type": "stream",
          "name": "stdout",
          "text": [
            "Wall Street Journal 0 19 ORG\n"
          ]
        }
      ]
    },
    {
      "cell_type": "markdown",
      "metadata": {
        "id": "ww1JVrsEn2ck"
      },
      "source": [
        "ou"
      ]
    },
    {
      "cell_type": "code",
      "metadata": {
        "id": "gIytTFrXlZOU",
        "colab": {
          "base_uri": "https://localhost:8080/"
        },
        "outputId": "1e607eb0-b078-415c-bd4f-af8d0dc1e4a1"
      },
      "source": [
        "[(entity, entity.label_) for entity in doc.ents]"
      ],
      "execution_count": 18,
      "outputs": [
        {
          "output_type": "execute_result",
          "data": {
            "text/plain": [
              "[(Wall Street Journal, 'ORG')]"
            ]
          },
          "metadata": {},
          "execution_count": 18
        }
      ]
    },
    {
      "cell_type": "markdown",
      "metadata": {
        "id": "p0YyQMqVlcb3"
      },
      "source": [
        "###Checando similaridade entre as entidades."
      ]
    },
    {
      "cell_type": "code",
      "metadata": {
        "id": "5PjI4zm6lpTB",
        "colab": {
          "base_uri": "https://localhost:8080/"
        },
        "outputId": "2b33f329-92b7-4a7d-b795-2d0064f534a6"
      },
      "source": [
        "#retorna as entidades de doc\n",
        "entities = [entity for entity in doc.ents]\n",
        "\n",
        "if len(doc.ents) > 1:\n",
        "  print('Similaridade entre entities[0]=[' + str(entities[0]) + '] e entities[0]=[' + str(entities[0]) + ']: %.4g'%(entities[0].similarity(entities[0]) * 100), \"%\")\n",
        "  print('Similaridade entre entities[0]=[' + str(entities[0]) + '] e entities[1]=[' + str(entities[1]) + ']: %.4g'%(entities[0].similarity(entities[1]) * 100), \"%\")\n",
        "else:\n",
        "  print('Similaridade entre entities[0]=[' + str(entities[0]) + '] e entities[0]=[' + str(entities[0]) + ']: %.4g'%(entities[0].similarity(entities[0]) * 100), \"%\")"
      ],
      "execution_count": 19,
      "outputs": [
        {
          "output_type": "stream",
          "name": "stdout",
          "text": [
            "Similaridade entre entities[0]=[Wall Street Journal] e entities[0]=[Wall Street Journal]: 100 %\n"
          ]
        }
      ]
    },
    {
      "cell_type": "markdown",
      "metadata": {
        "id": "hsNEv69c-sms"
      },
      "source": [
        "##POS tagging / Analisando a frase\n",
        "\n",
        "https://medium.com/greyatom/learning-pos-tagging-chunking-in-nlp-85f7f811a8cb\n",
        "\n",
        "**Text**: o texto original da palavra.<br>\n",
        "**Lema**: A forma base da palavra.<br>\n",
        "**POS**: A tag simples da parte do discurso. O significado das classes estão em: https://spacy.io/api/annotation#pos-tagging<br>\n",
        "**Tag**: A etiqueta detalhada da parte do discurso.<br>\n",
        "**Dep**: Dependência sintática, ou seja, a relação entre tokens.<br>\n",
        "**Shape**: A forma da palavra - letras maiúsculas, pontuação e dígitos.<br>\n",
        "**is alpha**: o token é um caractere alfa?<br>\n",
        "**is stop**: o token faz parte de uma lista de paradas, ou seja, as palavras mais comuns do idioma?<br> "
      ]
    },
    {
      "cell_type": "code",
      "metadata": {
        "id": "T7pDkLR--rtj",
        "colab": {
          "base_uri": "https://localhost:8080/"
        },
        "outputId": "fe42dcca-4cd4-4a9e-8f7d-e731940eea29"
      },
      "source": [
        "for token in doc:\n",
        "    print(token.text, token.lemma_, token.pos_, token.tag_, token.dep_,token.shape_,token.is_alpha, token.is_stop)"
      ],
      "execution_count": 20,
      "outputs": [
        {
          "output_type": "stream",
          "name": "stdout",
          "text": [
            "Wall Wall PROPN NNP compound Xxxx True False\n",
            "Street Street PROPN NNP compound Xxxxx True False\n",
            "Journal Journal PROPN NNP nsubj Xxxxx True False\n",
            "just just ADV RB advmod xxxx True True\n",
            "published publish VERB VBD ROOT xxxx True False\n",
            "an an DET DT det xx True True\n",
            "interesting interesting ADJ JJ amod xxxx True False\n",
            "piece piece NOUN NN dobj xxxx True False\n",
            "on on ADP IN prep xx True True\n",
            "crypto crypto ADJ JJ amod xxxx True False\n",
            "currencies currency NOUN NNS pobj xxxx True False\n",
            ". . PUNCT . punct . False False\n",
            "What what PRON WP attr Xxxx True True\n",
            "is be AUX VBZ ROOT xx True True\n",
            "crypto crypto ADJ JJ amod xxxx True False\n",
            "currencies currency NOUN NNS nsubj xxxx True False\n",
            "? ? PUNCT . punct ? False False\n"
          ]
        }
      ]
    },
    {
      "cell_type": "markdown",
      "metadata": {
        "id": "8qZjNop31a0H"
      },
      "source": [
        "ou partes"
      ]
    },
    {
      "cell_type": "code",
      "metadata": {
        "id": "_GXoEH00uWuD",
        "colab": {
          "base_uri": "https://localhost:8080/"
        },
        "outputId": "b205df88-bd66-4662-f590-a8e5173ba0af"
      },
      "source": [
        "print([(token.text, token.tag_) for token in doc])"
      ],
      "execution_count": 21,
      "outputs": [
        {
          "output_type": "stream",
          "name": "stdout",
          "text": [
            "[('Wall', 'NNP'), ('Street', 'NNP'), ('Journal', 'NNP'), ('just', 'RB'), ('published', 'VBD'), ('an', 'DT'), ('interesting', 'JJ'), ('piece', 'NN'), ('on', 'IN'), ('crypto', 'JJ'), ('currencies', 'NNS'), ('.', '.'), ('What', 'WP'), ('is', 'VBZ'), ('crypto', 'JJ'), ('currencies', 'NNS'), ('?', '.')]\n"
          ]
        }
      ]
    },
    {
      "cell_type": "markdown",
      "metadata": {
        "id": "b_S7dH_Fuhzc"
      },
      "source": [
        "##Noun Chunking / Substantivos\n",
        "\n",
        "Os substantivos são \"frases substantivas de base\" - frases simples que têm um substantivo como principal. Você pode pensar em blocos de substantivos como um substantivo, além das palavras que descrevem o substantivo - por exemplo, \"a luxuosa grama verde\" ou \"o maior fundo de tecnologia do mundo\". \n",
        "\n",
        "**Text**: o texto original do pedaço do substantivo.<br>\n",
        "**Root text**: o texto original da palavra que conecta o pedaço do substantivo ao restante da análise.<br>\n",
        "**Root dep**: relação de dependência que conecta a raiz à sua cabeça.<br>\n",
        "**Root head text**: o texto do cabeçalho do token raiz.<br>\n",
        "\n",
        "https://medium.com/greyatom/learning-pos-tagging-chunking-in-nlp-85f7f811a8cb"
      ]
    },
    {
      "cell_type": "code",
      "metadata": {
        "id": "m0-La0BCt1Y_",
        "colab": {
          "base_uri": "https://localhost:8080/"
        },
        "outputId": "34cbd3c6-b5a6-4c2d-f8db-4c24b83fd79a"
      },
      "source": [
        "for chunk in doc.noun_chunks:    \n",
        "    print(chunk.text, chunk.label_, chunk.root.text, chunk.root.dep_,chunk.root.head.text)"
      ],
      "execution_count": 22,
      "outputs": [
        {
          "output_type": "stream",
          "name": "stdout",
          "text": [
            "Wall Street Journal NP Journal nsubj published\n",
            "an interesting piece NP piece dobj published\n",
            "crypto currencies NP currencies pobj on\n",
            "What NP What attr is\n",
            "crypto currencies NP currencies nsubj is\n"
          ]
        }
      ]
    },
    {
      "cell_type": "markdown",
      "metadata": {
        "id": "FRK6pMzJ-ypZ"
      },
      "source": [
        "##Visualizando as dependências\n",
        "\n",
        "Éo processo de representar as dependências do texto através das relações entre os tokens. Por exemplo: um artigo está ligado a um substantivo, um advérbio modifica um verbo, e assim por diante.\n",
        "\n",
        "O significado das classes estão em: https://spacy.io/api/annotation#pos-tagging"
      ]
    },
    {
      "cell_type": "code",
      "metadata": {
        "id": "O4lMhC2L-0Ip",
        "colab": {
          "base_uri": "https://localhost:8080/",
          "height": 306
        },
        "outputId": "7fffff24-a7c2-46c9-94a6-07a2815b77b4"
      },
      "source": [
        "displacy.render(doc, style='dep', jupyter=True, options={'distance': 85})\n"
      ],
      "execution_count": 23,
      "outputs": [
        {
          "output_type": "display_data",
          "data": {
            "text/plain": [
              "<IPython.core.display.HTML object>"
            ],
            "text/html": [
              "<span class=\"tex2jax_ignore\"><svg xmlns=\"http://www.w3.org/2000/svg\" xmlns:xlink=\"http://www.w3.org/1999/xlink\" xml:lang=\"en\" id=\"3caf2a51b60c4cf0a6392e93f4e1f4dd-0\" class=\"displacy\" width=\"1325\" height=\"264.5\" direction=\"ltr\" style=\"max-width: none; height: 264.5px; color: #000000; background: #ffffff; font-family: Arial; direction: ltr\">\n",
              "<text class=\"displacy-token\" fill=\"currentColor\" text-anchor=\"middle\" y=\"174.5\">\n",
              "    <tspan class=\"displacy-word\" fill=\"currentColor\" x=\"50\">Wall</tspan>\n",
              "    <tspan class=\"displacy-tag\" dy=\"2em\" fill=\"currentColor\" x=\"50\">PROPN</tspan>\n",
              "</text>\n",
              "\n",
              "<text class=\"displacy-token\" fill=\"currentColor\" text-anchor=\"middle\" y=\"174.5\">\n",
              "    <tspan class=\"displacy-word\" fill=\"currentColor\" x=\"135\">Street</tspan>\n",
              "    <tspan class=\"displacy-tag\" dy=\"2em\" fill=\"currentColor\" x=\"135\">PROPN</tspan>\n",
              "</text>\n",
              "\n",
              "<text class=\"displacy-token\" fill=\"currentColor\" text-anchor=\"middle\" y=\"174.5\">\n",
              "    <tspan class=\"displacy-word\" fill=\"currentColor\" x=\"220\">Journal</tspan>\n",
              "    <tspan class=\"displacy-tag\" dy=\"2em\" fill=\"currentColor\" x=\"220\">PROPN</tspan>\n",
              "</text>\n",
              "\n",
              "<text class=\"displacy-token\" fill=\"currentColor\" text-anchor=\"middle\" y=\"174.5\">\n",
              "    <tspan class=\"displacy-word\" fill=\"currentColor\" x=\"305\">just</tspan>\n",
              "    <tspan class=\"displacy-tag\" dy=\"2em\" fill=\"currentColor\" x=\"305\">ADV</tspan>\n",
              "</text>\n",
              "\n",
              "<text class=\"displacy-token\" fill=\"currentColor\" text-anchor=\"middle\" y=\"174.5\">\n",
              "    <tspan class=\"displacy-word\" fill=\"currentColor\" x=\"390\">published</tspan>\n",
              "    <tspan class=\"displacy-tag\" dy=\"2em\" fill=\"currentColor\" x=\"390\">VERB</tspan>\n",
              "</text>\n",
              "\n",
              "<text class=\"displacy-token\" fill=\"currentColor\" text-anchor=\"middle\" y=\"174.5\">\n",
              "    <tspan class=\"displacy-word\" fill=\"currentColor\" x=\"475\">an</tspan>\n",
              "    <tspan class=\"displacy-tag\" dy=\"2em\" fill=\"currentColor\" x=\"475\">DET</tspan>\n",
              "</text>\n",
              "\n",
              "<text class=\"displacy-token\" fill=\"currentColor\" text-anchor=\"middle\" y=\"174.5\">\n",
              "    <tspan class=\"displacy-word\" fill=\"currentColor\" x=\"560\">interesting</tspan>\n",
              "    <tspan class=\"displacy-tag\" dy=\"2em\" fill=\"currentColor\" x=\"560\">ADJ</tspan>\n",
              "</text>\n",
              "\n",
              "<text class=\"displacy-token\" fill=\"currentColor\" text-anchor=\"middle\" y=\"174.5\">\n",
              "    <tspan class=\"displacy-word\" fill=\"currentColor\" x=\"645\">piece</tspan>\n",
              "    <tspan class=\"displacy-tag\" dy=\"2em\" fill=\"currentColor\" x=\"645\">NOUN</tspan>\n",
              "</text>\n",
              "\n",
              "<text class=\"displacy-token\" fill=\"currentColor\" text-anchor=\"middle\" y=\"174.5\">\n",
              "    <tspan class=\"displacy-word\" fill=\"currentColor\" x=\"730\">on</tspan>\n",
              "    <tspan class=\"displacy-tag\" dy=\"2em\" fill=\"currentColor\" x=\"730\">ADP</tspan>\n",
              "</text>\n",
              "\n",
              "<text class=\"displacy-token\" fill=\"currentColor\" text-anchor=\"middle\" y=\"174.5\">\n",
              "    <tspan class=\"displacy-word\" fill=\"currentColor\" x=\"815\">crypto</tspan>\n",
              "    <tspan class=\"displacy-tag\" dy=\"2em\" fill=\"currentColor\" x=\"815\">ADJ</tspan>\n",
              "</text>\n",
              "\n",
              "<text class=\"displacy-token\" fill=\"currentColor\" text-anchor=\"middle\" y=\"174.5\">\n",
              "    <tspan class=\"displacy-word\" fill=\"currentColor\" x=\"900\">currencies.</tspan>\n",
              "    <tspan class=\"displacy-tag\" dy=\"2em\" fill=\"currentColor\" x=\"900\">NOUN</tspan>\n",
              "</text>\n",
              "\n",
              "<text class=\"displacy-token\" fill=\"currentColor\" text-anchor=\"middle\" y=\"174.5\">\n",
              "    <tspan class=\"displacy-word\" fill=\"currentColor\" x=\"985\">What</tspan>\n",
              "    <tspan class=\"displacy-tag\" dy=\"2em\" fill=\"currentColor\" x=\"985\">PRON</tspan>\n",
              "</text>\n",
              "\n",
              "<text class=\"displacy-token\" fill=\"currentColor\" text-anchor=\"middle\" y=\"174.5\">\n",
              "    <tspan class=\"displacy-word\" fill=\"currentColor\" x=\"1070\">is</tspan>\n",
              "    <tspan class=\"displacy-tag\" dy=\"2em\" fill=\"currentColor\" x=\"1070\">AUX</tspan>\n",
              "</text>\n",
              "\n",
              "<text class=\"displacy-token\" fill=\"currentColor\" text-anchor=\"middle\" y=\"174.5\">\n",
              "    <tspan class=\"displacy-word\" fill=\"currentColor\" x=\"1155\">crypto</tspan>\n",
              "    <tspan class=\"displacy-tag\" dy=\"2em\" fill=\"currentColor\" x=\"1155\">ADJ</tspan>\n",
              "</text>\n",
              "\n",
              "<text class=\"displacy-token\" fill=\"currentColor\" text-anchor=\"middle\" y=\"174.5\">\n",
              "    <tspan class=\"displacy-word\" fill=\"currentColor\" x=\"1240\">currencies?</tspan>\n",
              "    <tspan class=\"displacy-tag\" dy=\"2em\" fill=\"currentColor\" x=\"1240\">NOUN</tspan>\n",
              "</text>\n",
              "\n",
              "<g class=\"displacy-arrow\">\n",
              "    <path class=\"displacy-arc\" id=\"arrow-3caf2a51b60c4cf0a6392e93f4e1f4dd-0-0\" stroke-width=\"2px\" d=\"M70,129.5 C70,87.0 125.0,87.0 125.0,129.5\" fill=\"none\" stroke=\"currentColor\"/>\n",
              "    <text dy=\"1.25em\" style=\"font-size: 0.8em; letter-spacing: 1px\">\n",
              "        <textPath xlink:href=\"#arrow-3caf2a51b60c4cf0a6392e93f4e1f4dd-0-0\" class=\"displacy-label\" startOffset=\"50%\" side=\"left\" fill=\"currentColor\" text-anchor=\"middle\">compound</textPath>\n",
              "    </text>\n",
              "    <path class=\"displacy-arrowhead\" d=\"M70,131.5 L62,119.5 78,119.5\" fill=\"currentColor\"/>\n",
              "</g>\n",
              "\n",
              "<g class=\"displacy-arrow\">\n",
              "    <path class=\"displacy-arc\" id=\"arrow-3caf2a51b60c4cf0a6392e93f4e1f4dd-0-1\" stroke-width=\"2px\" d=\"M155,129.5 C155,87.0 210.0,87.0 210.0,129.5\" fill=\"none\" stroke=\"currentColor\"/>\n",
              "    <text dy=\"1.25em\" style=\"font-size: 0.8em; letter-spacing: 1px\">\n",
              "        <textPath xlink:href=\"#arrow-3caf2a51b60c4cf0a6392e93f4e1f4dd-0-1\" class=\"displacy-label\" startOffset=\"50%\" side=\"left\" fill=\"currentColor\" text-anchor=\"middle\">compound</textPath>\n",
              "    </text>\n",
              "    <path class=\"displacy-arrowhead\" d=\"M155,131.5 L147,119.5 163,119.5\" fill=\"currentColor\"/>\n",
              "</g>\n",
              "\n",
              "<g class=\"displacy-arrow\">\n",
              "    <path class=\"displacy-arc\" id=\"arrow-3caf2a51b60c4cf0a6392e93f4e1f4dd-0-2\" stroke-width=\"2px\" d=\"M240,129.5 C240,44.5 385.0,44.5 385.0,129.5\" fill=\"none\" stroke=\"currentColor\"/>\n",
              "    <text dy=\"1.25em\" style=\"font-size: 0.8em; letter-spacing: 1px\">\n",
              "        <textPath xlink:href=\"#arrow-3caf2a51b60c4cf0a6392e93f4e1f4dd-0-2\" class=\"displacy-label\" startOffset=\"50%\" side=\"left\" fill=\"currentColor\" text-anchor=\"middle\">nsubj</textPath>\n",
              "    </text>\n",
              "    <path class=\"displacy-arrowhead\" d=\"M240,131.5 L232,119.5 248,119.5\" fill=\"currentColor\"/>\n",
              "</g>\n",
              "\n",
              "<g class=\"displacy-arrow\">\n",
              "    <path class=\"displacy-arc\" id=\"arrow-3caf2a51b60c4cf0a6392e93f4e1f4dd-0-3\" stroke-width=\"2px\" d=\"M325,129.5 C325,87.0 380.0,87.0 380.0,129.5\" fill=\"none\" stroke=\"currentColor\"/>\n",
              "    <text dy=\"1.25em\" style=\"font-size: 0.8em; letter-spacing: 1px\">\n",
              "        <textPath xlink:href=\"#arrow-3caf2a51b60c4cf0a6392e93f4e1f4dd-0-3\" class=\"displacy-label\" startOffset=\"50%\" side=\"left\" fill=\"currentColor\" text-anchor=\"middle\">advmod</textPath>\n",
              "    </text>\n",
              "    <path class=\"displacy-arrowhead\" d=\"M325,131.5 L317,119.5 333,119.5\" fill=\"currentColor\"/>\n",
              "</g>\n",
              "\n",
              "<g class=\"displacy-arrow\">\n",
              "    <path class=\"displacy-arc\" id=\"arrow-3caf2a51b60c4cf0a6392e93f4e1f4dd-0-4\" stroke-width=\"2px\" d=\"M495,129.5 C495,44.5 640.0,44.5 640.0,129.5\" fill=\"none\" stroke=\"currentColor\"/>\n",
              "    <text dy=\"1.25em\" style=\"font-size: 0.8em; letter-spacing: 1px\">\n",
              "        <textPath xlink:href=\"#arrow-3caf2a51b60c4cf0a6392e93f4e1f4dd-0-4\" class=\"displacy-label\" startOffset=\"50%\" side=\"left\" fill=\"currentColor\" text-anchor=\"middle\">det</textPath>\n",
              "    </text>\n",
              "    <path class=\"displacy-arrowhead\" d=\"M495,131.5 L487,119.5 503,119.5\" fill=\"currentColor\"/>\n",
              "</g>\n",
              "\n",
              "<g class=\"displacy-arrow\">\n",
              "    <path class=\"displacy-arc\" id=\"arrow-3caf2a51b60c4cf0a6392e93f4e1f4dd-0-5\" stroke-width=\"2px\" d=\"M580,129.5 C580,87.0 635.0,87.0 635.0,129.5\" fill=\"none\" stroke=\"currentColor\"/>\n",
              "    <text dy=\"1.25em\" style=\"font-size: 0.8em; letter-spacing: 1px\">\n",
              "        <textPath xlink:href=\"#arrow-3caf2a51b60c4cf0a6392e93f4e1f4dd-0-5\" class=\"displacy-label\" startOffset=\"50%\" side=\"left\" fill=\"currentColor\" text-anchor=\"middle\">amod</textPath>\n",
              "    </text>\n",
              "    <path class=\"displacy-arrowhead\" d=\"M580,131.5 L572,119.5 588,119.5\" fill=\"currentColor\"/>\n",
              "</g>\n",
              "\n",
              "<g class=\"displacy-arrow\">\n",
              "    <path class=\"displacy-arc\" id=\"arrow-3caf2a51b60c4cf0a6392e93f4e1f4dd-0-6\" stroke-width=\"2px\" d=\"M410,129.5 C410,2.0 645.0,2.0 645.0,129.5\" fill=\"none\" stroke=\"currentColor\"/>\n",
              "    <text dy=\"1.25em\" style=\"font-size: 0.8em; letter-spacing: 1px\">\n",
              "        <textPath xlink:href=\"#arrow-3caf2a51b60c4cf0a6392e93f4e1f4dd-0-6\" class=\"displacy-label\" startOffset=\"50%\" side=\"left\" fill=\"currentColor\" text-anchor=\"middle\">dobj</textPath>\n",
              "    </text>\n",
              "    <path class=\"displacy-arrowhead\" d=\"M645.0,131.5 L653.0,119.5 637.0,119.5\" fill=\"currentColor\"/>\n",
              "</g>\n",
              "\n",
              "<g class=\"displacy-arrow\">\n",
              "    <path class=\"displacy-arc\" id=\"arrow-3caf2a51b60c4cf0a6392e93f4e1f4dd-0-7\" stroke-width=\"2px\" d=\"M665,129.5 C665,87.0 720.0,87.0 720.0,129.5\" fill=\"none\" stroke=\"currentColor\"/>\n",
              "    <text dy=\"1.25em\" style=\"font-size: 0.8em; letter-spacing: 1px\">\n",
              "        <textPath xlink:href=\"#arrow-3caf2a51b60c4cf0a6392e93f4e1f4dd-0-7\" class=\"displacy-label\" startOffset=\"50%\" side=\"left\" fill=\"currentColor\" text-anchor=\"middle\">prep</textPath>\n",
              "    </text>\n",
              "    <path class=\"displacy-arrowhead\" d=\"M720.0,131.5 L728.0,119.5 712.0,119.5\" fill=\"currentColor\"/>\n",
              "</g>\n",
              "\n",
              "<g class=\"displacy-arrow\">\n",
              "    <path class=\"displacy-arc\" id=\"arrow-3caf2a51b60c4cf0a6392e93f4e1f4dd-0-8\" stroke-width=\"2px\" d=\"M835,129.5 C835,87.0 890.0,87.0 890.0,129.5\" fill=\"none\" stroke=\"currentColor\"/>\n",
              "    <text dy=\"1.25em\" style=\"font-size: 0.8em; letter-spacing: 1px\">\n",
              "        <textPath xlink:href=\"#arrow-3caf2a51b60c4cf0a6392e93f4e1f4dd-0-8\" class=\"displacy-label\" startOffset=\"50%\" side=\"left\" fill=\"currentColor\" text-anchor=\"middle\">amod</textPath>\n",
              "    </text>\n",
              "    <path class=\"displacy-arrowhead\" d=\"M835,131.5 L827,119.5 843,119.5\" fill=\"currentColor\"/>\n",
              "</g>\n",
              "\n",
              "<g class=\"displacy-arrow\">\n",
              "    <path class=\"displacy-arc\" id=\"arrow-3caf2a51b60c4cf0a6392e93f4e1f4dd-0-9\" stroke-width=\"2px\" d=\"M750,129.5 C750,44.5 895.0,44.5 895.0,129.5\" fill=\"none\" stroke=\"currentColor\"/>\n",
              "    <text dy=\"1.25em\" style=\"font-size: 0.8em; letter-spacing: 1px\">\n",
              "        <textPath xlink:href=\"#arrow-3caf2a51b60c4cf0a6392e93f4e1f4dd-0-9\" class=\"displacy-label\" startOffset=\"50%\" side=\"left\" fill=\"currentColor\" text-anchor=\"middle\">pobj</textPath>\n",
              "    </text>\n",
              "    <path class=\"displacy-arrowhead\" d=\"M895.0,131.5 L903.0,119.5 887.0,119.5\" fill=\"currentColor\"/>\n",
              "</g>\n",
              "\n",
              "<g class=\"displacy-arrow\">\n",
              "    <path class=\"displacy-arc\" id=\"arrow-3caf2a51b60c4cf0a6392e93f4e1f4dd-0-10\" stroke-width=\"2px\" d=\"M1005,129.5 C1005,87.0 1060.0,87.0 1060.0,129.5\" fill=\"none\" stroke=\"currentColor\"/>\n",
              "    <text dy=\"1.25em\" style=\"font-size: 0.8em; letter-spacing: 1px\">\n",
              "        <textPath xlink:href=\"#arrow-3caf2a51b60c4cf0a6392e93f4e1f4dd-0-10\" class=\"displacy-label\" startOffset=\"50%\" side=\"left\" fill=\"currentColor\" text-anchor=\"middle\">attr</textPath>\n",
              "    </text>\n",
              "    <path class=\"displacy-arrowhead\" d=\"M1005,131.5 L997,119.5 1013,119.5\" fill=\"currentColor\"/>\n",
              "</g>\n",
              "\n",
              "<g class=\"displacy-arrow\">\n",
              "    <path class=\"displacy-arc\" id=\"arrow-3caf2a51b60c4cf0a6392e93f4e1f4dd-0-11\" stroke-width=\"2px\" d=\"M1175,129.5 C1175,87.0 1230.0,87.0 1230.0,129.5\" fill=\"none\" stroke=\"currentColor\"/>\n",
              "    <text dy=\"1.25em\" style=\"font-size: 0.8em; letter-spacing: 1px\">\n",
              "        <textPath xlink:href=\"#arrow-3caf2a51b60c4cf0a6392e93f4e1f4dd-0-11\" class=\"displacy-label\" startOffset=\"50%\" side=\"left\" fill=\"currentColor\" text-anchor=\"middle\">amod</textPath>\n",
              "    </text>\n",
              "    <path class=\"displacy-arrowhead\" d=\"M1175,131.5 L1167,119.5 1183,119.5\" fill=\"currentColor\"/>\n",
              "</g>\n",
              "\n",
              "<g class=\"displacy-arrow\">\n",
              "    <path class=\"displacy-arc\" id=\"arrow-3caf2a51b60c4cf0a6392e93f4e1f4dd-0-12\" stroke-width=\"2px\" d=\"M1090,129.5 C1090,44.5 1235.0,44.5 1235.0,129.5\" fill=\"none\" stroke=\"currentColor\"/>\n",
              "    <text dy=\"1.25em\" style=\"font-size: 0.8em; letter-spacing: 1px\">\n",
              "        <textPath xlink:href=\"#arrow-3caf2a51b60c4cf0a6392e93f4e1f4dd-0-12\" class=\"displacy-label\" startOffset=\"50%\" side=\"left\" fill=\"currentColor\" text-anchor=\"middle\">nsubj</textPath>\n",
              "    </text>\n",
              "    <path class=\"displacy-arrowhead\" d=\"M1235.0,131.5 L1243.0,119.5 1227.0,119.5\" fill=\"currentColor\"/>\n",
              "</g>\n",
              "</svg></span>"
            ]
          },
          "metadata": {}
        }
      ]
    },
    {
      "cell_type": "markdown",
      "metadata": {
        "id": "W6alLd-DiG0g"
      },
      "source": [
        "# 4 Árvore de Análise"
      ]
    },
    {
      "cell_type": "code",
      "metadata": {
        "id": "Jzezf2lmhyaV",
        "colab": {
          "base_uri": "https://localhost:8080/"
        },
        "outputId": "ba14e384-0289-496e-928e-e3a10584fc69"
      },
      "source": [
        "from nltk import Tree\n",
        "\n",
        "def to_nltk_tree(node):\n",
        "    if node.n_lefts + node.n_rights > 0:\n",
        "        return Tree(node.orth_, [to_nltk_tree(child) for child in node.children])\n",
        "    else:\n",
        "        return node.orth_\n",
        "\n",
        "[to_nltk_tree(sent.root).pretty_print() for sent in doc.sents]"
      ],
      "execution_count": 24,
      "outputs": [
        {
          "output_type": "stream",
          "name": "stdout",
          "text": [
            "         published                           \n",
            "  ___________|______________                  \n",
            " |    |      |            piece              \n",
            " |    |      |       _______|__________       \n",
            " |    |   Journal   |       |          on    \n",
            " |    |      |      |       |          |      \n",
            " |    |    Street   |       |      currencies\n",
            " |    |      |      |       |          |      \n",
            "just  .     Wall    an interesting   crypto  \n",
            "\n",
            "      is           \n",
            "  ____|______       \n",
            " |    |  currencies\n",
            " |    |      |      \n",
            "What  ?    crypto  \n",
            "\n"
          ]
        },
        {
          "output_type": "execute_result",
          "data": {
            "text/plain": [
              "[None, None]"
            ]
          },
          "metadata": {},
          "execution_count": 24
        }
      ]
    },
    {
      "cell_type": "markdown",
      "metadata": {
        "id": "FLRCeu_ormZF"
      },
      "source": [
        "# 5 Frase substantiva\n",
        "\n",
        "https://realpython.com/natural-language-processing-spacy-python/"
      ]
    },
    {
      "cell_type": "code",
      "metadata": {
        "id": "wB5NTb8MroUc",
        "colab": {
          "base_uri": "https://localhost:8080/"
        },
        "outputId": "8adc1981-03fc-40f3-86c2-c66368e998d8"
      },
      "source": [
        "doc = nlp(document)\n",
        "\n",
        "# Extrai a frase substantiva\n",
        "for chunk in doc.noun_chunks:\n",
        "   print (chunk)"
      ],
      "execution_count": 25,
      "outputs": [
        {
          "output_type": "stream",
          "name": "stdout",
          "text": [
            "Wall Street Journal\n",
            "an interesting piece\n",
            "crypto currencies\n",
            "What\n",
            "crypto currencies\n"
          ]
        }
      ]
    },
    {
      "cell_type": "markdown",
      "metadata": {
        "id": "KAj24RXQKIzK"
      },
      "source": [
        "## Outros Exemplos"
      ]
    },
    {
      "cell_type": "markdown",
      "metadata": {
        "id": "aAYU5iNSJtqq"
      },
      "source": [
        "Visualiza o vetor que representa a palavra 'Journal'."
      ]
    },
    {
      "cell_type": "code",
      "metadata": {
        "id": "OdIXJ6KuJ63h",
        "colab": {
          "base_uri": "https://localhost:8080/"
        },
        "outputId": "0d3e8641-ab90-4a60-b2cf-700da20ff4e4"
      },
      "source": [
        "print(nlp.vocab[u'and'].vector)"
      ],
      "execution_count": 26,
      "outputs": [
        {
          "output_type": "stream",
          "name": "stdout",
          "text": [
            "[-1.8567e-01  6.6008e-02 -2.5209e-01 -1.1725e-01  2.6513e-01  6.4908e-02\n",
            "  1.2291e-01 -9.3979e-02  2.4321e-02  2.4926e+00 -1.7916e-02 -7.1218e-02\n",
            " -2.4782e-01 -2.6237e-01 -2.2460e-01 -2.1961e-01 -1.2927e-01  1.0867e+00\n",
            " -6.6072e-01 -3.1617e-02 -5.7328e-02  5.6903e-02 -2.7939e-01 -3.9825e-01\n",
            "  1.4251e-01 -8.5146e-02 -1.4779e-01  5.5067e-02 -2.8687e-03 -2.0917e-01\n",
            " -7.0735e-02  2.2577e-01 -1.5881e-01 -1.0395e-01  9.7110e-02 -5.6251e-01\n",
            " -3.2929e-01 -2.0853e-01  9.8711e-03  4.9777e-02  1.4883e-03  1.5884e-01\n",
            "  4.2771e-02 -2.6956e-03 -2.4620e-02 -1.9213e-01 -2.2556e-01  1.0838e-01\n",
            "  9.0086e-02 -1.3291e-01  3.2559e-01 -1.7038e-01 -1.0990e-01 -2.3986e-01\n",
            " -2.4289e-02  1.4656e-02 -2.3700e-01  8.4828e-02 -3.5982e-01 -7.6746e-02\n",
            "  4.8909e-02  1.1431e-01 -2.1013e-01  2.4765e-01 -1.7531e-02 -1.4028e-01\n",
            "  4.6191e-02  2.2972e-01  1.1750e-01  1.2724e-01  1.2992e-02  4.5870e-01\n",
            "  4.1085e-01  3.9106e-02  1.5713e-01 -1.8376e-01  2.6834e-01  5.6662e-02\n",
            "  1.6844e-01 -5.3788e-02 -9.1892e-02  1.1193e-01 -8.6810e-02 -1.3324e-01\n",
            "  1.5062e-01 -3.1733e-01 -2.2078e-01  2.5038e-01  3.4131e-01  3.6419e-01\n",
            " -8.9514e-02 -2.2193e-01  2.4471e-01  4.0091e-02  4.7798e-01 -2.9996e-02\n",
            "  1.9212e-03  6.3511e-02 -2.0417e-01 -2.6478e-01  2.0649e-01  1.5573e-02\n",
            " -2.7722e-01 -1.8861e-01 -1.0289e-01 -4.9773e-01  1.4986e-01 -1.0877e-02\n",
            "  2.5085e-01 -2.8117e-01  1.8966e-01 -6.5879e-02  9.4753e-02 -1.5338e-01\n",
            " -5.5071e-02 -3.6747e-01  2.4993e-01  9.6527e-02  2.3538e-01  1.8405e-01\n",
            "  5.2859e-02  2.2967e-01  1.2582e-01  1.5536e-01 -1.7275e-01  3.3946e-01\n",
            " -1.0049e-01  7.4948e-02 -9.3575e-02 -4.0490e-02 -1.6922e-02 -5.8039e-03\n",
            " -1.8108e-01  1.9537e-01  4.5178e-01  1.0965e-01  2.3370e-01 -9.9050e-02\n",
            " -7.8633e-02  2.1678e-01 -7.1231e-01 -9.9759e-02  3.3333e-01 -1.6460e-01\n",
            " -9.1688e-02  2.1056e-01  2.3669e-02  2.8922e-02  1.1990e-01 -1.2512e-01\n",
            " -2.6037e-02 -6.2217e-02  5.5816e-01  5.0273e-03 -3.0888e-01  3.8611e-02\n",
            "  1.7568e-01 -1.1163e-01 -1.0815e-01 -1.9444e-01  2.9433e-01  1.4519e-01\n",
            " -4.2878e-02  1.8534e-01  1.8891e-02 -6.1883e-01  1.3352e-01  3.6007e-02\n",
            "  3.3995e-01  2.2109e-01 -7.9328e-02  7.1319e-02  1.7678e-01  1.6378e-01\n",
            " -2.3142e-01 -1.4340e-01 -9.8122e-02 -1.9286e-02  2.3560e-01 -3.4013e-01\n",
            " -6.1007e-02 -2.3208e-01 -3.1152e-01  1.0063e-01 -1.5957e-01  2.0183e-01\n",
            " -1.6345e-02 -1.2303e-01  2.2667e-02 -2.0986e-01 -2.0127e-01 -8.7883e-02\n",
            "  6.4731e-02  1.0195e-01 -1.7860e-01  3.3056e-01  2.1407e-01 -3.2165e-01\n",
            " -1.7106e-01  1.9407e-01 -3.8618e-01 -2.1480e-01 -5.2254e-02  2.3175e-02\n",
            "  4.7389e-01  1.8612e-01  1.2711e-01  2.0855e-01 -1.0256e-01 -1.2016e-01\n",
            " -4.0488e-01  2.9695e-02 -2.7419e-02 -8.5227e-03 -1.1415e-01  8.1134e-02\n",
            " -1.7228e-01  1.9142e-01  2.6514e-02  4.3789e-02 -1.2399e-01  1.3354e-01\n",
            "  1.0112e-01  8.1682e-02 -1.5085e-01  7.5806e-03 -1.8971e-01  2.4669e-01\n",
            "  2.2491e-01  3.5553e-01 -3.2770e-01 -2.1821e-01  1.4020e-01  2.8604e-01\n",
            "  5.5226e-02 -8.6544e-02  2.1110e-02 -1.9236e-01  7.4245e-02  7.6782e-02\n",
            "  8.1666e-04  3.4097e-02 -5.7719e-01  1.0657e-01  2.8134e-01 -1.1964e-01\n",
            " -6.8281e-01 -3.2893e-01 -2.4442e-01 -2.5847e-02  9.1273e-03  2.0250e-01\n",
            " -5.0959e-02 -1.1042e-01  1.0962e-02  7.6773e-02  4.0048e-01 -4.0739e-01\n",
            " -4.4773e-01  3.1954e-01 -3.6326e-02 -1.2789e-02 -1.7282e-01  1.4760e-01\n",
            "  2.3560e-01  8.0642e-02 -3.6528e-01 -8.3443e-03  6.2390e-01 -2.4379e-01\n",
            "  1.9917e-02 -2.8803e-01 -1.0494e-02  3.8412e-02 -1.1718e-01 -7.2462e-02\n",
            "  1.6381e-01  3.8488e-01 -2.9783e-02  2.3444e-01  4.5320e-01  1.4815e-01\n",
            " -2.7021e-02 -7.3181e-02 -1.1470e-01 -5.4545e-03  4.7796e-01  9.0912e-02\n",
            "  9.4489e-02 -3.6882e-01 -5.9396e-01 -9.7729e-02  2.0072e-01  1.7055e-01\n",
            " -4.7356e-03 -3.9709e-02  3.2498e-01 -2.3452e-02  1.2302e-01  3.3120e-01]\n"
          ]
        }
      ]
    },
    {
      "cell_type": "markdown",
      "metadata": {
        "id": "Hp4KXhZNyVNh"
      },
      "source": [
        "Import para apresentação dos dados"
      ]
    },
    {
      "cell_type": "code",
      "metadata": {
        "id": "sQqDa6lgfqJX"
      },
      "source": [
        "from scipy import spatial\n",
        "from jinja2 import Template\n",
        "from IPython.display import display, HTML\n",
        "\n",
        "logging.info('Import realizado!')"
      ],
      "execution_count": 27,
      "outputs": []
    },
    {
      "cell_type": "markdown",
      "metadata": {
        "id": "QWhQ6U9WyYQK"
      },
      "source": [
        "Função para calcular a similaridade e apresentação dos dados."
      ]
    },
    {
      "cell_type": "code",
      "metadata": {
        "id": "9atJadP_VvJr"
      },
      "source": [
        "#template de apresentação dos dados\n",
        "table_list_template = \"\"\" \n",
        "<table> \n",
        "        <tr>  \n",
        "           <th>Palavra</th>   \n",
        "           <th>Similaridade</th>   \n",
        "        </tr>  \n",
        "        {% for item in items%}  \n",
        "        <TR>     \n",
        "           <TD class=\"c1\">{{item[0].text}}</TD>     \n",
        "           <TD class=\"c2\">{{item[1]}}</TD>   \n",
        "        </TR>   \n",
        "        {% endfor %}\n",
        "</table> \n",
        "\"\"\"\n",
        "\n",
        "#função de cálculo da das palavras\n",
        "def most_similar(positive, negative):\n",
        "    cosine_similarity = lambda x, y: 1 - spatial.distance.cosine(x, y)\n",
        " \n",
        "    #recupera o cálculo das palavras\n",
        "    positivo1 = nlp.vocab[positive[0]].vector \n",
        "    positivo2 = nlp.vocab[positive[1]].vector\n",
        "    negativo1 = nlp.vocab[negative[0]].vector\n",
        " \n",
        "    # Agora precisamos encontrar o vetor mais próximo no vocabulário do resultado de \"man\" - \"woman\" + \"queen\"\n",
        "    diferenca = negativo1 - positivo2 + positivo1\n",
        "  \n",
        "    cs = [] \n",
        "    for word in nlp.vocab:\n",
        "        # Ignore palavras sem vetor\n",
        "        if not word.has_vector:\n",
        "            continue\n",
        " \n",
        "        similarity = cosine_similarity(diferenca, word.vector)\n",
        "        cs.append((word, similarity))\n",
        "  \n",
        "    cs = sorted(cs, key=lambda item: -item[1])\n",
        "\n",
        "    tmpl = Template(table_list_template)\n",
        "    output_html = tmpl.render(items=cs[:10])\n",
        "    return HTML(output_html) \n",
        "\n",
        "logging.info('Função criada!')"
      ],
      "execution_count": 28,
      "outputs": []
    },
    {
      "cell_type": "markdown",
      "metadata": {
        "id": "OZfBgX9FUo-T"
      },
      "source": [
        "Similaridade de \"queen\" e \"king\"<br>\n",
        "Rainha + Mulher – Homem = ?"
      ]
    },
    {
      "cell_type": "code",
      "metadata": {
        "id": "Q-9qOEEIV7h9",
        "colab": {
          "base_uri": "https://localhost:8080/",
          "height": 254
        },
        "outputId": "95d1e17c-c812-4fe2-c518-8471fc3b5ee9"
      },
      "source": [
        "most_similar(positive=[u'Queen',u'Woman'], negative=[u'Man'])\n",
        "#['Queen', 'QUEEN', 'queen', 'King', 'KING', 'king', 'KIng', 'Kings', 'KINGS', 'kings']"
      ],
      "execution_count": 29,
      "outputs": [
        {
          "output_type": "execute_result",
          "data": {
            "text/plain": [
              "<IPython.core.display.HTML object>"
            ],
            "text/html": [
              " \n",
              "<table> \n",
              "        <tr>  \n",
              "           <th>Palavra</th>   \n",
              "           <th>Similaridade</th>   \n",
              "        </tr>  \n",
              "          \n",
              "        <TR>     \n",
              "           <TD class=\"c1\">Queen</TD>     \n",
              "           <TD class=\"c2\">0.7754250764846802</TD>   \n",
              "        </TR>   \n",
              "          \n",
              "        <TR>     \n",
              "           <TD class=\"c1\">Man</TD>     \n",
              "           <TD class=\"c2\">0.41803106665611267</TD>   \n",
              "        </TR>   \n",
              "          \n",
              "        <TR>     \n",
              "           <TD class=\"c1\">Mr</TD>     \n",
              "           <TD class=\"c2\">0.35803136229515076</TD>   \n",
              "        </TR>   \n",
              "          \n",
              "        <TR>     \n",
              "           <TD class=\"c1\">Mr.</TD>     \n",
              "           <TD class=\"c2\">0.3538039028644562</TD>   \n",
              "        </TR>   \n",
              "          \n",
              "        <TR>     \n",
              "           <TD class=\"c1\">He</TD>     \n",
              "           <TD class=\"c2\">0.34886226058006287</TD>   \n",
              "        </TR>   \n",
              "          \n",
              "        <TR>     \n",
              "           <TD class=\"c1\">he</TD>     \n",
              "           <TD class=\"c2\">0.34886226058006287</TD>   \n",
              "        </TR>   \n",
              "          \n",
              "        <TR>     \n",
              "           <TD class=\"c1\">cuz</TD>     \n",
              "           <TD class=\"c2\">0.33034539222717285</TD>   \n",
              "        </TR>   \n",
              "          \n",
              "        <TR>     \n",
              "           <TD class=\"c1\">Cuz</TD>     \n",
              "           <TD class=\"c2\">0.33034539222717285</TD>   \n",
              "        </TR>   \n",
              "          \n",
              "        <TR>     \n",
              "           <TD class=\"c1\">Let</TD>     \n",
              "           <TD class=\"c2\">0.3161923289299011</TD>   \n",
              "        </TR>   \n",
              "          \n",
              "        <TR>     \n",
              "           <TD class=\"c1\">let</TD>     \n",
              "           <TD class=\"c2\">0.3161923289299011</TD>   \n",
              "        </TR>   \n",
              "        \n",
              "</table> "
            ]
          },
          "metadata": {},
          "execution_count": 29
        }
      ]
    },
    {
      "cell_type": "markdown",
      "metadata": {
        "id": "9iKAtTiKxkDM"
      },
      "source": [
        "\n",
        "Rainha + Homem – Mulher = ?"
      ]
    },
    {
      "cell_type": "code",
      "metadata": {
        "id": "f59RMra0xlKT",
        "colab": {
          "base_uri": "https://localhost:8080/",
          "height": 254
        },
        "outputId": "27fa4316-470e-4bf4-b290-f6cce1367ae8"
      },
      "source": [
        "most_similar(positive=[u'queen',u'man'], negative=[u'woman'])"
      ],
      "execution_count": 30,
      "outputs": [
        {
          "output_type": "execute_result",
          "data": {
            "text/plain": [
              "<IPython.core.display.HTML object>"
            ],
            "text/html": [
              " \n",
              "<table> \n",
              "        <tr>  \n",
              "           <th>Palavra</th>   \n",
              "           <th>Similaridade</th>   \n",
              "        </tr>  \n",
              "          \n",
              "        <TR>     \n",
              "           <TD class=\"c1\">queen</TD>     \n",
              "           <TD class=\"c2\">0.8607285618782043</TD>   \n",
              "        </TR>   \n",
              "          \n",
              "        <TR>     \n",
              "           <TD class=\"c1\">Queen</TD>     \n",
              "           <TD class=\"c2\">0.8607285618782043</TD>   \n",
              "        </TR>   \n",
              "          \n",
              "        <TR>     \n",
              "           <TD class=\"c1\">woman</TD>     \n",
              "           <TD class=\"c2\">0.5410138368606567</TD>   \n",
              "        </TR>   \n",
              "          \n",
              "        <TR>     \n",
              "           <TD class=\"c1\">Woman</TD>     \n",
              "           <TD class=\"c2\">0.5410138368606567</TD>   \n",
              "        </TR>   \n",
              "          \n",
              "        <TR>     \n",
              "           <TD class=\"c1\">she</TD>     \n",
              "           <TD class=\"c2\">0.44051575660705566</TD>   \n",
              "        </TR>   \n",
              "          \n",
              "        <TR>     \n",
              "           <TD class=\"c1\">She</TD>     \n",
              "           <TD class=\"c2\">0.44051575660705566</TD>   \n",
              "        </TR>   \n",
              "          \n",
              "        <TR>     \n",
              "           <TD class=\"c1\">Mrs</TD>     \n",
              "           <TD class=\"c2\">0.25844788551330566</TD>   \n",
              "        </TR>   \n",
              "          \n",
              "        <TR>     \n",
              "           <TD class=\"c1\">dare</TD>     \n",
              "           <TD class=\"c2\">0.24624815583229065</TD>   \n",
              "        </TR>   \n",
              "          \n",
              "        <TR>     \n",
              "           <TD class=\"c1\">Dare</TD>     \n",
              "           <TD class=\"c2\">0.24624815583229065</TD>   \n",
              "        </TR>   \n",
              "          \n",
              "        <TR>     \n",
              "           <TD class=\"c1\">Mrs.</TD>     \n",
              "           <TD class=\"c2\">0.23954209685325623</TD>   \n",
              "        </TR>   \n",
              "        \n",
              "</table> "
            ]
          },
          "metadata": {},
          "execution_count": 30
        }
      ]
    },
    {
      "cell_type": "markdown",
      "metadata": {
        "id": "Sw-Avpb0zL9b"
      },
      "source": [
        "Rei + Mulher – Homem = ?"
      ]
    },
    {
      "cell_type": "code",
      "metadata": {
        "id": "H1v8VY6DzMJK",
        "colab": {
          "base_uri": "https://localhost:8080/",
          "height": 254
        },
        "outputId": "95cfa3b5-bc85-43da-d735-679b2504134e"
      },
      "source": [
        "most_similar(positive=[u'king',u'woman'], negative=[u'man'])"
      ],
      "execution_count": 31,
      "outputs": [
        {
          "output_type": "execute_result",
          "data": {
            "text/plain": [
              "<IPython.core.display.HTML object>"
            ],
            "text/html": [
              " \n",
              "<table> \n",
              "        <tr>  \n",
              "           <th>Palavra</th>   \n",
              "           <th>Similaridade</th>   \n",
              "        </tr>  \n",
              "          \n",
              "        <TR>     \n",
              "           <TD class=\"c1\">king</TD>     \n",
              "           <TD class=\"c2\">0.8575966358184814</TD>   \n",
              "        </TR>   \n",
              "          \n",
              "        <TR>     \n",
              "           <TD class=\"c1\">Man</TD>     \n",
              "           <TD class=\"c2\">0.45190149545669556</TD>   \n",
              "        </TR>   \n",
              "          \n",
              "        <TR>     \n",
              "           <TD class=\"c1\">man</TD>     \n",
              "           <TD class=\"c2\">0.45190149545669556</TD>   \n",
              "        </TR>   \n",
              "          \n",
              "        <TR>     \n",
              "           <TD class=\"c1\">queen</TD>     \n",
              "           <TD class=\"c2\">0.44433581829071045</TD>   \n",
              "        </TR>   \n",
              "          \n",
              "        <TR>     \n",
              "           <TD class=\"c1\">Queen</TD>     \n",
              "           <TD class=\"c2\">0.44433581829071045</TD>   \n",
              "        </TR>   \n",
              "          \n",
              "        <TR>     \n",
              "           <TD class=\"c1\">He</TD>     \n",
              "           <TD class=\"c2\">0.4102647602558136</TD>   \n",
              "        </TR>   \n",
              "          \n",
              "        <TR>     \n",
              "           <TD class=\"c1\">he</TD>     \n",
              "           <TD class=\"c2\">0.4102647602558136</TD>   \n",
              "        </TR>   \n",
              "          \n",
              "        <TR>     \n",
              "           <TD class=\"c1\">Jr</TD>     \n",
              "           <TD class=\"c2\">0.3726416826248169</TD>   \n",
              "        </TR>   \n",
              "          \n",
              "        <TR>     \n",
              "           <TD class=\"c1\">Mr</TD>     \n",
              "           <TD class=\"c2\">0.3702760934829712</TD>   \n",
              "        </TR>   \n",
              "          \n",
              "        <TR>     \n",
              "           <TD class=\"c1\">Mr.</TD>     \n",
              "           <TD class=\"c2\">0.3435118794441223</TD>   \n",
              "        </TR>   \n",
              "        \n",
              "</table> "
            ]
          },
          "metadata": {},
          "execution_count": 31
        }
      ]
    },
    {
      "cell_type": "markdown",
      "metadata": {
        "id": "lmW-B5JO0SqG"
      },
      "source": [
        "Rei + Homem – Mulher = ?"
      ]
    },
    {
      "cell_type": "code",
      "metadata": {
        "id": "yKyR2bi-0L7K",
        "colab": {
          "base_uri": "https://localhost:8080/",
          "height": 254
        },
        "outputId": "54ae365c-e25d-473b-a4e6-197da1048ff1"
      },
      "source": [
        "most_similar(positive=[u'king',u'man'], negative=[u'woman'])"
      ],
      "execution_count": 32,
      "outputs": [
        {
          "output_type": "execute_result",
          "data": {
            "text/plain": [
              "<IPython.core.display.HTML object>"
            ],
            "text/html": [
              " \n",
              "<table> \n",
              "        <tr>  \n",
              "           <th>Palavra</th>   \n",
              "           <th>Similaridade</th>   \n",
              "        </tr>  \n",
              "          \n",
              "        <TR>     \n",
              "           <TD class=\"c1\">king</TD>     \n",
              "           <TD class=\"c2\">0.8024259805679321</TD>   \n",
              "        </TR>   \n",
              "          \n",
              "        <TR>     \n",
              "           <TD class=\"c1\">queen</TD>     \n",
              "           <TD class=\"c2\">0.7880843877792358</TD>   \n",
              "        </TR>   \n",
              "          \n",
              "        <TR>     \n",
              "           <TD class=\"c1\">Queen</TD>     \n",
              "           <TD class=\"c2\">0.7880843877792358</TD>   \n",
              "        </TR>   \n",
              "          \n",
              "        <TR>     \n",
              "           <TD class=\"c1\">woman</TD>     \n",
              "           <TD class=\"c2\">0.5150813460350037</TD>   \n",
              "        </TR>   \n",
              "          \n",
              "        <TR>     \n",
              "           <TD class=\"c1\">Woman</TD>     \n",
              "           <TD class=\"c2\">0.5150813460350037</TD>   \n",
              "        </TR>   \n",
              "          \n",
              "        <TR>     \n",
              "           <TD class=\"c1\">she</TD>     \n",
              "           <TD class=\"c2\">0.3956184387207031</TD>   \n",
              "        </TR>   \n",
              "          \n",
              "        <TR>     \n",
              "           <TD class=\"c1\">She</TD>     \n",
              "           <TD class=\"c2\">0.3956184387207031</TD>   \n",
              "        </TR>   \n",
              "          \n",
              "        <TR>     \n",
              "           <TD class=\"c1\">Who</TD>     \n",
              "           <TD class=\"c2\">0.3159499764442444</TD>   \n",
              "        </TR>   \n",
              "          \n",
              "        <TR>     \n",
              "           <TD class=\"c1\">who</TD>     \n",
              "           <TD class=\"c2\">0.3159499764442444</TD>   \n",
              "        </TR>   \n",
              "          \n",
              "        <TR>     \n",
              "           <TD class=\"c1\">r.</TD>     \n",
              "           <TD class=\"c2\">0.29805222153663635</TD>   \n",
              "        </TR>   \n",
              "        \n",
              "</table> "
            ]
          },
          "metadata": {},
          "execution_count": 32
        }
      ]
    },
    {
      "cell_type": "markdown",
      "metadata": {
        "id": "YE9O7fM-y5Zc"
      },
      "source": [
        "Função de cálculo da similaridade de palavras."
      ]
    },
    {
      "cell_type": "code",
      "metadata": {
        "id": "UuHoa2MJUp4R",
        "colab": {
          "base_uri": "https://localhost:8080/"
        },
        "outputId": "d8fbd4d2-f29d-41e5-d984-15ccbcd9e4ef"
      },
      "source": [
        "#Matemática de Word Embeding\n",
        "from scipy import spatial\n",
        " \n",
        "cosine_similarity = lambda x, y: 1 - spatial.distance.cosine(x, y)\n",
        " \n",
        "#recupera o cálculo das palavras\n",
        "man = nlp.vocab[u'man'].vector\n",
        "woman = nlp.vocab[u'woman'].vector\n",
        "queen = nlp.vocab[u'queen'].vector\n",
        "#king = nlp.vocab[u'king'].vector\n",
        " \n",
        "# Agora precisamos encontrar o vetor mais próximo no vocabulário do resultado de \"man\" - \"woman\" + \"queen\"\n",
        "maybe_king = man - woman + queen\n",
        "computed_similarities = []\n",
        " \n",
        "for word in nlp.vocab:\n",
        "    # Ignore palavras sem vetor\n",
        "    if not word.has_vector:\n",
        "        continue\n",
        " \n",
        "    similarity = cosine_similarity(maybe_king, word.vector)\n",
        "    computed_similarities.append((word, similarity))\n",
        " \n",
        "computed_similarities = sorted(computed_similarities, key=lambda item: -item[1])\n",
        "\n",
        "#mostra o resultado\n",
        "print([w[0].text for w in computed_similarities[:10]])"
      ],
      "execution_count": 33,
      "outputs": [
        {
          "output_type": "stream",
          "name": "stdout",
          "text": [
            "['queen', 'Queen', 'king', 'Man', 'man', 'Mr', 'Mr.', 'He', 'he', 'cuz']\n"
          ]
        }
      ]
    },
    {
      "cell_type": "markdown",
      "metadata": {
        "id": "-zBBKEgCzCW9"
      },
      "source": [
        "Calculando a similaridade"
      ]
    },
    {
      "cell_type": "code",
      "metadata": {
        "id": "9f4GU-FVzCrK",
        "colab": {
          "base_uri": "https://localhost:8080/"
        },
        "outputId": "0858e6f2-7a20-4d9c-de82-97dea77878cf"
      },
      "source": [
        "banana = nlp.vocab[u'banana']\n",
        "dog = nlp.vocab[u'dog']\n",
        "fruit = nlp.vocab[u'fruit']\n",
        "animal = nlp.vocab[u'animal']\n",
        " \n",
        "print(dog.similarity(animal), dog.similarity(fruit))\n",
        "print(banana.similarity(fruit), banana.similarity(animal))"
      ],
      "execution_count": 34,
      "outputs": [
        {
          "output_type": "stream",
          "name": "stdout",
          "text": [
            "0.66185343 0.23552851\n",
            "0.67148364 0.24272855\n"
          ]
        }
      ]
    },
    {
      "cell_type": "markdown",
      "metadata": {
        "id": "UFuZc9Sk0ZMp"
      },
      "source": [
        "Calculando a similaridade entre textos"
      ]
    },
    {
      "cell_type": "code",
      "metadata": {
        "id": "mMWSQxnQ0ZZC",
        "colab": {
          "base_uri": "https://localhost:8080/"
        },
        "outputId": "6b88a7f6-c9a8-493a-de29-6a2ead34ad5a"
      },
      "source": [
        "destino = nlp(u'Cats are beautiful animals.')\n",
        " \n",
        "doc1 = nlp(u'Dogs are awesome.')\n",
        "doc2 = nlp(u'Some gorgeous creatures are felines.')\n",
        "doc3 = nlp(u'Dolphins are swimming mammals.')\n",
        " \n",
        "print(destino.similarity(doc1))\n",
        "print(destino.similarity(doc2)) \n",
        "print(destino.similarity(doc3))"
      ],
      "execution_count": 35,
      "outputs": [
        {
          "output_type": "stream",
          "name": "stdout",
          "text": [
            "0.8901766262114666\n",
            "0.9115828449161616\n",
            "0.7822956256736615\n"
          ]
        }
      ]
    }
  ]
}