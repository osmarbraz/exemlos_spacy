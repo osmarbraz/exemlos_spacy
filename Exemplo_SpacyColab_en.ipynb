{
  "nbformat": 4,
  "nbformat_minor": 0,
  "metadata": {
    "colab": {
      "provenance": [],
      "toc_visible": true,
      "include_colab_link": true
    },
    "kernelspec": {
      "name": "python3",
      "display_name": "Python 3"
    },
    "accelerator": "TPU"
  },
  "cells": [
    {
      "cell_type": "markdown",
      "metadata": {
        "id": "view-in-github",
        "colab_type": "text"
      },
      "source": [
        "<a href=\"https://colab.research.google.com/github/osmarbraz/exemplos_spacy/blob/main/Exemplo_SpacyColab_en.ipynb\" target=\"_parent\"><img src=\"https://colab.research.google.com/assets/colab-badge.svg\" alt=\"Open In Colab\"/></a>"
      ]
    },
    {
      "cell_type": "markdown",
      "metadata": {
        "id": "IziPWVaeGlWk"
      },
      "source": [
        "# Exemplo uso Spacy com Modelo em Inglês\n",
        "Exemplo do uso Spacy Python Library com execução através do Google Colaboratory.<br>\n",
        "Site ferramenta: https://spacy.io/\n",
        "\n",
        "Tutorial<br>\n",
        "https://medium.com/@van3ssabandeira/o-famoso-spacy-90afb683b6fe\n"
      ]
    },
    {
      "cell_type": "markdown",
      "metadata": {
        "id": "rCk1PJ6Uwpu3"
      },
      "source": [
        "# 0 Preparação do ambiente\n",
        "Preparação do ambiente para executar o spacy."
      ]
    },
    {
      "cell_type": "markdown",
      "metadata": {
        "id": "4w0iMqLMwx5Q"
      },
      "source": [
        "##Tratamento de logs"
      ]
    },
    {
      "cell_type": "code",
      "metadata": {
        "id": "tlN4O-0gwzSN"
      },
      "source": [
        "#biblioteca de logging\n",
        "import logging\n",
        "\n",
        "#Formado da mensagem\n",
        "logging.basicConfig(format='%(asctime)s : %(levelname)s : %(message)s', level=logging.INFO)"
      ],
      "execution_count": 1,
      "outputs": []
    },
    {
      "cell_type": "markdown",
      "metadata": {
        "id": "YgkRcED5w7_L"
      },
      "source": [
        "## Parâmetros\n",
        "\n",
        "Parâmetros da execução do teste\n",
        "\n",
        "* sm = small model (não possui vocabulário de palavras)\n",
        "* md = medium model\n",
        "* lg = large model\n",
        "\n",
        "https://spacy.io/models/en"
      ]
    },
    {
      "cell_type": "code",
      "metadata": {
        "id": "Rbk9_hJ-yc1L"
      },
      "source": [
        "#definição do nome do arquivo do modelo\n",
        "#MODELO_SPACY = 'en_core_web_sm'\n",
        "#MODELO_SPACY = 'en_core_web_md'\n",
        "MODELO_SPACY = 'en_core_web_lg'\n",
        "\n",
        "logging.info('Parâmetros definidos!')"
      ],
      "execution_count": 2,
      "outputs": []
    },
    {
      "cell_type": "markdown",
      "metadata": {
        "id": "ku3JQLuL3jCe"
      },
      "source": [
        "# 1 Instalação"
      ]
    },
    {
      "cell_type": "markdown",
      "metadata": {
        "id": "1MNQcVUH9Pqv"
      },
      "source": [
        "Instala o spacy no notebook. O site para instalação está em https://spacy.io/usage.\n",
        "\n",
        "No Jupiter Notebook executar através \"Anaconda Prompt\"."
      ]
    },
    {
      "cell_type": "code",
      "metadata": {
        "id": "F9luAEBK9do5",
        "colab": {
          "base_uri": "https://localhost:8080/"
        },
        "outputId": "e7812fb1-e829-4208-df41-42694890b0c7"
      },
      "source": [
        "# Instala a última versão disponível\n",
        "#!pip install -U spacy\n",
        "\n",
        "# Instala uma versão específica\n",
        "!pip install -U spacy==3.7.2"
      ],
      "execution_count": 3,
      "outputs": [
        {
          "output_type": "stream",
          "name": "stdout",
          "text": [
            "Requirement already satisfied: spacy==3.7.2 in /usr/local/lib/python3.10/dist-packages (3.7.2)\n",
            "Requirement already satisfied: spacy-legacy<3.1.0,>=3.0.11 in /usr/local/lib/python3.10/dist-packages (from spacy==3.7.2) (3.0.12)\n",
            "Requirement already satisfied: spacy-loggers<2.0.0,>=1.0.0 in /usr/local/lib/python3.10/dist-packages (from spacy==3.7.2) (1.0.5)\n",
            "Requirement already satisfied: murmurhash<1.1.0,>=0.28.0 in /usr/local/lib/python3.10/dist-packages (from spacy==3.7.2) (1.0.10)\n",
            "Requirement already satisfied: cymem<2.1.0,>=2.0.2 in /usr/local/lib/python3.10/dist-packages (from spacy==3.7.2) (2.0.8)\n",
            "Requirement already satisfied: preshed<3.1.0,>=3.0.2 in /usr/local/lib/python3.10/dist-packages (from spacy==3.7.2) (3.0.9)\n",
            "Requirement already satisfied: thinc<8.3.0,>=8.1.8 in /usr/local/lib/python3.10/dist-packages (from spacy==3.7.2) (8.2.3)\n",
            "Requirement already satisfied: wasabi<1.2.0,>=0.9.1 in /usr/local/lib/python3.10/dist-packages (from spacy==3.7.2) (1.1.2)\n",
            "Requirement already satisfied: srsly<3.0.0,>=2.4.3 in /usr/local/lib/python3.10/dist-packages (from spacy==3.7.2) (2.4.8)\n",
            "Requirement already satisfied: catalogue<2.1.0,>=2.0.6 in /usr/local/lib/python3.10/dist-packages (from spacy==3.7.2) (2.0.10)\n",
            "Requirement already satisfied: weasel<0.4.0,>=0.1.0 in /usr/local/lib/python3.10/dist-packages (from spacy==3.7.2) (0.3.4)\n",
            "Requirement already satisfied: typer<0.10.0,>=0.3.0 in /usr/local/lib/python3.10/dist-packages (from spacy==3.7.2) (0.9.0)\n",
            "Requirement already satisfied: smart-open<7.0.0,>=5.2.1 in /usr/local/lib/python3.10/dist-packages (from spacy==3.7.2) (6.4.0)\n",
            "Requirement already satisfied: tqdm<5.0.0,>=4.38.0 in /usr/local/lib/python3.10/dist-packages (from spacy==3.7.2) (4.66.2)\n",
            "Requirement already satisfied: requests<3.0.0,>=2.13.0 in /usr/local/lib/python3.10/dist-packages (from spacy==3.7.2) (2.31.0)\n",
            "Requirement already satisfied: pydantic!=1.8,!=1.8.1,<3.0.0,>=1.7.4 in /usr/local/lib/python3.10/dist-packages (from spacy==3.7.2) (2.6.1)\n",
            "Requirement already satisfied: jinja2 in /usr/local/lib/python3.10/dist-packages (from spacy==3.7.2) (3.1.3)\n",
            "Requirement already satisfied: setuptools in /usr/local/lib/python3.10/dist-packages (from spacy==3.7.2) (67.7.2)\n",
            "Requirement already satisfied: packaging>=20.0 in /usr/local/lib/python3.10/dist-packages (from spacy==3.7.2) (23.2)\n",
            "Requirement already satisfied: langcodes<4.0.0,>=3.2.0 in /usr/local/lib/python3.10/dist-packages (from spacy==3.7.2) (3.3.0)\n",
            "Requirement already satisfied: numpy>=1.19.0 in /usr/local/lib/python3.10/dist-packages (from spacy==3.7.2) (1.23.5)\n",
            "Requirement already satisfied: annotated-types>=0.4.0 in /usr/local/lib/python3.10/dist-packages (from pydantic!=1.8,!=1.8.1,<3.0.0,>=1.7.4->spacy==3.7.2) (0.6.0)\n",
            "Requirement already satisfied: pydantic-core==2.16.2 in /usr/local/lib/python3.10/dist-packages (from pydantic!=1.8,!=1.8.1,<3.0.0,>=1.7.4->spacy==3.7.2) (2.16.2)\n",
            "Requirement already satisfied: typing-extensions>=4.6.1 in /usr/local/lib/python3.10/dist-packages (from pydantic!=1.8,!=1.8.1,<3.0.0,>=1.7.4->spacy==3.7.2) (4.9.0)\n",
            "Requirement already satisfied: charset-normalizer<4,>=2 in /usr/local/lib/python3.10/dist-packages (from requests<3.0.0,>=2.13.0->spacy==3.7.2) (3.3.2)\n",
            "Requirement already satisfied: idna<4,>=2.5 in /usr/local/lib/python3.10/dist-packages (from requests<3.0.0,>=2.13.0->spacy==3.7.2) (3.6)\n",
            "Requirement already satisfied: urllib3<3,>=1.21.1 in /usr/local/lib/python3.10/dist-packages (from requests<3.0.0,>=2.13.0->spacy==3.7.2) (2.0.7)\n",
            "Requirement already satisfied: certifi>=2017.4.17 in /usr/local/lib/python3.10/dist-packages (from requests<3.0.0,>=2.13.0->spacy==3.7.2) (2024.2.2)\n",
            "Requirement already satisfied: blis<0.8.0,>=0.7.8 in /usr/local/lib/python3.10/dist-packages (from thinc<8.3.0,>=8.1.8->spacy==3.7.2) (0.7.11)\n",
            "Requirement already satisfied: confection<1.0.0,>=0.0.1 in /usr/local/lib/python3.10/dist-packages (from thinc<8.3.0,>=8.1.8->spacy==3.7.2) (0.1.4)\n",
            "Requirement already satisfied: click<9.0.0,>=7.1.1 in /usr/local/lib/python3.10/dist-packages (from typer<0.10.0,>=0.3.0->spacy==3.7.2) (8.1.7)\n",
            "Requirement already satisfied: cloudpathlib<0.17.0,>=0.7.0 in /usr/local/lib/python3.10/dist-packages (from weasel<0.4.0,>=0.1.0->spacy==3.7.2) (0.16.0)\n",
            "Requirement already satisfied: MarkupSafe>=2.0 in /usr/local/lib/python3.10/dist-packages (from jinja2->spacy==3.7.2) (2.1.5)\n"
          ]
        }
      ]
    },
    {
      "cell_type": "markdown",
      "metadata": {
        "id": "oN_oynsK3nRF"
      },
      "source": [
        "# 2 Execução"
      ]
    },
    {
      "cell_type": "markdown",
      "metadata": {
        "id": "9D9S3cvz9c4X"
      },
      "source": [
        "##Baixa o modelo em inglês.\n",
        "\n",
        "Outras linguagens podem ser consultadas em:<br>\n",
        "https://spacy.io/usage/models#languages"
      ]
    },
    {
      "cell_type": "code",
      "metadata": {
        "colab": {
          "base_uri": "https://localhost:8080/"
        },
        "id": "NjNxNcvqa1AP",
        "outputId": "c1df19e2-2e1a-483c-8e93-be5c37967457"
      },
      "source": [
        "!python -m spacy download $MODELO_SPACY"
      ],
      "execution_count": 4,
      "outputs": [
        {
          "output_type": "stream",
          "name": "stdout",
          "text": [
            "Collecting en-core-web-lg==3.7.1\n",
            "  Downloading https://github.com/explosion/spacy-models/releases/download/en_core_web_lg-3.7.1/en_core_web_lg-3.7.1-py3-none-any.whl (587.7 MB)\n",
            "\u001b[2K     \u001b[90m━━━━━━━━━━━━━━━━━━━━━━━━━━━━━━━━━━━━━━━━\u001b[0m \u001b[32m587.7/587.7 MB\u001b[0m \u001b[31m1.7 MB/s\u001b[0m eta \u001b[36m0:00:00\u001b[0m\n",
            "\u001b[?25hRequirement already satisfied: spacy<3.8.0,>=3.7.2 in /usr/local/lib/python3.10/dist-packages (from en-core-web-lg==3.7.1) (3.7.2)\n",
            "Requirement already satisfied: spacy-legacy<3.1.0,>=3.0.11 in /usr/local/lib/python3.10/dist-packages (from spacy<3.8.0,>=3.7.2->en-core-web-lg==3.7.1) (3.0.12)\n",
            "Requirement already satisfied: spacy-loggers<2.0.0,>=1.0.0 in /usr/local/lib/python3.10/dist-packages (from spacy<3.8.0,>=3.7.2->en-core-web-lg==3.7.1) (1.0.5)\n",
            "Requirement already satisfied: murmurhash<1.1.0,>=0.28.0 in /usr/local/lib/python3.10/dist-packages (from spacy<3.8.0,>=3.7.2->en-core-web-lg==3.7.1) (1.0.10)\n",
            "Requirement already satisfied: cymem<2.1.0,>=2.0.2 in /usr/local/lib/python3.10/dist-packages (from spacy<3.8.0,>=3.7.2->en-core-web-lg==3.7.1) (2.0.8)\n",
            "Requirement already satisfied: preshed<3.1.0,>=3.0.2 in /usr/local/lib/python3.10/dist-packages (from spacy<3.8.0,>=3.7.2->en-core-web-lg==3.7.1) (3.0.9)\n",
            "Requirement already satisfied: thinc<8.3.0,>=8.1.8 in /usr/local/lib/python3.10/dist-packages (from spacy<3.8.0,>=3.7.2->en-core-web-lg==3.7.1) (8.2.3)\n",
            "Requirement already satisfied: wasabi<1.2.0,>=0.9.1 in /usr/local/lib/python3.10/dist-packages (from spacy<3.8.0,>=3.7.2->en-core-web-lg==3.7.1) (1.1.2)\n",
            "Requirement already satisfied: srsly<3.0.0,>=2.4.3 in /usr/local/lib/python3.10/dist-packages (from spacy<3.8.0,>=3.7.2->en-core-web-lg==3.7.1) (2.4.8)\n",
            "Requirement already satisfied: catalogue<2.1.0,>=2.0.6 in /usr/local/lib/python3.10/dist-packages (from spacy<3.8.0,>=3.7.2->en-core-web-lg==3.7.1) (2.0.10)\n",
            "Requirement already satisfied: weasel<0.4.0,>=0.1.0 in /usr/local/lib/python3.10/dist-packages (from spacy<3.8.0,>=3.7.2->en-core-web-lg==3.7.1) (0.3.4)\n",
            "Requirement already satisfied: typer<0.10.0,>=0.3.0 in /usr/local/lib/python3.10/dist-packages (from spacy<3.8.0,>=3.7.2->en-core-web-lg==3.7.1) (0.9.0)\n",
            "Requirement already satisfied: smart-open<7.0.0,>=5.2.1 in /usr/local/lib/python3.10/dist-packages (from spacy<3.8.0,>=3.7.2->en-core-web-lg==3.7.1) (6.4.0)\n",
            "Requirement already satisfied: tqdm<5.0.0,>=4.38.0 in /usr/local/lib/python3.10/dist-packages (from spacy<3.8.0,>=3.7.2->en-core-web-lg==3.7.1) (4.66.2)\n",
            "Requirement already satisfied: requests<3.0.0,>=2.13.0 in /usr/local/lib/python3.10/dist-packages (from spacy<3.8.0,>=3.7.2->en-core-web-lg==3.7.1) (2.31.0)\n",
            "Requirement already satisfied: pydantic!=1.8,!=1.8.1,<3.0.0,>=1.7.4 in /usr/local/lib/python3.10/dist-packages (from spacy<3.8.0,>=3.7.2->en-core-web-lg==3.7.1) (2.6.1)\n",
            "Requirement already satisfied: jinja2 in /usr/local/lib/python3.10/dist-packages (from spacy<3.8.0,>=3.7.2->en-core-web-lg==3.7.1) (3.1.3)\n",
            "Requirement already satisfied: setuptools in /usr/local/lib/python3.10/dist-packages (from spacy<3.8.0,>=3.7.2->en-core-web-lg==3.7.1) (67.7.2)\n",
            "Requirement already satisfied: packaging>=20.0 in /usr/local/lib/python3.10/dist-packages (from spacy<3.8.0,>=3.7.2->en-core-web-lg==3.7.1) (23.2)\n",
            "Requirement already satisfied: langcodes<4.0.0,>=3.2.0 in /usr/local/lib/python3.10/dist-packages (from spacy<3.8.0,>=3.7.2->en-core-web-lg==3.7.1) (3.3.0)\n",
            "Requirement already satisfied: numpy>=1.19.0 in /usr/local/lib/python3.10/dist-packages (from spacy<3.8.0,>=3.7.2->en-core-web-lg==3.7.1) (1.23.5)\n",
            "Requirement already satisfied: annotated-types>=0.4.0 in /usr/local/lib/python3.10/dist-packages (from pydantic!=1.8,!=1.8.1,<3.0.0,>=1.7.4->spacy<3.8.0,>=3.7.2->en-core-web-lg==3.7.1) (0.6.0)\n",
            "Requirement already satisfied: pydantic-core==2.16.2 in /usr/local/lib/python3.10/dist-packages (from pydantic!=1.8,!=1.8.1,<3.0.0,>=1.7.4->spacy<3.8.0,>=3.7.2->en-core-web-lg==3.7.1) (2.16.2)\n",
            "Requirement already satisfied: typing-extensions>=4.6.1 in /usr/local/lib/python3.10/dist-packages (from pydantic!=1.8,!=1.8.1,<3.0.0,>=1.7.4->spacy<3.8.0,>=3.7.2->en-core-web-lg==3.7.1) (4.9.0)\n",
            "Requirement already satisfied: charset-normalizer<4,>=2 in /usr/local/lib/python3.10/dist-packages (from requests<3.0.0,>=2.13.0->spacy<3.8.0,>=3.7.2->en-core-web-lg==3.7.1) (3.3.2)\n",
            "Requirement already satisfied: idna<4,>=2.5 in /usr/local/lib/python3.10/dist-packages (from requests<3.0.0,>=2.13.0->spacy<3.8.0,>=3.7.2->en-core-web-lg==3.7.1) (3.6)\n",
            "Requirement already satisfied: urllib3<3,>=1.21.1 in /usr/local/lib/python3.10/dist-packages (from requests<3.0.0,>=2.13.0->spacy<3.8.0,>=3.7.2->en-core-web-lg==3.7.1) (2.0.7)\n",
            "Requirement already satisfied: certifi>=2017.4.17 in /usr/local/lib/python3.10/dist-packages (from requests<3.0.0,>=2.13.0->spacy<3.8.0,>=3.7.2->en-core-web-lg==3.7.1) (2024.2.2)\n",
            "Requirement already satisfied: blis<0.8.0,>=0.7.8 in /usr/local/lib/python3.10/dist-packages (from thinc<8.3.0,>=8.1.8->spacy<3.8.0,>=3.7.2->en-core-web-lg==3.7.1) (0.7.11)\n",
            "Requirement already satisfied: confection<1.0.0,>=0.0.1 in /usr/local/lib/python3.10/dist-packages (from thinc<8.3.0,>=8.1.8->spacy<3.8.0,>=3.7.2->en-core-web-lg==3.7.1) (0.1.4)\n",
            "Requirement already satisfied: click<9.0.0,>=7.1.1 in /usr/local/lib/python3.10/dist-packages (from typer<0.10.0,>=0.3.0->spacy<3.8.0,>=3.7.2->en-core-web-lg==3.7.1) (8.1.7)\n",
            "Requirement already satisfied: cloudpathlib<0.17.0,>=0.7.0 in /usr/local/lib/python3.10/dist-packages (from weasel<0.4.0,>=0.1.0->spacy<3.8.0,>=3.7.2->en-core-web-lg==3.7.1) (0.16.0)\n",
            "Requirement already satisfied: MarkupSafe>=2.0 in /usr/local/lib/python3.10/dist-packages (from jinja2->spacy<3.8.0,>=3.7.2->en-core-web-lg==3.7.1) (2.1.5)\n",
            "Installing collected packages: en-core-web-lg\n",
            "Successfully installed en-core-web-lg-3.7.1\n",
            "\u001b[38;5;2m✔ Download and installation successful\u001b[0m\n",
            "You can now load the package via spacy.load('en_core_web_lg')\n"
          ]
        }
      ]
    },
    {
      "cell_type": "markdown",
      "metadata": {
        "id": "IZzqQLfH8xV7"
      },
      "source": [
        "## Importa as bibliotecas"
      ]
    },
    {
      "cell_type": "code",
      "metadata": {
        "id": "BGFVnIzQGrEH"
      },
      "source": [
        "# Importando as bibliotecas.\n",
        "import spacy\n",
        "from spacy  import displacy\n",
        "\n",
        "logging.info('Import realizado!')"
      ],
      "execution_count": 5,
      "outputs": []
    },
    {
      "cell_type": "markdown",
      "metadata": {
        "id": "_DCJI8rd-YY0"
      },
      "source": [
        "##Carrega o modelo em inglês.\n",
        "\n",
        "Outros modelos estão disponíveis em https://spacy.io/models\n",
        "\n",
        "Para tornar os modelos compactos e rápidos, os modelos pequenos do spaCy (todos os pacotes que terminam em **sm**(small) não contêm  vetores de palavras e incluem apenas tensores sensíveis ao contexto.\n"
      ]
    },
    {
      "cell_type": "code",
      "metadata": {
        "id": "sarerq3C-b5B"
      },
      "source": [
        "# Instala somente os pipelines necessários\n",
        "#nlp = spacy.load(MODELO_SPACY, disable=['tokenizer', 'lemmatizer', 'ner', 'parser', 'textcat', 'custom'])\n",
        "\n",
        "nlp = spacy.load(MODELO_SPACY)\n",
        "\n",
        "logging.info('Modelo carregado !')"
      ],
      "execution_count": 6,
      "outputs": []
    },
    {
      "cell_type": "markdown",
      "metadata": {
        "id": "lIjF4JyJVbdr"
      },
      "source": [
        "# 3 Frase a ser analisada"
      ]
    },
    {
      "cell_type": "code",
      "metadata": {
        "id": "DpdLO64TVObM"
      },
      "source": [
        "document = u\"Wall Street Journal just published an interesting piece on crypto currencies. What is crypto currencies?\""
      ],
      "execution_count": 7,
      "outputs": []
    },
    {
      "cell_type": "markdown",
      "metadata": {
        "id": "g771s17Cjr6Q"
      },
      "source": [
        "##Armazena um texto.\n",
        "\n",
        "Com duas frases(sentenças)."
      ]
    },
    {
      "cell_type": "code",
      "metadata": {
        "id": "8FEGlAMwjuQy"
      },
      "source": [
        "doc = nlp(document)\n",
        "logging.info('Texto armazenado!')"
      ],
      "execution_count": 8,
      "outputs": []
    },
    {
      "cell_type": "markdown",
      "metadata": {
        "id": "Tu8rmnCEjzhE"
      },
      "source": [
        "##Separando o texto em uma lista de tokens.\n",
        "\n"
      ]
    },
    {
      "cell_type": "code",
      "metadata": {
        "id": "B5UhFBLoj0GK",
        "colab": {
          "base_uri": "https://localhost:8080/"
        },
        "outputId": "b3135c51-e5a9-4c11-ada7-f57a99b745d8"
      },
      "source": [
        ">>> [token.orth_ for token in doc]"
      ],
      "execution_count": 9,
      "outputs": [
        {
          "output_type": "execute_result",
          "data": {
            "text/plain": [
              "['Wall',\n",
              " 'Street',\n",
              " 'Journal',\n",
              " 'just',\n",
              " 'published',\n",
              " 'an',\n",
              " 'interesting',\n",
              " 'piece',\n",
              " 'on',\n",
              " 'crypto',\n",
              " 'currencies',\n",
              " '.',\n",
              " 'What',\n",
              " 'is',\n",
              " 'crypto',\n",
              " 'currencies',\n",
              " '?']"
            ]
          },
          "metadata": {},
          "execution_count": 9
        }
      ]
    },
    {
      "cell_type": "markdown",
      "metadata": {
        "id": "FHd7CqIHWVrs"
      },
      "source": [
        "##Separando o texto em uma lista de palavras"
      ]
    },
    {
      "cell_type": "code",
      "metadata": {
        "id": "xhL5CexYWU08",
        "colab": {
          "base_uri": "https://localhost:8080/"
        },
        "outputId": "d93154d8-3d10-4661-bf18-ef66f23ab547"
      },
      "source": [
        "doc.text.split()"
      ],
      "execution_count": 10,
      "outputs": [
        {
          "output_type": "execute_result",
          "data": {
            "text/plain": [
              "['Wall',\n",
              " 'Street',\n",
              " 'Journal',\n",
              " 'just',\n",
              " 'published',\n",
              " 'an',\n",
              " 'interesting',\n",
              " 'piece',\n",
              " 'on',\n",
              " 'crypto',\n",
              " 'currencies.',\n",
              " 'What',\n",
              " 'is',\n",
              " 'crypto',\n",
              " 'currencies?']"
            ]
          },
          "metadata": {},
          "execution_count": 10
        }
      ]
    },
    {
      "cell_type": "markdown",
      "metadata": {
        "id": "yvGrdfchknQt"
      },
      "source": [
        "##Verificando se a palavra é um verbo."
      ]
    },
    {
      "cell_type": "code",
      "metadata": {
        "id": "Tq0jKcd7kp-n",
        "colab": {
          "base_uri": "https://localhost:8080/"
        },
        "outputId": "0984fbf4-7568-44e2-92d5-4e3862bb7a78"
      },
      "source": [
        "[(token.text, token.pos_ == 'VERB') for token in doc]"
      ],
      "execution_count": 11,
      "outputs": [
        {
          "output_type": "execute_result",
          "data": {
            "text/plain": [
              "[('Wall', False),\n",
              " ('Street', False),\n",
              " ('Journal', False),\n",
              " ('just', False),\n",
              " ('published', True),\n",
              " ('an', False),\n",
              " ('interesting', False),\n",
              " ('piece', False),\n",
              " ('on', False),\n",
              " ('crypto', False),\n",
              " ('currencies', False),\n",
              " ('.', False),\n",
              " ('What', False),\n",
              " ('is', False),\n",
              " ('crypto', False),\n",
              " ('currencies', False),\n",
              " ('?', False)]"
            ]
          },
          "metadata": {},
          "execution_count": 11
        }
      ]
    },
    {
      "cell_type": "markdown",
      "metadata": {
        "id": "x7QqVueRkyOS"
      },
      "source": [
        "##Identificando o infinitivo dos verbos."
      ]
    },
    {
      "cell_type": "code",
      "metadata": {
        "id": "2bzgquPBky1x",
        "colab": {
          "base_uri": "https://localhost:8080/"
        },
        "outputId": "c7627546-f520-40ee-c45e-8af5813b04f8"
      },
      "source": [
        "[(token.text, token.lemma_) for token in doc if token.pos_ == 'VERB']"
      ],
      "execution_count": 12,
      "outputs": [
        {
          "output_type": "execute_result",
          "data": {
            "text/plain": [
              "[('published', 'publish')]"
            ]
          },
          "metadata": {},
          "execution_count": 12
        }
      ]
    },
    {
      "cell_type": "markdown",
      "metadata": {
        "id": "yazH-uzZk8vQ"
      },
      "source": [
        "##Verificando se a palavra da frase é uma pontuação."
      ]
    },
    {
      "cell_type": "code",
      "metadata": {
        "id": "427rrsWek_-x",
        "colab": {
          "base_uri": "https://localhost:8080/"
        },
        "outputId": "9db1d289-96d4-4ab9-90d6-8f38894b248e"
      },
      "source": [
        "[(token.text, token.is_punct) for token in doc]"
      ],
      "execution_count": 13,
      "outputs": [
        {
          "output_type": "execute_result",
          "data": {
            "text/plain": [
              "[('Wall', False),\n",
              " ('Street', False),\n",
              " ('Journal', False),\n",
              " ('just', False),\n",
              " ('published', False),\n",
              " ('an', False),\n",
              " ('interesting', False),\n",
              " ('piece', False),\n",
              " ('on', False),\n",
              " ('crypto', False),\n",
              " ('currencies', False),\n",
              " ('.', True),\n",
              " ('What', False),\n",
              " ('is', False),\n",
              " ('crypto', False),\n",
              " ('currencies', False),\n",
              " ('?', True)]"
            ]
          },
          "metadata": {},
          "execution_count": 13
        }
      ]
    },
    {
      "cell_type": "markdown",
      "metadata": {
        "id": "DvRTdi50lLrX"
      },
      "source": [
        "##Identificando as classes gramaticais das palavras.\n",
        "\n",
        "O significado das classes estão em: https://spacy.io/api/annotation#pos-tagging\n"
      ]
    },
    {
      "cell_type": "code",
      "metadata": {
        "id": "5YhWKL4ilNoc",
        "colab": {
          "base_uri": "https://localhost:8080/"
        },
        "outputId": "4199665f-cf64-4dbe-dede-2e48985538e8"
      },
      "source": [
        "[(token.text, token.pos_) for token in doc]"
      ],
      "execution_count": 14,
      "outputs": [
        {
          "output_type": "execute_result",
          "data": {
            "text/plain": [
              "[('Wall', 'PROPN'),\n",
              " ('Street', 'PROPN'),\n",
              " ('Journal', 'PROPN'),\n",
              " ('just', 'ADV'),\n",
              " ('published', 'VERB'),\n",
              " ('an', 'DET'),\n",
              " ('interesting', 'ADJ'),\n",
              " ('piece', 'NOUN'),\n",
              " ('on', 'ADP'),\n",
              " ('crypto', 'PROPN'),\n",
              " ('currencies', 'NOUN'),\n",
              " ('.', 'PUNCT'),\n",
              " ('What', 'PRON'),\n",
              " ('is', 'AUX'),\n",
              " ('crypto', 'NOUN'),\n",
              " ('currencies', 'NOUN'),\n",
              " ('?', 'PUNCT')]"
            ]
          },
          "metadata": {},
          "execution_count": 14
        }
      ]
    },
    {
      "cell_type": "markdown",
      "metadata": {
        "id": "rd6sIh0bXQuP"
      },
      "source": [
        "## Ancestrais"
      ]
    },
    {
      "cell_type": "code",
      "metadata": {
        "id": "S8wvoA4HXSIj",
        "colab": {
          "base_uri": "https://localhost:8080/"
        },
        "outputId": "d235eda3-9fe4-4ab2-cc88-6b0aa953694d"
      },
      "source": [
        "tokens = [token for token in doc]\n",
        "tokens[0].is_ancestor(tokens[2])"
      ],
      "execution_count": 15,
      "outputs": [
        {
          "output_type": "execute_result",
          "data": {
            "text/plain": [
              "False"
            ]
          },
          "metadata": {},
          "execution_count": 15
        }
      ]
    },
    {
      "cell_type": "markdown",
      "metadata": {
        "id": "xFqMaIEolR2T"
      },
      "source": [
        "##Identificando as sentenças em um texto."
      ]
    },
    {
      "cell_type": "markdown",
      "metadata": {
        "id": "KfqTTg4TC2z7"
      },
      "source": [
        "Mostra as frases de um texto."
      ]
    },
    {
      "cell_type": "code",
      "metadata": {
        "id": "05o-JE5RlUCQ",
        "colab": {
          "base_uri": "https://localhost:8080/"
        },
        "outputId": "a1af9575-e37f-48ff-a876-f0366655c641"
      },
      "source": [
        "for sentencas in doc.sents:\n",
        "    print(sentencas)"
      ],
      "execution_count": 16,
      "outputs": [
        {
          "output_type": "stream",
          "name": "stdout",
          "text": [
            "Wall Street Journal just published an interesting piece on crypto currencies.\n",
            "What is crypto currencies?\n"
          ]
        }
      ]
    },
    {
      "cell_type": "markdown",
      "metadata": {
        "id": "xwml1YkDlXPf"
      },
      "source": [
        "##Identificando as entidades. (NER/Named Entity Recognition)\n",
        "\n",
        "**Text**: o texto original da entidade.<br>\n",
        "**Start**: Índice de início da entidade no Doc.<br>\n",
        "**End**: Índice do fim da entidade no Doc.<br>\n",
        "**Label**: rótulo da entidade, ou seja, tipo.<br>\n",
        "\n",
        "https://medium.com/botsbrasil/como-reconhecer-entidades-na-l%C3%ADngua-portuguesa-usando-spacy-8a5ca6f42c4f"
      ]
    },
    {
      "cell_type": "markdown",
      "metadata": {
        "id": "3NRQb-Gp5EAP"
      },
      "source": [
        "### Listando as entidades identificadas"
      ]
    },
    {
      "cell_type": "code",
      "metadata": {
        "id": "OCUsoS4En0JK",
        "colab": {
          "base_uri": "https://localhost:8080/"
        },
        "outputId": "bc227617-4926-4963-ef49-3fee50926508"
      },
      "source": [
        "for ent in doc.ents:\n",
        "   print(ent.text, ent.start_char, ent.end_char, ent.label_)"
      ],
      "execution_count": 17,
      "outputs": [
        {
          "output_type": "stream",
          "name": "stdout",
          "text": [
            "Wall Street Journal 0 19 ORG\n"
          ]
        }
      ]
    },
    {
      "cell_type": "markdown",
      "metadata": {
        "id": "ww1JVrsEn2ck"
      },
      "source": [
        "ou"
      ]
    },
    {
      "cell_type": "code",
      "metadata": {
        "id": "gIytTFrXlZOU",
        "colab": {
          "base_uri": "https://localhost:8080/"
        },
        "outputId": "99e09c26-8a7f-436d-e3d8-542609e595a1"
      },
      "source": [
        "[(entity, entity.label_) for entity in doc.ents]"
      ],
      "execution_count": 18,
      "outputs": [
        {
          "output_type": "execute_result",
          "data": {
            "text/plain": [
              "[(Wall Street Journal, 'ORG')]"
            ]
          },
          "metadata": {},
          "execution_count": 18
        }
      ]
    },
    {
      "cell_type": "markdown",
      "metadata": {
        "id": "p0YyQMqVlcb3"
      },
      "source": [
        "###Checando similaridade entre as entidades."
      ]
    },
    {
      "cell_type": "code",
      "metadata": {
        "id": "5PjI4zm6lpTB",
        "colab": {
          "base_uri": "https://localhost:8080/"
        },
        "outputId": "8945efea-a254-4436-9409-faa33be54ae6"
      },
      "source": [
        "#retorna as entidades de doc\n",
        "entities = [entity for entity in doc.ents]\n",
        "\n",
        "if len(doc.ents) > 1:\n",
        "  print('Similaridade entre entities[0]=[' + str(entities[0]) + '] e entities[0]=[' + str(entities[0]) + ']: %.4g'%(entities[0].similarity(entities[0]) * 100), \"%\")\n",
        "  print('Similaridade entre entities[0]=[' + str(entities[0]) + '] e entities[1]=[' + str(entities[1]) + ']: %.4g'%(entities[0].similarity(entities[1]) * 100), \"%\")\n",
        "else:\n",
        "  print('Similaridade entre entities[0]=[' + str(entities[0]) + '] e entities[0]=[' + str(entities[0]) + ']: %.4g'%(entities[0].similarity(entities[0]) * 100), \"%\")"
      ],
      "execution_count": 19,
      "outputs": [
        {
          "output_type": "stream",
          "name": "stdout",
          "text": [
            "Similaridade entre entities[0]=[Wall Street Journal] e entities[0]=[Wall Street Journal]: 100 %\n"
          ]
        }
      ]
    },
    {
      "cell_type": "markdown",
      "metadata": {
        "id": "hsNEv69c-sms"
      },
      "source": [
        "##POS tagging / Analisando a frase\n",
        "\n",
        "https://medium.com/greyatom/learning-pos-tagging-chunking-in-nlp-85f7f811a8cb\n",
        "\n",
        "**Text**: o texto original da palavra.<br>\n",
        "**Lema**: A forma base da palavra.<br>\n",
        "**POS**: A tag simples da parte do discurso. O significado das classes estão em: https://spacy.io/api/annotation#pos-tagging<br>\n",
        "**Tag**: A etiqueta detalhada da parte do discurso.<br>\n",
        "**Dep**: Dependência sintática, ou seja, a relação entre tokens.<br>\n",
        "**Shape**: A forma da palavra - letras maiúsculas, pontuação e dígitos.<br>\n",
        "**is alpha**: o token é um caractere alfa?<br>\n",
        "**is stop**: o token faz parte de uma lista de paradas, ou seja, as palavras mais comuns do idioma?<br>"
      ]
    },
    {
      "cell_type": "code",
      "metadata": {
        "id": "T7pDkLR--rtj",
        "colab": {
          "base_uri": "https://localhost:8080/"
        },
        "outputId": "9d2fc7cc-07b1-4c92-bd84-a3562b739223"
      },
      "source": [
        "for token in doc:\n",
        "    print(token.text, token.lemma_, token.pos_, token.tag_, token.dep_,token.shape_,token.is_alpha, token.is_stop)"
      ],
      "execution_count": 20,
      "outputs": [
        {
          "output_type": "stream",
          "name": "stdout",
          "text": [
            "Wall Wall PROPN NNP compound Xxxx True False\n",
            "Street Street PROPN NNP compound Xxxxx True False\n",
            "Journal Journal PROPN NNP nsubj Xxxxx True False\n",
            "just just ADV RB advmod xxxx True True\n",
            "published publish VERB VBD ROOT xxxx True False\n",
            "an an DET DT det xx True True\n",
            "interesting interesting ADJ JJ amod xxxx True False\n",
            "piece piece NOUN NN dobj xxxx True False\n",
            "on on ADP IN prep xx True True\n",
            "crypto crypto PROPN NNP compound xxxx True False\n",
            "currencies currency NOUN NNS pobj xxxx True False\n",
            ". . PUNCT . punct . False False\n",
            "What what PRON WP attr Xxxx True True\n",
            "is be AUX VBZ ROOT xx True True\n",
            "crypto crypto NOUN NN compound xxxx True False\n",
            "currencies currency NOUN NNS nsubj xxxx True False\n",
            "? ? PUNCT . punct ? False False\n"
          ]
        }
      ]
    },
    {
      "cell_type": "markdown",
      "metadata": {
        "id": "8qZjNop31a0H"
      },
      "source": [
        "ou partes"
      ]
    },
    {
      "cell_type": "code",
      "metadata": {
        "id": "_GXoEH00uWuD",
        "colab": {
          "base_uri": "https://localhost:8080/"
        },
        "outputId": "5ba2cb15-de23-48ec-bf76-5ebfd7e9bb42"
      },
      "source": [
        "print([(token.text, token.tag_) for token in doc])"
      ],
      "execution_count": 21,
      "outputs": [
        {
          "output_type": "stream",
          "name": "stdout",
          "text": [
            "[('Wall', 'NNP'), ('Street', 'NNP'), ('Journal', 'NNP'), ('just', 'RB'), ('published', 'VBD'), ('an', 'DT'), ('interesting', 'JJ'), ('piece', 'NN'), ('on', 'IN'), ('crypto', 'NNP'), ('currencies', 'NNS'), ('.', '.'), ('What', 'WP'), ('is', 'VBZ'), ('crypto', 'NN'), ('currencies', 'NNS'), ('?', '.')]\n"
          ]
        }
      ]
    },
    {
      "cell_type": "markdown",
      "metadata": {
        "id": "b_S7dH_Fuhzc"
      },
      "source": [
        "##Noun Chunking / Substantivos\n",
        "\n",
        "Os substantivos são \"frases substantivas de base\" - frases simples que têm um substantivo como principal. Você pode pensar em blocos de substantivos como um substantivo, além das palavras que descrevem o substantivo - por exemplo, \"a luxuosa grama verde\" ou \"o maior fundo de tecnologia do mundo\".\n",
        "\n",
        "**Text**: o texto original do pedaço do substantivo.<br>\n",
        "**Root text**: o texto original da palavra que conecta o pedaço do substantivo ao restante da análise.<br>\n",
        "**Root dep**: relação de dependência que conecta a raiz à sua cabeça.<br>\n",
        "**Root head text**: o texto do cabeçalho do token raiz.<br>\n",
        "\n",
        "https://medium.com/greyatom/learning-pos-tagging-chunking-in-nlp-85f7f811a8cb"
      ]
    },
    {
      "cell_type": "code",
      "metadata": {
        "id": "m0-La0BCt1Y_",
        "colab": {
          "base_uri": "https://localhost:8080/"
        },
        "outputId": "a2beae2a-4ced-45e9-c688-5093664bded6"
      },
      "source": [
        "for chunk in doc.noun_chunks:\n",
        "    print(chunk.text, chunk.label_, chunk.root.text, chunk.root.dep_,chunk.root.head.text)"
      ],
      "execution_count": 22,
      "outputs": [
        {
          "output_type": "stream",
          "name": "stdout",
          "text": [
            "Wall Street Journal NP Journal nsubj published\n",
            "an interesting piece NP piece dobj published\n",
            "crypto currencies NP currencies pobj on\n",
            "What NP What attr is\n",
            "crypto currencies NP currencies nsubj is\n"
          ]
        }
      ]
    },
    {
      "cell_type": "markdown",
      "metadata": {
        "id": "FRK6pMzJ-ypZ"
      },
      "source": [
        "##Visualizando as dependências\n",
        "\n",
        "Éo processo de representar as dependências do texto através das relações entre os tokens. Por exemplo: um artigo está ligado a um substantivo, um advérbio modifica um verbo, e assim por diante.\n",
        "\n",
        "O significado das classes estão em: https://spacy.io/api/annotation#pos-tagging"
      ]
    },
    {
      "cell_type": "code",
      "metadata": {
        "id": "O4lMhC2L-0Ip",
        "colab": {
          "base_uri": "https://localhost:8080/",
          "height": 306
        },
        "outputId": "3bb9b337-6ad5-4c96-ce2d-30a08385213d"
      },
      "source": [
        "displacy.render(doc, style='dep', jupyter=True, options={'distance': 85})\n"
      ],
      "execution_count": 23,
      "outputs": [
        {
          "output_type": "display_data",
          "data": {
            "text/plain": [
              "<IPython.core.display.HTML object>"
            ],
            "text/html": [
              "<span class=\"tex2jax_ignore\"><svg xmlns=\"http://www.w3.org/2000/svg\" xmlns:xlink=\"http://www.w3.org/1999/xlink\" xml:lang=\"en\" id=\"c91f0689e7c840b698d1aa207d01bd5c-0\" class=\"displacy\" width=\"1325\" height=\"264.5\" direction=\"ltr\" style=\"max-width: none; height: 264.5px; color: #000000; background: #ffffff; font-family: Arial; direction: ltr\">\n",
              "<text class=\"displacy-token\" fill=\"currentColor\" text-anchor=\"middle\" y=\"174.5\">\n",
              "    <tspan class=\"displacy-word\" fill=\"currentColor\" x=\"50\">Wall</tspan>\n",
              "    <tspan class=\"displacy-tag\" dy=\"2em\" fill=\"currentColor\" x=\"50\">PROPN</tspan>\n",
              "</text>\n",
              "\n",
              "<text class=\"displacy-token\" fill=\"currentColor\" text-anchor=\"middle\" y=\"174.5\">\n",
              "    <tspan class=\"displacy-word\" fill=\"currentColor\" x=\"135\">Street</tspan>\n",
              "    <tspan class=\"displacy-tag\" dy=\"2em\" fill=\"currentColor\" x=\"135\">PROPN</tspan>\n",
              "</text>\n",
              "\n",
              "<text class=\"displacy-token\" fill=\"currentColor\" text-anchor=\"middle\" y=\"174.5\">\n",
              "    <tspan class=\"displacy-word\" fill=\"currentColor\" x=\"220\">Journal</tspan>\n",
              "    <tspan class=\"displacy-tag\" dy=\"2em\" fill=\"currentColor\" x=\"220\">PROPN</tspan>\n",
              "</text>\n",
              "\n",
              "<text class=\"displacy-token\" fill=\"currentColor\" text-anchor=\"middle\" y=\"174.5\">\n",
              "    <tspan class=\"displacy-word\" fill=\"currentColor\" x=\"305\">just</tspan>\n",
              "    <tspan class=\"displacy-tag\" dy=\"2em\" fill=\"currentColor\" x=\"305\">ADV</tspan>\n",
              "</text>\n",
              "\n",
              "<text class=\"displacy-token\" fill=\"currentColor\" text-anchor=\"middle\" y=\"174.5\">\n",
              "    <tspan class=\"displacy-word\" fill=\"currentColor\" x=\"390\">published</tspan>\n",
              "    <tspan class=\"displacy-tag\" dy=\"2em\" fill=\"currentColor\" x=\"390\">VERB</tspan>\n",
              "</text>\n",
              "\n",
              "<text class=\"displacy-token\" fill=\"currentColor\" text-anchor=\"middle\" y=\"174.5\">\n",
              "    <tspan class=\"displacy-word\" fill=\"currentColor\" x=\"475\">an</tspan>\n",
              "    <tspan class=\"displacy-tag\" dy=\"2em\" fill=\"currentColor\" x=\"475\">DET</tspan>\n",
              "</text>\n",
              "\n",
              "<text class=\"displacy-token\" fill=\"currentColor\" text-anchor=\"middle\" y=\"174.5\">\n",
              "    <tspan class=\"displacy-word\" fill=\"currentColor\" x=\"560\">interesting</tspan>\n",
              "    <tspan class=\"displacy-tag\" dy=\"2em\" fill=\"currentColor\" x=\"560\">ADJ</tspan>\n",
              "</text>\n",
              "\n",
              "<text class=\"displacy-token\" fill=\"currentColor\" text-anchor=\"middle\" y=\"174.5\">\n",
              "    <tspan class=\"displacy-word\" fill=\"currentColor\" x=\"645\">piece</tspan>\n",
              "    <tspan class=\"displacy-tag\" dy=\"2em\" fill=\"currentColor\" x=\"645\">NOUN</tspan>\n",
              "</text>\n",
              "\n",
              "<text class=\"displacy-token\" fill=\"currentColor\" text-anchor=\"middle\" y=\"174.5\">\n",
              "    <tspan class=\"displacy-word\" fill=\"currentColor\" x=\"730\">on</tspan>\n",
              "    <tspan class=\"displacy-tag\" dy=\"2em\" fill=\"currentColor\" x=\"730\">ADP</tspan>\n",
              "</text>\n",
              "\n",
              "<text class=\"displacy-token\" fill=\"currentColor\" text-anchor=\"middle\" y=\"174.5\">\n",
              "    <tspan class=\"displacy-word\" fill=\"currentColor\" x=\"815\">crypto</tspan>\n",
              "    <tspan class=\"displacy-tag\" dy=\"2em\" fill=\"currentColor\" x=\"815\">PROPN</tspan>\n",
              "</text>\n",
              "\n",
              "<text class=\"displacy-token\" fill=\"currentColor\" text-anchor=\"middle\" y=\"174.5\">\n",
              "    <tspan class=\"displacy-word\" fill=\"currentColor\" x=\"900\">currencies.</tspan>\n",
              "    <tspan class=\"displacy-tag\" dy=\"2em\" fill=\"currentColor\" x=\"900\">NOUN</tspan>\n",
              "</text>\n",
              "\n",
              "<text class=\"displacy-token\" fill=\"currentColor\" text-anchor=\"middle\" y=\"174.5\">\n",
              "    <tspan class=\"displacy-word\" fill=\"currentColor\" x=\"985\">What</tspan>\n",
              "    <tspan class=\"displacy-tag\" dy=\"2em\" fill=\"currentColor\" x=\"985\">PRON</tspan>\n",
              "</text>\n",
              "\n",
              "<text class=\"displacy-token\" fill=\"currentColor\" text-anchor=\"middle\" y=\"174.5\">\n",
              "    <tspan class=\"displacy-word\" fill=\"currentColor\" x=\"1070\">is</tspan>\n",
              "    <tspan class=\"displacy-tag\" dy=\"2em\" fill=\"currentColor\" x=\"1070\">AUX</tspan>\n",
              "</text>\n",
              "\n",
              "<text class=\"displacy-token\" fill=\"currentColor\" text-anchor=\"middle\" y=\"174.5\">\n",
              "    <tspan class=\"displacy-word\" fill=\"currentColor\" x=\"1155\">crypto</tspan>\n",
              "    <tspan class=\"displacy-tag\" dy=\"2em\" fill=\"currentColor\" x=\"1155\">NOUN</tspan>\n",
              "</text>\n",
              "\n",
              "<text class=\"displacy-token\" fill=\"currentColor\" text-anchor=\"middle\" y=\"174.5\">\n",
              "    <tspan class=\"displacy-word\" fill=\"currentColor\" x=\"1240\">currencies?</tspan>\n",
              "    <tspan class=\"displacy-tag\" dy=\"2em\" fill=\"currentColor\" x=\"1240\">NOUN</tspan>\n",
              "</text>\n",
              "\n",
              "<g class=\"displacy-arrow\">\n",
              "    <path class=\"displacy-arc\" id=\"arrow-c91f0689e7c840b698d1aa207d01bd5c-0-0\" stroke-width=\"2px\" d=\"M70,129.5 C70,87.0 125.0,87.0 125.0,129.5\" fill=\"none\" stroke=\"currentColor\"/>\n",
              "    <text dy=\"1.25em\" style=\"font-size: 0.8em; letter-spacing: 1px\">\n",
              "        <textPath xlink:href=\"#arrow-c91f0689e7c840b698d1aa207d01bd5c-0-0\" class=\"displacy-label\" startOffset=\"50%\" side=\"left\" fill=\"currentColor\" text-anchor=\"middle\">compound</textPath>\n",
              "    </text>\n",
              "    <path class=\"displacy-arrowhead\" d=\"M70,131.5 L62,119.5 78,119.5\" fill=\"currentColor\"/>\n",
              "</g>\n",
              "\n",
              "<g class=\"displacy-arrow\">\n",
              "    <path class=\"displacy-arc\" id=\"arrow-c91f0689e7c840b698d1aa207d01bd5c-0-1\" stroke-width=\"2px\" d=\"M155,129.5 C155,87.0 210.0,87.0 210.0,129.5\" fill=\"none\" stroke=\"currentColor\"/>\n",
              "    <text dy=\"1.25em\" style=\"font-size: 0.8em; letter-spacing: 1px\">\n",
              "        <textPath xlink:href=\"#arrow-c91f0689e7c840b698d1aa207d01bd5c-0-1\" class=\"displacy-label\" startOffset=\"50%\" side=\"left\" fill=\"currentColor\" text-anchor=\"middle\">compound</textPath>\n",
              "    </text>\n",
              "    <path class=\"displacy-arrowhead\" d=\"M155,131.5 L147,119.5 163,119.5\" fill=\"currentColor\"/>\n",
              "</g>\n",
              "\n",
              "<g class=\"displacy-arrow\">\n",
              "    <path class=\"displacy-arc\" id=\"arrow-c91f0689e7c840b698d1aa207d01bd5c-0-2\" stroke-width=\"2px\" d=\"M240,129.5 C240,44.5 385.0,44.5 385.0,129.5\" fill=\"none\" stroke=\"currentColor\"/>\n",
              "    <text dy=\"1.25em\" style=\"font-size: 0.8em; letter-spacing: 1px\">\n",
              "        <textPath xlink:href=\"#arrow-c91f0689e7c840b698d1aa207d01bd5c-0-2\" class=\"displacy-label\" startOffset=\"50%\" side=\"left\" fill=\"currentColor\" text-anchor=\"middle\">nsubj</textPath>\n",
              "    </text>\n",
              "    <path class=\"displacy-arrowhead\" d=\"M240,131.5 L232,119.5 248,119.5\" fill=\"currentColor\"/>\n",
              "</g>\n",
              "\n",
              "<g class=\"displacy-arrow\">\n",
              "    <path class=\"displacy-arc\" id=\"arrow-c91f0689e7c840b698d1aa207d01bd5c-0-3\" stroke-width=\"2px\" d=\"M325,129.5 C325,87.0 380.0,87.0 380.0,129.5\" fill=\"none\" stroke=\"currentColor\"/>\n",
              "    <text dy=\"1.25em\" style=\"font-size: 0.8em; letter-spacing: 1px\">\n",
              "        <textPath xlink:href=\"#arrow-c91f0689e7c840b698d1aa207d01bd5c-0-3\" class=\"displacy-label\" startOffset=\"50%\" side=\"left\" fill=\"currentColor\" text-anchor=\"middle\">advmod</textPath>\n",
              "    </text>\n",
              "    <path class=\"displacy-arrowhead\" d=\"M325,131.5 L317,119.5 333,119.5\" fill=\"currentColor\"/>\n",
              "</g>\n",
              "\n",
              "<g class=\"displacy-arrow\">\n",
              "    <path class=\"displacy-arc\" id=\"arrow-c91f0689e7c840b698d1aa207d01bd5c-0-4\" stroke-width=\"2px\" d=\"M495,129.5 C495,44.5 640.0,44.5 640.0,129.5\" fill=\"none\" stroke=\"currentColor\"/>\n",
              "    <text dy=\"1.25em\" style=\"font-size: 0.8em; letter-spacing: 1px\">\n",
              "        <textPath xlink:href=\"#arrow-c91f0689e7c840b698d1aa207d01bd5c-0-4\" class=\"displacy-label\" startOffset=\"50%\" side=\"left\" fill=\"currentColor\" text-anchor=\"middle\">det</textPath>\n",
              "    </text>\n",
              "    <path class=\"displacy-arrowhead\" d=\"M495,131.5 L487,119.5 503,119.5\" fill=\"currentColor\"/>\n",
              "</g>\n",
              "\n",
              "<g class=\"displacy-arrow\">\n",
              "    <path class=\"displacy-arc\" id=\"arrow-c91f0689e7c840b698d1aa207d01bd5c-0-5\" stroke-width=\"2px\" d=\"M580,129.5 C580,87.0 635.0,87.0 635.0,129.5\" fill=\"none\" stroke=\"currentColor\"/>\n",
              "    <text dy=\"1.25em\" style=\"font-size: 0.8em; letter-spacing: 1px\">\n",
              "        <textPath xlink:href=\"#arrow-c91f0689e7c840b698d1aa207d01bd5c-0-5\" class=\"displacy-label\" startOffset=\"50%\" side=\"left\" fill=\"currentColor\" text-anchor=\"middle\">amod</textPath>\n",
              "    </text>\n",
              "    <path class=\"displacy-arrowhead\" d=\"M580,131.5 L572,119.5 588,119.5\" fill=\"currentColor\"/>\n",
              "</g>\n",
              "\n",
              "<g class=\"displacy-arrow\">\n",
              "    <path class=\"displacy-arc\" id=\"arrow-c91f0689e7c840b698d1aa207d01bd5c-0-6\" stroke-width=\"2px\" d=\"M410,129.5 C410,2.0 645.0,2.0 645.0,129.5\" fill=\"none\" stroke=\"currentColor\"/>\n",
              "    <text dy=\"1.25em\" style=\"font-size: 0.8em; letter-spacing: 1px\">\n",
              "        <textPath xlink:href=\"#arrow-c91f0689e7c840b698d1aa207d01bd5c-0-6\" class=\"displacy-label\" startOffset=\"50%\" side=\"left\" fill=\"currentColor\" text-anchor=\"middle\">dobj</textPath>\n",
              "    </text>\n",
              "    <path class=\"displacy-arrowhead\" d=\"M645.0,131.5 L653.0,119.5 637.0,119.5\" fill=\"currentColor\"/>\n",
              "</g>\n",
              "\n",
              "<g class=\"displacy-arrow\">\n",
              "    <path class=\"displacy-arc\" id=\"arrow-c91f0689e7c840b698d1aa207d01bd5c-0-7\" stroke-width=\"2px\" d=\"M665,129.5 C665,87.0 720.0,87.0 720.0,129.5\" fill=\"none\" stroke=\"currentColor\"/>\n",
              "    <text dy=\"1.25em\" style=\"font-size: 0.8em; letter-spacing: 1px\">\n",
              "        <textPath xlink:href=\"#arrow-c91f0689e7c840b698d1aa207d01bd5c-0-7\" class=\"displacy-label\" startOffset=\"50%\" side=\"left\" fill=\"currentColor\" text-anchor=\"middle\">prep</textPath>\n",
              "    </text>\n",
              "    <path class=\"displacy-arrowhead\" d=\"M720.0,131.5 L728.0,119.5 712.0,119.5\" fill=\"currentColor\"/>\n",
              "</g>\n",
              "\n",
              "<g class=\"displacy-arrow\">\n",
              "    <path class=\"displacy-arc\" id=\"arrow-c91f0689e7c840b698d1aa207d01bd5c-0-8\" stroke-width=\"2px\" d=\"M835,129.5 C835,87.0 890.0,87.0 890.0,129.5\" fill=\"none\" stroke=\"currentColor\"/>\n",
              "    <text dy=\"1.25em\" style=\"font-size: 0.8em; letter-spacing: 1px\">\n",
              "        <textPath xlink:href=\"#arrow-c91f0689e7c840b698d1aa207d01bd5c-0-8\" class=\"displacy-label\" startOffset=\"50%\" side=\"left\" fill=\"currentColor\" text-anchor=\"middle\">compound</textPath>\n",
              "    </text>\n",
              "    <path class=\"displacy-arrowhead\" d=\"M835,131.5 L827,119.5 843,119.5\" fill=\"currentColor\"/>\n",
              "</g>\n",
              "\n",
              "<g class=\"displacy-arrow\">\n",
              "    <path class=\"displacy-arc\" id=\"arrow-c91f0689e7c840b698d1aa207d01bd5c-0-9\" stroke-width=\"2px\" d=\"M750,129.5 C750,44.5 895.0,44.5 895.0,129.5\" fill=\"none\" stroke=\"currentColor\"/>\n",
              "    <text dy=\"1.25em\" style=\"font-size: 0.8em; letter-spacing: 1px\">\n",
              "        <textPath xlink:href=\"#arrow-c91f0689e7c840b698d1aa207d01bd5c-0-9\" class=\"displacy-label\" startOffset=\"50%\" side=\"left\" fill=\"currentColor\" text-anchor=\"middle\">pobj</textPath>\n",
              "    </text>\n",
              "    <path class=\"displacy-arrowhead\" d=\"M895.0,131.5 L903.0,119.5 887.0,119.5\" fill=\"currentColor\"/>\n",
              "</g>\n",
              "\n",
              "<g class=\"displacy-arrow\">\n",
              "    <path class=\"displacy-arc\" id=\"arrow-c91f0689e7c840b698d1aa207d01bd5c-0-10\" stroke-width=\"2px\" d=\"M1005,129.5 C1005,87.0 1060.0,87.0 1060.0,129.5\" fill=\"none\" stroke=\"currentColor\"/>\n",
              "    <text dy=\"1.25em\" style=\"font-size: 0.8em; letter-spacing: 1px\">\n",
              "        <textPath xlink:href=\"#arrow-c91f0689e7c840b698d1aa207d01bd5c-0-10\" class=\"displacy-label\" startOffset=\"50%\" side=\"left\" fill=\"currentColor\" text-anchor=\"middle\">attr</textPath>\n",
              "    </text>\n",
              "    <path class=\"displacy-arrowhead\" d=\"M1005,131.5 L997,119.5 1013,119.5\" fill=\"currentColor\"/>\n",
              "</g>\n",
              "\n",
              "<g class=\"displacy-arrow\">\n",
              "    <path class=\"displacy-arc\" id=\"arrow-c91f0689e7c840b698d1aa207d01bd5c-0-11\" stroke-width=\"2px\" d=\"M1175,129.5 C1175,87.0 1230.0,87.0 1230.0,129.5\" fill=\"none\" stroke=\"currentColor\"/>\n",
              "    <text dy=\"1.25em\" style=\"font-size: 0.8em; letter-spacing: 1px\">\n",
              "        <textPath xlink:href=\"#arrow-c91f0689e7c840b698d1aa207d01bd5c-0-11\" class=\"displacy-label\" startOffset=\"50%\" side=\"left\" fill=\"currentColor\" text-anchor=\"middle\">compound</textPath>\n",
              "    </text>\n",
              "    <path class=\"displacy-arrowhead\" d=\"M1175,131.5 L1167,119.5 1183,119.5\" fill=\"currentColor\"/>\n",
              "</g>\n",
              "\n",
              "<g class=\"displacy-arrow\">\n",
              "    <path class=\"displacy-arc\" id=\"arrow-c91f0689e7c840b698d1aa207d01bd5c-0-12\" stroke-width=\"2px\" d=\"M1090,129.5 C1090,44.5 1235.0,44.5 1235.0,129.5\" fill=\"none\" stroke=\"currentColor\"/>\n",
              "    <text dy=\"1.25em\" style=\"font-size: 0.8em; letter-spacing: 1px\">\n",
              "        <textPath xlink:href=\"#arrow-c91f0689e7c840b698d1aa207d01bd5c-0-12\" class=\"displacy-label\" startOffset=\"50%\" side=\"left\" fill=\"currentColor\" text-anchor=\"middle\">nsubj</textPath>\n",
              "    </text>\n",
              "    <path class=\"displacy-arrowhead\" d=\"M1235.0,131.5 L1243.0,119.5 1227.0,119.5\" fill=\"currentColor\"/>\n",
              "</g>\n",
              "</svg></span>"
            ]
          },
          "metadata": {}
        }
      ]
    },
    {
      "cell_type": "markdown",
      "metadata": {
        "id": "W6alLd-DiG0g"
      },
      "source": [
        "# 4 Árvore de Análise"
      ]
    },
    {
      "cell_type": "code",
      "metadata": {
        "id": "Jzezf2lmhyaV",
        "colab": {
          "base_uri": "https://localhost:8080/"
        },
        "outputId": "a447d006-ea1e-4845-ff05-e9626ad78095"
      },
      "source": [
        "from nltk import Tree\n",
        "\n",
        "def to_nltk_tree(node):\n",
        "    if node.n_lefts + node.n_rights > 0:\n",
        "        return Tree(node.orth_, [to_nltk_tree(child) for child in node.children])\n",
        "    else:\n",
        "        return node.orth_\n",
        "\n",
        "[to_nltk_tree(sent.root).pretty_print() for sent in doc.sents]"
      ],
      "execution_count": 24,
      "outputs": [
        {
          "output_type": "stream",
          "name": "stdout",
          "text": [
            "         published                           \n",
            "  ___________|______________                  \n",
            " |    |      |            piece              \n",
            " |    |      |       _______|__________       \n",
            " |    |   Journal   |       |          on    \n",
            " |    |      |      |       |          |      \n",
            " |    |    Street   |       |      currencies\n",
            " |    |      |      |       |          |      \n",
            "just  .     Wall    an interesting   crypto  \n",
            "\n",
            "      is           \n",
            "  ____|______       \n",
            " |    |  currencies\n",
            " |    |      |      \n",
            "What  ?    crypto  \n",
            "\n"
          ]
        },
        {
          "output_type": "execute_result",
          "data": {
            "text/plain": [
              "[None, None]"
            ]
          },
          "metadata": {},
          "execution_count": 24
        }
      ]
    },
    {
      "cell_type": "markdown",
      "metadata": {
        "id": "FLRCeu_ormZF"
      },
      "source": [
        "# 5 Frase substantiva\n",
        "\n",
        "https://realpython.com/natural-language-processing-spacy-python/"
      ]
    },
    {
      "cell_type": "code",
      "metadata": {
        "id": "wB5NTb8MroUc",
        "colab": {
          "base_uri": "https://localhost:8080/"
        },
        "outputId": "cd680de1-5f0c-483a-fd66-aa6d4a1e1aa0"
      },
      "source": [
        "doc = nlp(document)\n",
        "\n",
        "# Extrai a frase substantiva\n",
        "for chunk in doc.noun_chunks:\n",
        "   print (chunk)"
      ],
      "execution_count": 25,
      "outputs": [
        {
          "output_type": "stream",
          "name": "stdout",
          "text": [
            "Wall Street Journal\n",
            "an interesting piece\n",
            "crypto currencies\n",
            "What\n",
            "crypto currencies\n"
          ]
        }
      ]
    },
    {
      "cell_type": "markdown",
      "metadata": {
        "id": "KAj24RXQKIzK"
      },
      "source": [
        "## Outros Exemplos"
      ]
    },
    {
      "cell_type": "markdown",
      "metadata": {
        "id": "aAYU5iNSJtqq"
      },
      "source": [
        "Visualiza o vetor que representa a palavra 'Journal'."
      ]
    },
    {
      "cell_type": "code",
      "metadata": {
        "id": "OdIXJ6KuJ63h",
        "colab": {
          "base_uri": "https://localhost:8080/"
        },
        "outputId": "44b60393-be98-4435-ae1a-5a051ab18211"
      },
      "source": [
        "print(nlp.vocab[u'and'].vector)"
      ],
      "execution_count": 26,
      "outputs": [
        {
          "output_type": "stream",
          "name": "stdout",
          "text": [
            "[-3.3477e+00 -6.0854e+00 -3.6366e+00  5.3480e-01  8.4195e+00  1.3784e+00\n",
            "  3.1166e-01  5.6086e+00 -7.7685e-01 -3.3725e+00  5.4329e+00  5.6387e+00\n",
            " -4.1205e+00  1.5086e-01  2.8298e+00  6.9572e-01 -9.3532e-01  9.1541e-03\n",
            " -6.3726e+00 -6.9950e+00  3.9154e+00 -2.4749e+00 -5.8399e-01 -1.4355e+00\n",
            "  2.0191e+00 -4.0832e+00 -4.8968e+00 -1.9113e+00 -1.5628e+00  3.5496e-01\n",
            " -1.6256e+00 -1.2456e+00  1.9968e-01 -2.3400e+00 -4.9446e+00 -6.0552e-01\n",
            " -2.0166e-02  3.4880e+00 -3.0311e+00 -8.3404e-01  8.0265e+00 -1.3459e+00\n",
            " -2.2444e+00 -1.3351e+00  1.3528e+00  3.3609e+00 -1.2901e+00 -3.2747e+00\n",
            " -9.5598e-01  2.0673e+00 -2.6536e+00  5.8997e+00 -1.7266e+00 -7.8783e+00\n",
            "  4.7405e+00  2.5866e-01 -2.7322e+00  1.0752e+00  1.0980e+00 -6.0148e+00\n",
            " -1.3032e+00 -1.1575e+00 -1.1644e+00 -3.0110e+00  9.2055e+00  2.0158e+00\n",
            " -2.0257e+00 -3.7185e+00  2.2678e+00  1.1666e+00  4.1012e-02 -5.4005e+00\n",
            " -3.4992e+00  3.0273e-01  8.9587e-01 -1.1921e+00 -1.0156e+01  1.9735e+00\n",
            " -1.1343e+00  2.9908e-01 -8.3119e+00 -1.2927e-01 -4.7398e-01  2.7306e+00\n",
            "  4.7620e+00  2.1546e+00 -3.0200e+00 -7.0219e+00 -8.2944e-01 -5.3118e-01\n",
            " -1.2210e+00  1.3295e+00  1.3526e+00 -6.4066e+00  2.2311e-01 -1.4229e+00\n",
            "  9.6513e-01 -6.2025e-01  4.6217e+00  5.0426e+00  4.1352e+00  1.2105e+00\n",
            "  3.1075e+00  3.0936e+00  3.4680e+00  6.2522e+00 -1.7095e-01 -8.5023e+00\n",
            "  1.1518e+00 -4.7666e+00  5.3092e+00 -3.3873e-01 -1.5671e+00  2.3032e+00\n",
            "  3.5856e+00 -4.0447e-01  1.6133e+00 -7.4164e-01  6.1202e-01 -5.8441e+00\n",
            " -4.8192e+00 -2.5541e+00  3.5740e+00 -1.9527e+00 -3.8085e+00 -7.0064e+00\n",
            "  9.2642e-01 -5.9825e+00  5.5945e+00 -1.2243e+00 -3.8537e+00 -1.2355e+00\n",
            "  6.8709e+00  3.6498e+00  1.0743e+00  9.5033e-02 -4.2706e+00 -2.0494e+00\n",
            "  2.6410e-01  7.4361e-01 -2.4367e+00 -2.0088e-01 -4.4894e+00  1.4475e+00\n",
            "  4.2339e+00 -3.4373e+00 -2.5324e+00 -1.1939e-01  4.5831e+00  4.5200e+00\n",
            "  2.0625e+00  7.4849e-01 -3.0188e-01  9.0094e-01 -4.7244e+00  2.4985e+00\n",
            "  3.5625e+00 -3.1229e+00 -4.2329e+00 -3.7095e+00 -2.3100e+00 -1.5219e+00\n",
            "  1.5750e+00  4.1633e+00 -1.3896e+00 -5.2737e+00 -4.6754e+00 -2.3137e+00\n",
            " -1.1227e+00 -1.5966e+00  2.8349e+00 -3.3038e+00  4.3173e+00  1.0376e+00\n",
            "  5.5165e+00  1.7624e+00  2.2043e+00 -1.2275e+00 -4.6109e+00 -3.6814e+00\n",
            " -2.8025e+00 -2.7819e+00 -3.0429e-01 -2.6890e+00 -1.5402e+00  3.5299e+00\n",
            " -3.0257e+00  2.5725e+00  1.2462e-01  1.0820e+00 -1.2301e+00 -6.6549e+00\n",
            "  1.0731e+00 -2.9001e+00  3.6835e+00  1.9213e+00 -7.6379e+00 -1.8430e+00\n",
            "  4.8141e+00 -4.1234e+00  7.3336e-01 -1.4880e+00  1.3210e+00  8.3106e-01\n",
            "  8.2333e+00 -1.8785e+00 -9.6345e+00  2.9099e+00  1.2752e+00 -1.2896e+00\n",
            " -1.0965e+00  1.8122e+00  4.3734e-01  2.0569e+00  1.1762e+00  4.7819e+00\n",
            " -2.2311e+00 -7.7379e+00 -1.9647e-01  2.3799e+00 -2.8033e+00  5.4423e+00\n",
            " -3.0252e+00  3.1974e+00  8.2303e-01 -2.1532e+00  2.5396e+00  3.7141e+00\n",
            "  3.2370e+00  7.6905e-01  4.5022e+00 -2.6482e+00 -2.8956e-01  3.0454e+00\n",
            "  9.0661e+00  4.4294e-01 -6.7425e+00  7.6959e-01  2.8843e-01 -1.5053e+00\n",
            "  1.4403e+00  2.9491e+00  1.3645e+00 -2.5459e+00 -1.9618e+00  4.4388e+00\n",
            " -4.1349e+00  1.6034e+00 -9.3299e-01  4.5318e+00 -9.1945e-02 -9.5571e-01\n",
            " -4.0386e+00 -2.5266e-01  2.0590e+00 -5.8959e+00  1.3721e+00 -2.1195e+00\n",
            " -2.2869e+00  6.1725e-01  1.1460e+00  5.8239e+00  6.3025e+00  2.3757e+00\n",
            "  5.1220e+00 -8.3089e-01  8.9626e-01  3.1396e+00  8.7682e-01  3.4618e+00\n",
            "  2.2022e+00 -1.5004e+00  3.6908e-01 -1.9465e+00  1.7115e+00 -2.9974e+00\n",
            "  4.6474e+00 -3.9453e+00 -1.8677e+00  1.3982e+00  6.2974e+00  2.5338e+00\n",
            "  7.0744e+00  5.1378e+00  8.5509e-01 -4.4000e+00 -5.4350e+00  2.6714e+00\n",
            " -3.2437e+00 -1.9313e+00 -4.8934e+00 -1.2057e+00 -2.7239e+00 -2.6058e+00\n",
            " -2.9018e+00 -3.0609e-01 -5.0277e-01 -6.2077e+00 -5.5469e+00 -1.9963e+00]\n"
          ]
        }
      ]
    },
    {
      "cell_type": "markdown",
      "metadata": {
        "id": "Hp4KXhZNyVNh"
      },
      "source": [
        "Import para apresentação dos dados"
      ]
    },
    {
      "cell_type": "code",
      "metadata": {
        "id": "sQqDa6lgfqJX"
      },
      "source": [
        "from scipy import spatial\n",
        "from jinja2 import Template\n",
        "from IPython.display import display, HTML\n",
        "\n",
        "logging.info('Import realizado!')"
      ],
      "execution_count": 27,
      "outputs": []
    },
    {
      "cell_type": "markdown",
      "metadata": {
        "id": "QWhQ6U9WyYQK"
      },
      "source": [
        "Função para calcular a similaridade e apresentação dos dados."
      ]
    },
    {
      "cell_type": "code",
      "metadata": {
        "id": "9atJadP_VvJr"
      },
      "source": [
        "#template de apresentação dos dados\n",
        "table_list_template = \"\"\"\n",
        "<table>\n",
        "        <tr>\n",
        "           <th>Palavra</th>\n",
        "           <th>Similaridade</th>\n",
        "        </tr>\n",
        "        {% for item in items%}\n",
        "        <TR>\n",
        "           <TD class=\"c1\">{{item[0].text}}</TD>\n",
        "           <TD class=\"c2\">{{item[1]}}</TD>\n",
        "        </TR>\n",
        "        {% endfor %}\n",
        "</table>\n",
        "\"\"\"\n",
        "\n",
        "#função de cálculo da das palavras\n",
        "def most_similar(positive, negative):\n",
        "    cosine_similarity = lambda x, y: 1 - spatial.distance.cosine(x, y)\n",
        "\n",
        "    #recupera o cálculo das palavras\n",
        "    positivo1 = nlp.vocab[positive[0]].vector\n",
        "    positivo2 = nlp.vocab[positive[1]].vector\n",
        "    negativo1 = nlp.vocab[negative[0]].vector\n",
        "\n",
        "    # Agora precisamos encontrar o vetor mais próximo no vocabulário do resultado de \"man\" - \"woman\" + \"queen\"\n",
        "    diferenca = negativo1 - positivo2 + positivo1\n",
        "\n",
        "    cs = []\n",
        "    for word in nlp.vocab:\n",
        "        # Ignore palavras sem vetor\n",
        "        if not word.has_vector:\n",
        "            continue\n",
        "\n",
        "        similarity = cosine_similarity(diferenca, word.vector)\n",
        "        cs.append((word, similarity))\n",
        "\n",
        "    cs = sorted(cs, key=lambda item: -item[1])\n",
        "\n",
        "    tmpl = Template(table_list_template)\n",
        "    output_html = tmpl.render(items=cs[:10])\n",
        "    return HTML(output_html)\n",
        "\n",
        "logging.info('Função criada!')"
      ],
      "execution_count": 28,
      "outputs": []
    },
    {
      "cell_type": "markdown",
      "metadata": {
        "id": "OZfBgX9FUo-T"
      },
      "source": [
        "Similaridade de \"queen\" e \"king\"<br>\n",
        "Rainha + Mulher – Homem = ?"
      ]
    },
    {
      "cell_type": "code",
      "metadata": {
        "id": "Q-9qOEEIV7h9",
        "colab": {
          "base_uri": "https://localhost:8080/",
          "height": 254
        },
        "outputId": "7ce9a522-0ef0-438f-b22c-30823b6af93f"
      },
      "source": [
        "most_similar(positive=[u'Queen',u'Woman'], negative=[u'Man'])\n",
        "#['Queen', 'QUEEN', 'queen', 'King', 'KING', 'king', 'KIng', 'Kings', 'KINGS', 'kings']"
      ],
      "execution_count": 29,
      "outputs": [
        {
          "output_type": "execute_result",
          "data": {
            "text/plain": [
              "<IPython.core.display.HTML object>"
            ],
            "text/html": [
              " \n",
              "<table> \n",
              "        <tr>  \n",
              "           <th>Palavra</th>   \n",
              "           <th>Similaridade</th>   \n",
              "        </tr>  \n",
              "          \n",
              "        <TR>     \n",
              "           <TD class=\"c1\">Man</TD>     \n",
              "           <TD class=\"c2\">0.7194699048995972</TD>   \n",
              "        </TR>   \n",
              "          \n",
              "        <TR>     \n",
              "           <TD class=\"c1\">Queen</TD>     \n",
              "           <TD class=\"c2\">0.6806347370147705</TD>   \n",
              "        </TR>   \n",
              "          \n",
              "        <TR>     \n",
              "           <TD class=\"c1\">Woman</TD>     \n",
              "           <TD class=\"c2\">0.2698817849159241</TD>   \n",
              "        </TR>   \n",
              "          \n",
              "        <TR>     \n",
              "           <TD class=\"c1\">Miss</TD>     \n",
              "           <TD class=\"c2\">0.2632724344730377</TD>   \n",
              "        </TR>   \n",
              "          \n",
              "        <TR>     \n",
              "           <TD class=\"c1\">Sha</TD>     \n",
              "           <TD class=\"c2\">0.2543659508228302</TD>   \n",
              "        </TR>   \n",
              "          \n",
              "        <TR>     \n",
              "           <TD class=\"c1\">O</TD>     \n",
              "           <TD class=\"c2\">0.22243650257587433</TD>   \n",
              "        </TR>   \n",
              "          \n",
              "        <TR>     \n",
              "           <TD class=\"c1\">Wall</TD>     \n",
              "           <TD class=\"c2\">0.19981205463409424</TD>   \n",
              "        </TR>   \n",
              "          \n",
              "        <TR>     \n",
              "           <TD class=\"c1\">Kan</TD>     \n",
              "           <TD class=\"c2\">0.1984662562608719</TD>   \n",
              "        </TR>   \n",
              "          \n",
              "        <TR>     \n",
              "           <TD class=\"c1\">Ark</TD>     \n",
              "           <TD class=\"c2\">0.19829553365707397</TD>   \n",
              "        </TR>   \n",
              "          \n",
              "        <TR>     \n",
              "           <TD class=\"c1\">\"</TD>     \n",
              "           <TD class=\"c2\">0.19219277799129486</TD>   \n",
              "        </TR>   \n",
              "        \n",
              "</table> "
            ]
          },
          "metadata": {},
          "execution_count": 29
        }
      ]
    },
    {
      "cell_type": "markdown",
      "metadata": {
        "id": "9iKAtTiKxkDM"
      },
      "source": [
        "\n",
        "Rainha + Homem – Mulher = ?"
      ]
    },
    {
      "cell_type": "code",
      "metadata": {
        "id": "f59RMra0xlKT",
        "colab": {
          "base_uri": "https://localhost:8080/",
          "height": 254
        },
        "outputId": "0dbc9328-ddca-4ae9-f84d-5c04bfa39353"
      },
      "source": [
        "most_similar(positive=[u'queen',u'man'], negative=[u'woman'])"
      ],
      "execution_count": 30,
      "outputs": [
        {
          "output_type": "execute_result",
          "data": {
            "text/plain": [
              "<IPython.core.display.HTML object>"
            ],
            "text/html": [
              " \n",
              "<table> \n",
              "        <tr>  \n",
              "           <th>Palavra</th>   \n",
              "           <th>Similaridade</th>   \n",
              "        </tr>  \n",
              "          \n",
              "        <TR>     \n",
              "           <TD class=\"c1\">queen</TD>     \n",
              "           <TD class=\"c2\">0.7638460397720337</TD>   \n",
              "        </TR>   \n",
              "          \n",
              "        <TR>     \n",
              "           <TD class=\"c1\">Queen</TD>     \n",
              "           <TD class=\"c2\">0.6072567701339722</TD>   \n",
              "        </TR>   \n",
              "          \n",
              "        <TR>     \n",
              "           <TD class=\"c1\">she</TD>     \n",
              "           <TD class=\"c2\">0.38101375102996826</TD>   \n",
              "        </TR>   \n",
              "          \n",
              "        <TR>     \n",
              "           <TD class=\"c1\">Miss</TD>     \n",
              "           <TD class=\"c2\">0.37047478556632996</TD>   \n",
              "        </TR>   \n",
              "          \n",
              "        <TR>     \n",
              "           <TD class=\"c1\">woman</TD>     \n",
              "           <TD class=\"c2\">0.30485567450523376</TD>   \n",
              "        </TR>   \n",
              "          \n",
              "        <TR>     \n",
              "           <TD class=\"c1\">She</TD>     \n",
              "           <TD class=\"c2\">0.29597920179367065</TD>   \n",
              "        </TR>   \n",
              "          \n",
              "        <TR>     \n",
              "           <TD class=\"c1\">i.e</TD>     \n",
              "           <TD class=\"c2\">0.23995493352413177</TD>   \n",
              "        </TR>   \n",
              "          \n",
              "        <TR>     \n",
              "           <TD class=\"c1\">Woman</TD>     \n",
              "           <TD class=\"c2\">0.21713925898075104</TD>   \n",
              "        </TR>   \n",
              "          \n",
              "        <TR>     \n",
              "           <TD class=\"c1\">r.</TD>     \n",
              "           <TD class=\"c2\">0.19598105549812317</TD>   \n",
              "        </TR>   \n",
              "          \n",
              "        <TR>     \n",
              "           <TD class=\"c1\"><3</TD>     \n",
              "           <TD class=\"c2\">0.1865963190793991</TD>   \n",
              "        </TR>   \n",
              "        \n",
              "</table> "
            ]
          },
          "metadata": {},
          "execution_count": 30
        }
      ]
    },
    {
      "cell_type": "markdown",
      "metadata": {
        "id": "Sw-Avpb0zL9b"
      },
      "source": [
        "Rei + Mulher – Homem = ?"
      ]
    },
    {
      "cell_type": "code",
      "metadata": {
        "id": "H1v8VY6DzMJK",
        "colab": {
          "base_uri": "https://localhost:8080/",
          "height": 254
        },
        "outputId": "130ac3ab-259a-4e11-f3d5-f8ee0ea738cb"
      },
      "source": [
        "most_similar(positive=[u'king',u'woman'], negative=[u'man'])"
      ],
      "execution_count": 31,
      "outputs": [
        {
          "output_type": "execute_result",
          "data": {
            "text/plain": [
              "<IPython.core.display.HTML object>"
            ],
            "text/html": [
              " \n",
              "<table> \n",
              "        <tr>  \n",
              "           <th>Palavra</th>   \n",
              "           <th>Similaridade</th>   \n",
              "        </tr>  \n",
              "          \n",
              "        <TR>     \n",
              "           <TD class=\"c1\">king</TD>     \n",
              "           <TD class=\"c2\">0.9031597375869751</TD>   \n",
              "        </TR>   \n",
              "          \n",
              "        <TR>     \n",
              "           <TD class=\"c1\">man</TD>     \n",
              "           <TD class=\"c2\">0.6066977381706238</TD>   \n",
              "        </TR>   \n",
              "          \n",
              "        <TR>     \n",
              "           <TD class=\"c1\">queen</TD>     \n",
              "           <TD class=\"c2\">0.4711490571498871</TD>   \n",
              "        </TR>   \n",
              "          \n",
              "        <TR>     \n",
              "           <TD class=\"c1\">that</TD>     \n",
              "           <TD class=\"c2\">0.3780456781387329</TD>   \n",
              "        </TR>   \n",
              "          \n",
              "        <TR>     \n",
              "           <TD class=\"c1\">he</TD>     \n",
              "           <TD class=\"c2\">0.3769613802433014</TD>   \n",
              "        </TR>   \n",
              "          \n",
              "        <TR>     \n",
              "           <TD class=\"c1\">that’s</TD>     \n",
              "           <TD class=\"c2\">0.3697320520877838</TD>   \n",
              "        </TR>   \n",
              "          \n",
              "        <TR>     \n",
              "           <TD class=\"c1\">’cause</TD>     \n",
              "           <TD class=\"c2\">0.3687140643596649</TD>   \n",
              "        </TR>   \n",
              "          \n",
              "        <TR>     \n",
              "           <TD class=\"c1\">r.</TD>     \n",
              "           <TD class=\"c2\">0.35886678099632263</TD>   \n",
              "        </TR>   \n",
              "          \n",
              "        <TR>     \n",
              "           <TD class=\"c1\">there's</TD>     \n",
              "           <TD class=\"c2\">0.3537166714668274</TD>   \n",
              "        </TR>   \n",
              "          \n",
              "        <TR>     \n",
              "           <TD class=\"c1\">there</TD>     \n",
              "           <TD class=\"c2\">0.34342992305755615</TD>   \n",
              "        </TR>   \n",
              "        \n",
              "</table> "
            ]
          },
          "metadata": {},
          "execution_count": 31
        }
      ]
    },
    {
      "cell_type": "markdown",
      "metadata": {
        "id": "lmW-B5JO0SqG"
      },
      "source": [
        "Rei + Homem – Mulher = ?"
      ]
    },
    {
      "cell_type": "code",
      "metadata": {
        "id": "yKyR2bi-0L7K",
        "colab": {
          "base_uri": "https://localhost:8080/",
          "height": 254
        },
        "outputId": "dcc04a66-0a11-4ee1-f917-678d9046404e"
      },
      "source": [
        "most_similar(positive=[u'king',u'man'], negative=[u'woman'])"
      ],
      "execution_count": 32,
      "outputs": [
        {
          "output_type": "execute_result",
          "data": {
            "text/plain": [
              "<IPython.core.display.HTML object>"
            ],
            "text/html": [
              " \n",
              "<table> \n",
              "        <tr>  \n",
              "           <th>Palavra</th>   \n",
              "           <th>Similaridade</th>   \n",
              "        </tr>  \n",
              "          \n",
              "        <TR>     \n",
              "           <TD class=\"c1\">king</TD>     \n",
              "           <TD class=\"c2\">0.8489541411399841</TD>   \n",
              "        </TR>   \n",
              "          \n",
              "        <TR>     \n",
              "           <TD class=\"c1\">queen</TD>     \n",
              "           <TD class=\"c2\">0.6178014278411865</TD>   \n",
              "        </TR>   \n",
              "          \n",
              "        <TR>     \n",
              "           <TD class=\"c1\">Queen</TD>     \n",
              "           <TD class=\"c2\">0.48758623003959656</TD>   \n",
              "        </TR>   \n",
              "          \n",
              "        <TR>     \n",
              "           <TD class=\"c1\">and</TD>     \n",
              "           <TD class=\"c2\">0.3899005055427551</TD>   \n",
              "        </TR>   \n",
              "          \n",
              "        <TR>     \n",
              "           <TD class=\"c1\">that</TD>     \n",
              "           <TD class=\"c2\">0.3848358392715454</TD>   \n",
              "        </TR>   \n",
              "          \n",
              "        <TR>     \n",
              "           <TD class=\"c1\">interesting</TD>     \n",
              "           <TD class=\"c2\">0.37907224893569946</TD>   \n",
              "        </TR>   \n",
              "          \n",
              "        <TR>     \n",
              "           <TD class=\"c1\">r.</TD>     \n",
              "           <TD class=\"c2\">0.3631141185760498</TD>   \n",
              "        </TR>   \n",
              "          \n",
              "        <TR>     \n",
              "           <TD class=\"c1\">where</TD>     \n",
              "           <TD class=\"c2\">0.3385923206806183</TD>   \n",
              "        </TR>   \n",
              "          \n",
              "        <TR>     \n",
              "           <TD class=\"c1\">she</TD>     \n",
              "           <TD class=\"c2\">0.32445624470710754</TD>   \n",
              "        </TR>   \n",
              "          \n",
              "        <TR>     \n",
              "           <TD class=\"c1\">they</TD>     \n",
              "           <TD class=\"c2\">0.3206636309623718</TD>   \n",
              "        </TR>   \n",
              "        \n",
              "</table> "
            ]
          },
          "metadata": {},
          "execution_count": 32
        }
      ]
    },
    {
      "cell_type": "markdown",
      "metadata": {
        "id": "YE9O7fM-y5Zc"
      },
      "source": [
        "Função de cálculo da similaridade de palavras."
      ]
    },
    {
      "cell_type": "code",
      "metadata": {
        "id": "UuHoa2MJUp4R",
        "colab": {
          "base_uri": "https://localhost:8080/"
        },
        "outputId": "008579da-37d5-4768-b674-420855d61b4c"
      },
      "source": [
        "#Matemática de Word Embeding\n",
        "from scipy import spatial\n",
        "\n",
        "cosine_similarity = lambda x, y: 1 - spatial.distance.cosine(x, y)\n",
        "\n",
        "#recupera o cálculo das palavras\n",
        "man = nlp.vocab[u'man'].vector\n",
        "woman = nlp.vocab[u'woman'].vector\n",
        "queen = nlp.vocab[u'queen'].vector\n",
        "#king = nlp.vocab[u'king'].vector\n",
        "\n",
        "# Agora precisamos encontrar o vetor mais próximo no vocabulário do resultado de \"man\" - \"woman\" + \"queen\"\n",
        "maybe_king = man - woman + queen\n",
        "computed_similarities = []\n",
        "\n",
        "for word in nlp.vocab:\n",
        "    # Ignore palavras sem vetor\n",
        "    if not word.has_vector:\n",
        "        continue\n",
        "\n",
        "    similarity = cosine_similarity(maybe_king, word.vector)\n",
        "    computed_similarities.append((word, similarity))\n",
        "\n",
        "computed_similarities = sorted(computed_similarities, key=lambda item: -item[1])\n",
        "\n",
        "#mostra o resultado\n",
        "print([w[0].text for w in computed_similarities[:10]])"
      ],
      "execution_count": 33,
      "outputs": [
        {
          "output_type": "stream",
          "name": "stdout",
          "text": [
            "['queen', 'man', 'king', 'woman', 'Queen', 'he', 'nothin’', \"'cause\", \"'Cause\", 'He']\n"
          ]
        }
      ]
    },
    {
      "cell_type": "markdown",
      "metadata": {
        "id": "-zBBKEgCzCW9"
      },
      "source": [
        "Calculando a similaridade"
      ]
    },
    {
      "cell_type": "code",
      "metadata": {
        "id": "9f4GU-FVzCrK",
        "colab": {
          "base_uri": "https://localhost:8080/"
        },
        "outputId": "903a8e3e-23e4-4306-efbf-a889a4da5887"
      },
      "source": [
        "banana = nlp.vocab[u'banana']\n",
        "dog = nlp.vocab[u'dog']\n",
        "fruit = nlp.vocab[u'fruit']\n",
        "animal = nlp.vocab[u'animal']\n",
        "\n",
        "print(dog.similarity(animal), dog.similarity(fruit))\n",
        "print(banana.similarity(fruit), banana.similarity(animal))"
      ],
      "execution_count": 34,
      "outputs": [
        {
          "output_type": "stream",
          "name": "stdout",
          "text": [
            "0.5192115902900696 0.13643456995487213\n",
            "0.6650428175926208 0.18752224743366241\n"
          ]
        }
      ]
    },
    {
      "cell_type": "markdown",
      "metadata": {
        "id": "UFuZc9Sk0ZMp"
      },
      "source": [
        "Calculando a similaridade entre textos"
      ]
    },
    {
      "cell_type": "code",
      "metadata": {
        "id": "mMWSQxnQ0ZZC",
        "colab": {
          "base_uri": "https://localhost:8080/"
        },
        "outputId": "63f25d5c-cd0a-4598-9414-074b9556d5e8"
      },
      "source": [
        "destino = nlp(u'Cats are beautiful animals.')\n",
        "\n",
        "doc1 = nlp(u'Dogs are awesome.')\n",
        "doc2 = nlp(u'Some gorgeous creatures are felines.')\n",
        "doc3 = nlp(u'Dolphins are swimming mammals.')\n",
        "\n",
        "print(destino.similarity(doc1))\n",
        "print(destino.similarity(doc2))\n",
        "print(destino.similarity(doc3))"
      ],
      "execution_count": 35,
      "outputs": [
        {
          "output_type": "stream",
          "name": "stdout",
          "text": [
            "0.925293344292394\n",
            "0.9067517259890845\n",
            "0.9037427153904276\n"
          ]
        }
      ]
    }
  ]
}