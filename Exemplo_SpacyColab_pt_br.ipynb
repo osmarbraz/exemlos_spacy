{
  "nbformat": 4,
  "nbformat_minor": 0,
  "metadata": {
    "colab": {
      "provenance": [],
      "toc_visible": true,
      "include_colab_link": true
    },
    "kernelspec": {
      "name": "python3",
      "display_name": "Python 3"
    }
  },
  "cells": [
    {
      "cell_type": "markdown",
      "metadata": {
        "id": "view-in-github",
        "colab_type": "text"
      },
      "source": [
        "<a href=\"https://colab.research.google.com/github/osmarbraz/exemplos_spacy/blob/main/Exemplo_SpacyColab_pt_br.ipynb\" target=\"_parent\"><img src=\"https://colab.research.google.com/assets/colab-badge.svg\" alt=\"Open In Colab\"/></a>"
      ]
    },
    {
      "cell_type": "markdown",
      "metadata": {
        "id": "IziPWVaeGlWk"
      },
      "source": [
        "# Exemplo uso Spacy com Modelo em Português\n",
        "Exemplo do uso Spacy Python Library com execução através do Google Colaboratory.<br>\n",
        "\n",
        "Funciona no Jupiter Notebook com algumas modificações.\n",
        "\n",
        "Site ferramenta: https://spacy.io/\n",
        "\n",
        "Tutorial<br>\n",
        "https://medium.com/@van3ssabandeira/o-famoso-spacy-90afb683b6fe\n"
      ]
    },
    {
      "cell_type": "markdown",
      "metadata": {
        "id": "fZ3AnOGKwhYz"
      },
      "source": [
        "# 0 Preparação do ambiente\n",
        "Preparação do ambiente para executar o spacy."
      ]
    },
    {
      "cell_type": "markdown",
      "metadata": {
        "id": "QlRO5nFbwvbG"
      },
      "source": [
        "##Tratamento de logs"
      ]
    },
    {
      "cell_type": "code",
      "metadata": {
        "id": "M-Scp9Xvw0ZD"
      },
      "source": [
        "#biblioteca de logging\n",
        "import logging\n",
        "\n",
        "#Formato da mensagem\n",
        "logging.basicConfig(format='%(asctime)s : %(levelname)s : %(message)s', level=logging.INFO)"
      ],
      "execution_count": 1,
      "outputs": []
    },
    {
      "cell_type": "markdown",
      "metadata": {
        "id": "YgkRcED5w7_L"
      },
      "source": [
        "## Parâmetros\n",
        "\n",
        "Parâmetros da execução do teste\n",
        "\n",
        "* sm = small model (não possui vocabulário de palavras)\n",
        "* md = medium model\n",
        "* lg = large model\n",
        "\n",
        "https://spacy.io/models/en"
      ]
    },
    {
      "cell_type": "code",
      "metadata": {
        "id": "Rbk9_hJ-yc1L"
      },
      "source": [
        "# Definição do nome do arquivo do modelo\n",
        "#MODELO_SPACY = 'pt_core_news_sm'\n",
        "#MODELO_SPACY = 'pt_core_news_md'\n",
        "MODELO_SPACY = 'pt_core_news_lg'\n",
        "\n",
        "logging.info('Parâmetros definidos!')"
      ],
      "execution_count": 2,
      "outputs": []
    },
    {
      "cell_type": "markdown",
      "metadata": {
        "id": "oOd2MbBiDq93"
      },
      "source": [
        "# 1 Instala e carrega o spaCy\n",
        "\n",
        "https://spacy.io/\n",
        "\n",
        "Modelos do spaCy para português:\n",
        "https://spacy.io/models/pt"
      ]
    },
    {
      "cell_type": "code",
      "metadata": {
        "colab": {
          "base_uri": "https://localhost:8080/",
          "height": 569
        },
        "id": "U8zg4xevckKP",
        "outputId": "0684b44c-d26d-4f3b-d956-a85f2823803a"
      },
      "source": [
        "# Instala o spacy\n",
        "!pip install -U pip setuptools wheel"
      ],
      "execution_count": 3,
      "outputs": [
        {
          "output_type": "stream",
          "name": "stdout",
          "text": [
            "Requirement already satisfied: pip in /usr/local/lib/python3.10/dist-packages (23.1.2)\n",
            "Collecting pip\n",
            "  Downloading pip-24.0-py3-none-any.whl (2.1 MB)\n",
            "\u001b[2K     \u001b[90m━━━━━━━━━━━━━━━━━━━━━━━━━━━━━━━━━━━━━━━━\u001b[0m \u001b[32m2.1/2.1 MB\u001b[0m \u001b[31m8.2 MB/s\u001b[0m eta \u001b[36m0:00:00\u001b[0m\n",
            "\u001b[?25hRequirement already satisfied: setuptools in /usr/local/lib/python3.10/dist-packages (67.7.2)\n",
            "Collecting setuptools\n",
            "  Downloading setuptools-69.1.0-py3-none-any.whl (819 kB)\n",
            "\u001b[2K     \u001b[90m━━━━━━━━━━━━━━━━━━━━━━━━━━━━━━━━━━━━━━━━\u001b[0m \u001b[32m819.3/819.3 kB\u001b[0m \u001b[31m52.9 MB/s\u001b[0m eta \u001b[36m0:00:00\u001b[0m\n",
            "\u001b[?25hRequirement already satisfied: wheel in /usr/local/lib/python3.10/dist-packages (0.42.0)\n",
            "Installing collected packages: setuptools, pip\n",
            "  Attempting uninstall: setuptools\n",
            "    Found existing installation: setuptools 67.7.2\n",
            "    Uninstalling setuptools-67.7.2:\n",
            "      Successfully uninstalled setuptools-67.7.2\n",
            "  Attempting uninstall: pip\n",
            "    Found existing installation: pip 23.1.2\n",
            "    Uninstalling pip-23.1.2:\n",
            "      Successfully uninstalled pip-23.1.2\n",
            "\u001b[31mERROR: pip's dependency resolver does not currently take into account all the packages that are installed. This behaviour is the source of the following dependency conflicts.\n",
            "ipython 7.34.0 requires jedi>=0.16, which is not installed.\n",
            "lida 0.0.10 requires fastapi, which is not installed.\n",
            "lida 0.0.10 requires kaleido, which is not installed.\n",
            "lida 0.0.10 requires python-multipart, which is not installed.\n",
            "lida 0.0.10 requires uvicorn, which is not installed.\u001b[0m\u001b[31m\n",
            "\u001b[0mSuccessfully installed pip-24.0 setuptools-69.1.0\n"
          ]
        },
        {
          "output_type": "display_data",
          "data": {
            "application/vnd.colab-display-data+json": {
              "pip_warning": {
                "packages": [
                  "_distutils_hack",
                  "pkg_resources",
                  "setuptools"
                ]
              }
            }
          },
          "metadata": {}
        }
      ]
    },
    {
      "cell_type": "code",
      "metadata": {
        "colab": {
          "base_uri": "https://localhost:8080/"
        },
        "id": "w4p3Rz2qDq94",
        "outputId": "f6f7b797-04dd-467a-d591-8521a6436533"
      },
      "source": [
        "# Instala a última versão disponível\n",
        "#!pip install -U spacy\n",
        "\n",
        "# Instala uma versão específica\n",
        "!pip install -U spacy==3.7.2"
      ],
      "execution_count": 4,
      "outputs": [
        {
          "output_type": "stream",
          "name": "stdout",
          "text": [
            "Requirement already satisfied: spacy==3.7.2 in /usr/local/lib/python3.10/dist-packages (3.7.2)\n",
            "Requirement already satisfied: spacy-legacy<3.1.0,>=3.0.11 in /usr/local/lib/python3.10/dist-packages (from spacy==3.7.2) (3.0.12)\n",
            "Requirement already satisfied: spacy-loggers<2.0.0,>=1.0.0 in /usr/local/lib/python3.10/dist-packages (from spacy==3.7.2) (1.0.5)\n",
            "Requirement already satisfied: murmurhash<1.1.0,>=0.28.0 in /usr/local/lib/python3.10/dist-packages (from spacy==3.7.2) (1.0.10)\n",
            "Requirement already satisfied: cymem<2.1.0,>=2.0.2 in /usr/local/lib/python3.10/dist-packages (from spacy==3.7.2) (2.0.8)\n",
            "Requirement already satisfied: preshed<3.1.0,>=3.0.2 in /usr/local/lib/python3.10/dist-packages (from spacy==3.7.2) (3.0.9)\n",
            "Requirement already satisfied: thinc<8.3.0,>=8.1.8 in /usr/local/lib/python3.10/dist-packages (from spacy==3.7.2) (8.2.3)\n",
            "Requirement already satisfied: wasabi<1.2.0,>=0.9.1 in /usr/local/lib/python3.10/dist-packages (from spacy==3.7.2) (1.1.2)\n",
            "Requirement already satisfied: srsly<3.0.0,>=2.4.3 in /usr/local/lib/python3.10/dist-packages (from spacy==3.7.2) (2.4.8)\n",
            "Requirement already satisfied: catalogue<2.1.0,>=2.0.6 in /usr/local/lib/python3.10/dist-packages (from spacy==3.7.2) (2.0.10)\n",
            "Requirement already satisfied: weasel<0.4.0,>=0.1.0 in /usr/local/lib/python3.10/dist-packages (from spacy==3.7.2) (0.3.4)\n",
            "Requirement already satisfied: typer<0.10.0,>=0.3.0 in /usr/local/lib/python3.10/dist-packages (from spacy==3.7.2) (0.9.0)\n",
            "Requirement already satisfied: smart-open<7.0.0,>=5.2.1 in /usr/local/lib/python3.10/dist-packages (from spacy==3.7.2) (6.4.0)\n",
            "Requirement already satisfied: tqdm<5.0.0,>=4.38.0 in /usr/local/lib/python3.10/dist-packages (from spacy==3.7.2) (4.66.2)\n",
            "Requirement already satisfied: requests<3.0.0,>=2.13.0 in /usr/local/lib/python3.10/dist-packages (from spacy==3.7.2) (2.31.0)\n",
            "Requirement already satisfied: pydantic!=1.8,!=1.8.1,<3.0.0,>=1.7.4 in /usr/local/lib/python3.10/dist-packages (from spacy==3.7.2) (2.6.1)\n",
            "Requirement already satisfied: jinja2 in /usr/local/lib/python3.10/dist-packages (from spacy==3.7.2) (3.1.3)\n",
            "Requirement already satisfied: setuptools in /usr/local/lib/python3.10/dist-packages (from spacy==3.7.2) (69.1.0)\n",
            "Requirement already satisfied: packaging>=20.0 in /usr/local/lib/python3.10/dist-packages (from spacy==3.7.2) (23.2)\n",
            "Requirement already satisfied: langcodes<4.0.0,>=3.2.0 in /usr/local/lib/python3.10/dist-packages (from spacy==3.7.2) (3.3.0)\n",
            "Requirement already satisfied: numpy>=1.19.0 in /usr/local/lib/python3.10/dist-packages (from spacy==3.7.2) (1.25.2)\n",
            "Requirement already satisfied: annotated-types>=0.4.0 in /usr/local/lib/python3.10/dist-packages (from pydantic!=1.8,!=1.8.1,<3.0.0,>=1.7.4->spacy==3.7.2) (0.6.0)\n",
            "Requirement already satisfied: pydantic-core==2.16.2 in /usr/local/lib/python3.10/dist-packages (from pydantic!=1.8,!=1.8.1,<3.0.0,>=1.7.4->spacy==3.7.2) (2.16.2)\n",
            "Requirement already satisfied: typing-extensions>=4.6.1 in /usr/local/lib/python3.10/dist-packages (from pydantic!=1.8,!=1.8.1,<3.0.0,>=1.7.4->spacy==3.7.2) (4.9.0)\n",
            "Requirement already satisfied: charset-normalizer<4,>=2 in /usr/local/lib/python3.10/dist-packages (from requests<3.0.0,>=2.13.0->spacy==3.7.2) (3.3.2)\n",
            "Requirement already satisfied: idna<4,>=2.5 in /usr/local/lib/python3.10/dist-packages (from requests<3.0.0,>=2.13.0->spacy==3.7.2) (3.6)\n",
            "Requirement already satisfied: urllib3<3,>=1.21.1 in /usr/local/lib/python3.10/dist-packages (from requests<3.0.0,>=2.13.0->spacy==3.7.2) (2.0.7)\n",
            "Requirement already satisfied: certifi>=2017.4.17 in /usr/local/lib/python3.10/dist-packages (from requests<3.0.0,>=2.13.0->spacy==3.7.2) (2024.2.2)\n",
            "Requirement already satisfied: blis<0.8.0,>=0.7.8 in /usr/local/lib/python3.10/dist-packages (from thinc<8.3.0,>=8.1.8->spacy==3.7.2) (0.7.11)\n",
            "Requirement already satisfied: confection<1.0.0,>=0.0.1 in /usr/local/lib/python3.10/dist-packages (from thinc<8.3.0,>=8.1.8->spacy==3.7.2) (0.1.4)\n",
            "Requirement already satisfied: click<9.0.0,>=7.1.1 in /usr/local/lib/python3.10/dist-packages (from typer<0.10.0,>=0.3.0->spacy==3.7.2) (8.1.7)\n",
            "Requirement already satisfied: cloudpathlib<0.17.0,>=0.7.0 in /usr/local/lib/python3.10/dist-packages (from weasel<0.4.0,>=0.1.0->spacy==3.7.2) (0.16.0)\n",
            "Requirement already satisfied: MarkupSafe>=2.0 in /usr/local/lib/python3.10/dist-packages (from jinja2->spacy==3.7.2) (2.1.5)\n",
            "\u001b[33mWARNING: Running pip as the 'root' user can result in broken permissions and conflicting behaviour with the system package manager. It is recommended to use a virtual environment instead: https://pip.pypa.io/warnings/venv\u001b[0m\u001b[33m\n",
            "\u001b[0m"
          ]
        }
      ]
    },
    {
      "cell_type": "markdown",
      "metadata": {
        "id": "bXgE1XTRDq94"
      },
      "source": [
        "Realiza o download e carrega os modelos necessários a biblioteca\n",
        "\n",
        "https://spacy.io/models/pt"
      ]
    },
    {
      "cell_type": "code",
      "metadata": {
        "id": "0kGc2XN-Dq94",
        "colab": {
          "base_uri": "https://localhost:8080/"
        },
        "outputId": "46e8e378-7090-480c-acf4-be46560920c4"
      },
      "source": [
        "# Baixa automaticamente o arquivo do modelo\n",
        "!python -m spacy download {MODELO_SPACY}"
      ],
      "execution_count": 5,
      "outputs": [
        {
          "output_type": "stream",
          "name": "stdout",
          "text": [
            "Collecting pt-core-news-lg==3.7.0\n",
            "  Downloading https://github.com/explosion/spacy-models/releases/download/pt_core_news_lg-3.7.0/pt_core_news_lg-3.7.0-py3-none-any.whl (568.2 MB)\n",
            "\u001b[2K     \u001b[90m━━━━━━━━━━━━━━━━━━━━━━━━━━━━━━━━━━━━━━━━\u001b[0m \u001b[32m568.2/568.2 MB\u001b[0m \u001b[31m3.3 MB/s\u001b[0m eta \u001b[36m0:00:00\u001b[0m\n",
            "\u001b[?25hRequirement already satisfied: spacy<3.8.0,>=3.7.0 in /usr/local/lib/python3.10/dist-packages (from pt-core-news-lg==3.7.0) (3.7.2)\n",
            "Requirement already satisfied: spacy-legacy<3.1.0,>=3.0.11 in /usr/local/lib/python3.10/dist-packages (from spacy<3.8.0,>=3.7.0->pt-core-news-lg==3.7.0) (3.0.12)\n",
            "Requirement already satisfied: spacy-loggers<2.0.0,>=1.0.0 in /usr/local/lib/python3.10/dist-packages (from spacy<3.8.0,>=3.7.0->pt-core-news-lg==3.7.0) (1.0.5)\n",
            "Requirement already satisfied: murmurhash<1.1.0,>=0.28.0 in /usr/local/lib/python3.10/dist-packages (from spacy<3.8.0,>=3.7.0->pt-core-news-lg==3.7.0) (1.0.10)\n",
            "Requirement already satisfied: cymem<2.1.0,>=2.0.2 in /usr/local/lib/python3.10/dist-packages (from spacy<3.8.0,>=3.7.0->pt-core-news-lg==3.7.0) (2.0.8)\n",
            "Requirement already satisfied: preshed<3.1.0,>=3.0.2 in /usr/local/lib/python3.10/dist-packages (from spacy<3.8.0,>=3.7.0->pt-core-news-lg==3.7.0) (3.0.9)\n",
            "Requirement already satisfied: thinc<8.3.0,>=8.1.8 in /usr/local/lib/python3.10/dist-packages (from spacy<3.8.0,>=3.7.0->pt-core-news-lg==3.7.0) (8.2.3)\n",
            "Requirement already satisfied: wasabi<1.2.0,>=0.9.1 in /usr/local/lib/python3.10/dist-packages (from spacy<3.8.0,>=3.7.0->pt-core-news-lg==3.7.0) (1.1.2)\n",
            "Requirement already satisfied: srsly<3.0.0,>=2.4.3 in /usr/local/lib/python3.10/dist-packages (from spacy<3.8.0,>=3.7.0->pt-core-news-lg==3.7.0) (2.4.8)\n",
            "Requirement already satisfied: catalogue<2.1.0,>=2.0.6 in /usr/local/lib/python3.10/dist-packages (from spacy<3.8.0,>=3.7.0->pt-core-news-lg==3.7.0) (2.0.10)\n",
            "Requirement already satisfied: weasel<0.4.0,>=0.1.0 in /usr/local/lib/python3.10/dist-packages (from spacy<3.8.0,>=3.7.0->pt-core-news-lg==3.7.0) (0.3.4)\n",
            "Requirement already satisfied: typer<0.10.0,>=0.3.0 in /usr/local/lib/python3.10/dist-packages (from spacy<3.8.0,>=3.7.0->pt-core-news-lg==3.7.0) (0.9.0)\n",
            "Requirement already satisfied: smart-open<7.0.0,>=5.2.1 in /usr/local/lib/python3.10/dist-packages (from spacy<3.8.0,>=3.7.0->pt-core-news-lg==3.7.0) (6.4.0)\n",
            "Requirement already satisfied: tqdm<5.0.0,>=4.38.0 in /usr/local/lib/python3.10/dist-packages (from spacy<3.8.0,>=3.7.0->pt-core-news-lg==3.7.0) (4.66.2)\n",
            "Requirement already satisfied: requests<3.0.0,>=2.13.0 in /usr/local/lib/python3.10/dist-packages (from spacy<3.8.0,>=3.7.0->pt-core-news-lg==3.7.0) (2.31.0)\n",
            "Requirement already satisfied: pydantic!=1.8,!=1.8.1,<3.0.0,>=1.7.4 in /usr/local/lib/python3.10/dist-packages (from spacy<3.8.0,>=3.7.0->pt-core-news-lg==3.7.0) (2.6.1)\n",
            "Requirement already satisfied: jinja2 in /usr/local/lib/python3.10/dist-packages (from spacy<3.8.0,>=3.7.0->pt-core-news-lg==3.7.0) (3.1.3)\n",
            "Requirement already satisfied: setuptools in /usr/local/lib/python3.10/dist-packages (from spacy<3.8.0,>=3.7.0->pt-core-news-lg==3.7.0) (69.1.0)\n",
            "Requirement already satisfied: packaging>=20.0 in /usr/local/lib/python3.10/dist-packages (from spacy<3.8.0,>=3.7.0->pt-core-news-lg==3.7.0) (23.2)\n",
            "Requirement already satisfied: langcodes<4.0.0,>=3.2.0 in /usr/local/lib/python3.10/dist-packages (from spacy<3.8.0,>=3.7.0->pt-core-news-lg==3.7.0) (3.3.0)\n",
            "Requirement already satisfied: numpy>=1.19.0 in /usr/local/lib/python3.10/dist-packages (from spacy<3.8.0,>=3.7.0->pt-core-news-lg==3.7.0) (1.25.2)\n",
            "Requirement already satisfied: annotated-types>=0.4.0 in /usr/local/lib/python3.10/dist-packages (from pydantic!=1.8,!=1.8.1,<3.0.0,>=1.7.4->spacy<3.8.0,>=3.7.0->pt-core-news-lg==3.7.0) (0.6.0)\n",
            "Requirement already satisfied: pydantic-core==2.16.2 in /usr/local/lib/python3.10/dist-packages (from pydantic!=1.8,!=1.8.1,<3.0.0,>=1.7.4->spacy<3.8.0,>=3.7.0->pt-core-news-lg==3.7.0) (2.16.2)\n",
            "Requirement already satisfied: typing-extensions>=4.6.1 in /usr/local/lib/python3.10/dist-packages (from pydantic!=1.8,!=1.8.1,<3.0.0,>=1.7.4->spacy<3.8.0,>=3.7.0->pt-core-news-lg==3.7.0) (4.9.0)\n",
            "Requirement already satisfied: charset-normalizer<4,>=2 in /usr/local/lib/python3.10/dist-packages (from requests<3.0.0,>=2.13.0->spacy<3.8.0,>=3.7.0->pt-core-news-lg==3.7.0) (3.3.2)\n",
            "Requirement already satisfied: idna<4,>=2.5 in /usr/local/lib/python3.10/dist-packages (from requests<3.0.0,>=2.13.0->spacy<3.8.0,>=3.7.0->pt-core-news-lg==3.7.0) (3.6)\n",
            "Requirement already satisfied: urllib3<3,>=1.21.1 in /usr/local/lib/python3.10/dist-packages (from requests<3.0.0,>=2.13.0->spacy<3.8.0,>=3.7.0->pt-core-news-lg==3.7.0) (2.0.7)\n",
            "Requirement already satisfied: certifi>=2017.4.17 in /usr/local/lib/python3.10/dist-packages (from requests<3.0.0,>=2.13.0->spacy<3.8.0,>=3.7.0->pt-core-news-lg==3.7.0) (2024.2.2)\n",
            "Requirement already satisfied: blis<0.8.0,>=0.7.8 in /usr/local/lib/python3.10/dist-packages (from thinc<8.3.0,>=8.1.8->spacy<3.8.0,>=3.7.0->pt-core-news-lg==3.7.0) (0.7.11)\n",
            "Requirement already satisfied: confection<1.0.0,>=0.0.1 in /usr/local/lib/python3.10/dist-packages (from thinc<8.3.0,>=8.1.8->spacy<3.8.0,>=3.7.0->pt-core-news-lg==3.7.0) (0.1.4)\n",
            "Requirement already satisfied: click<9.0.0,>=7.1.1 in /usr/local/lib/python3.10/dist-packages (from typer<0.10.0,>=0.3.0->spacy<3.8.0,>=3.7.0->pt-core-news-lg==3.7.0) (8.1.7)\n",
            "Requirement already satisfied: cloudpathlib<0.17.0,>=0.7.0 in /usr/local/lib/python3.10/dist-packages (from weasel<0.4.0,>=0.1.0->spacy<3.8.0,>=3.7.0->pt-core-news-lg==3.7.0) (0.16.0)\n",
            "Requirement already satisfied: MarkupSafe>=2.0 in /usr/local/lib/python3.10/dist-packages (from jinja2->spacy<3.8.0,>=3.7.0->pt-core-news-lg==3.7.0) (2.1.5)\n",
            "Installing collected packages: pt-core-news-lg\n",
            "Successfully installed pt-core-news-lg-3.7.0\n",
            "\u001b[33mWARNING: Running pip as the 'root' user can result in broken permissions and conflicting behaviour with the system package manager. It is recommended to use a virtual environment instead: https://pip.pypa.io/warnings/venv\u001b[0m\u001b[33m\n",
            "\u001b[0m\u001b[38;5;2m✔ Download and installation successful\u001b[0m\n",
            "You can now load the package via spacy.load('pt_core_news_lg')\n"
          ]
        }
      ]
    },
    {
      "cell_type": "markdown",
      "metadata": {
        "id": "d7igCFJ6Dq95"
      },
      "source": [
        "Carrega o modelo em português.\n",
        "\n",
        "Outros modelos estão disponíveis em https://spacy.io/models\n",
        "\n",
        "Para tornar os modelos compactos e rápidos, os modelos pequenos do spaCy (todos os pacotes que terminam em **sm**(small) não contêm  vetores de palavras e incluem apenas tensores sensíveis ao contexto."
      ]
    },
    {
      "cell_type": "code",
      "metadata": {
        "id": "MnuEL2XsN8Sn"
      },
      "source": [
        "import spacy\n",
        "\n",
        "# Instala somente os pipelines necessários\n",
        "#nlp = spacy.load(MODELO_SPACY, disable=['tokenizer', 'lemmatizer', 'ner', 'parser', 'textcat', 'custom'])\n",
        "\n",
        "nlp = spacy.load(MODELO_SPACY)\n",
        "\n",
        "logging.info('Modelo carregado !')"
      ],
      "execution_count": 6,
      "outputs": []
    },
    {
      "cell_type": "markdown",
      "metadata": {
        "id": "e4DBQHcQgMHy"
      },
      "source": [
        "Carrega as bibliotecas"
      ]
    },
    {
      "cell_type": "code",
      "metadata": {
        "id": "-dFZztTKgArn"
      },
      "source": [
        "# Importando as bibliotecas.\n",
        "import spacy\n",
        "from spacy  import displacy"
      ],
      "execution_count": 7,
      "outputs": []
    },
    {
      "cell_type": "markdown",
      "metadata": {
        "id": "lIjF4JyJVbdr"
      },
      "source": [
        "# 2 Exemplo sentença 1"
      ]
    },
    {
      "cell_type": "code",
      "metadata": {
        "id": "DpdLO64TVObM"
      },
      "source": [
        "documento = u\"Estou bem, mas não tenho certeza se viajarei para São Paulo amanhã às 8:30.\""
      ],
      "execution_count": 8,
      "outputs": []
    },
    {
      "cell_type": "markdown",
      "metadata": {
        "id": "g771s17Cjr6Q"
      },
      "source": [
        "##Armazena um texto."
      ]
    },
    {
      "cell_type": "code",
      "metadata": {
        "id": "8FEGlAMwjuQy"
      },
      "source": [
        "doc = nlp(documento)\n",
        "logging.info('Texto armazenado!')"
      ],
      "execution_count": 9,
      "outputs": []
    },
    {
      "cell_type": "markdown",
      "metadata": {
        "id": "Tu8rmnCEjzhE"
      },
      "source": [
        "##Separando o texto em uma lista de tokens."
      ]
    },
    {
      "cell_type": "code",
      "metadata": {
        "id": "B5UhFBLoj0GK",
        "colab": {
          "base_uri": "https://localhost:8080/"
        },
        "outputId": "915a4e42-2fcc-4e68-d06c-0958c42282ee"
      },
      "source": [
        ">>> [token.orth_ for token in doc]"
      ],
      "execution_count": 10,
      "outputs": [
        {
          "output_type": "execute_result",
          "data": {
            "text/plain": [
              "['Estou',\n",
              " 'bem',\n",
              " ',',\n",
              " 'mas',\n",
              " 'não',\n",
              " 'tenho',\n",
              " 'certeza',\n",
              " 'se',\n",
              " 'viajarei',\n",
              " 'para',\n",
              " 'São',\n",
              " 'Paulo',\n",
              " 'amanhã',\n",
              " 'às',\n",
              " '8:30',\n",
              " '.']"
            ]
          },
          "metadata": {},
          "execution_count": 10
        }
      ]
    },
    {
      "cell_type": "markdown",
      "metadata": {
        "id": "FHd7CqIHWVrs"
      },
      "source": [
        "##Separando o texto em uma lista de palavras"
      ]
    },
    {
      "cell_type": "code",
      "metadata": {
        "id": "xhL5CexYWU08",
        "colab": {
          "base_uri": "https://localhost:8080/"
        },
        "outputId": "d4e8fdb5-8fef-4df7-cfc3-83a28adf40d3"
      },
      "source": [
        "doc.text.split()"
      ],
      "execution_count": 11,
      "outputs": [
        {
          "output_type": "execute_result",
          "data": {
            "text/plain": [
              "['Estou',\n",
              " 'bem,',\n",
              " 'mas',\n",
              " 'não',\n",
              " 'tenho',\n",
              " 'certeza',\n",
              " 'se',\n",
              " 'viajarei',\n",
              " 'para',\n",
              " 'São',\n",
              " 'Paulo',\n",
              " 'amanhã',\n",
              " 'às',\n",
              " '8:30.']"
            ]
          },
          "metadata": {},
          "execution_count": 11
        }
      ]
    },
    {
      "cell_type": "markdown",
      "metadata": {
        "id": "leY2a174rBqA"
      },
      "source": [
        "## Criando uma lista das sentenças"
      ]
    },
    {
      "cell_type": "code",
      "metadata": {
        "colab": {
          "base_uri": "https://localhost:8080/"
        },
        "id": "eHBz77UQrDr6",
        "outputId": "d2f41475-5206-4537-ea08-e4aeca61da06"
      },
      "source": [
        "lista = list(doc.sents)\n",
        "print(\"Número de sentenças = \",len(lista))\n",
        "print(lista)"
      ],
      "execution_count": 12,
      "outputs": [
        {
          "output_type": "stream",
          "name": "stdout",
          "text": [
            "Número de sentenças =  1\n",
            "[Estou bem, mas não tenho certeza se viajarei para São Paulo amanhã às 8:30.]\n"
          ]
        }
      ]
    },
    {
      "cell_type": "markdown",
      "metadata": {
        "id": "yvGrdfchknQt"
      },
      "source": [
        "##Verificando se a palavra é um verbo."
      ]
    },
    {
      "cell_type": "code",
      "metadata": {
        "id": "Tq0jKcd7kp-n",
        "colab": {
          "base_uri": "https://localhost:8080/"
        },
        "outputId": "e5826cbf-4b30-4813-e2cc-3ffbcbbdaef8"
      },
      "source": [
        "[(token.text, token.pos_ == 'VERB') for token in doc]"
      ],
      "execution_count": 13,
      "outputs": [
        {
          "output_type": "execute_result",
          "data": {
            "text/plain": [
              "[('Estou', False),\n",
              " ('bem', False),\n",
              " (',', False),\n",
              " ('mas', False),\n",
              " ('não', False),\n",
              " ('tenho', True),\n",
              " ('certeza', False),\n",
              " ('se', False),\n",
              " ('viajarei', True),\n",
              " ('para', False),\n",
              " ('São', False),\n",
              " ('Paulo', False),\n",
              " ('amanhã', False),\n",
              " ('às', False),\n",
              " ('8:30', False),\n",
              " ('.', False)]"
            ]
          },
          "metadata": {},
          "execution_count": 13
        }
      ]
    },
    {
      "cell_type": "markdown",
      "metadata": {
        "id": "x7QqVueRkyOS"
      },
      "source": [
        "##Identificando o infinitivo dos verbos."
      ]
    },
    {
      "cell_type": "code",
      "metadata": {
        "id": "2bzgquPBky1x",
        "colab": {
          "base_uri": "https://localhost:8080/"
        },
        "outputId": "c4a11c76-5322-493c-e738-dbf1d4e09586"
      },
      "source": [
        "[(token.text, token.lemma_) for token in doc if token.pos_ == 'VERB']"
      ],
      "execution_count": 14,
      "outputs": [
        {
          "output_type": "execute_result",
          "data": {
            "text/plain": [
              "[('tenho', 'ter'), ('viajarei', 'viajar')]"
            ]
          },
          "metadata": {},
          "execution_count": 14
        }
      ]
    },
    {
      "cell_type": "markdown",
      "metadata": {
        "id": "yazH-uzZk8vQ"
      },
      "source": [
        "##Verificando se a palavra da sentença é uma pontuação."
      ]
    },
    {
      "cell_type": "code",
      "metadata": {
        "id": "427rrsWek_-x",
        "colab": {
          "base_uri": "https://localhost:8080/"
        },
        "outputId": "0983cc22-1cfc-48b2-ac71-488812581b64"
      },
      "source": [
        "[(token.text, token.is_punct) for token in doc]"
      ],
      "execution_count": 15,
      "outputs": [
        {
          "output_type": "execute_result",
          "data": {
            "text/plain": [
              "[('Estou', False),\n",
              " ('bem', False),\n",
              " (',', True),\n",
              " ('mas', False),\n",
              " ('não', False),\n",
              " ('tenho', False),\n",
              " ('certeza', False),\n",
              " ('se', False),\n",
              " ('viajarei', False),\n",
              " ('para', False),\n",
              " ('São', False),\n",
              " ('Paulo', False),\n",
              " ('amanhã', False),\n",
              " ('às', False),\n",
              " ('8:30', False),\n",
              " ('.', True)]"
            ]
          },
          "metadata": {},
          "execution_count": 15
        }
      ]
    },
    {
      "cell_type": "markdown",
      "metadata": {
        "id": "DvRTdi50lLrX"
      },
      "source": [
        "##Identificando as classes gramaticais das palavras.\n",
        "\n",
        "O significado das classes estão em: https://spacy.io/api/annotation#pos-tagging\n",
        "\n",
        "\n",
        "https://universaldependencies.org/docs/u/pos/"
      ]
    },
    {
      "cell_type": "code",
      "metadata": {
        "id": "5YhWKL4ilNoc",
        "colab": {
          "base_uri": "https://localhost:8080/"
        },
        "outputId": "7a170d2b-85e2-4439-d951-167e75c6a969"
      },
      "source": [
        "[(token.text, token.pos_) for token in doc]"
      ],
      "execution_count": 16,
      "outputs": [
        {
          "output_type": "execute_result",
          "data": {
            "text/plain": [
              "[('Estou', 'AUX'),\n",
              " ('bem', 'ADV'),\n",
              " (',', 'PUNCT'),\n",
              " ('mas', 'CCONJ'),\n",
              " ('não', 'ADV'),\n",
              " ('tenho', 'VERB'),\n",
              " ('certeza', 'NOUN'),\n",
              " ('se', 'SCONJ'),\n",
              " ('viajarei', 'VERB'),\n",
              " ('para', 'ADP'),\n",
              " ('São', 'PROPN'),\n",
              " ('Paulo', 'PROPN'),\n",
              " ('amanhã', 'ADV'),\n",
              " ('às', 'ADP'),\n",
              " ('8:30', 'NOUN'),\n",
              " ('.', 'PUNCT')]"
            ]
          },
          "metadata": {},
          "execution_count": 16
        }
      ]
    },
    {
      "cell_type": "markdown",
      "metadata": {
        "id": "rd6sIh0bXQuP"
      },
      "source": [
        "## Ancestrais"
      ]
    },
    {
      "cell_type": "code",
      "metadata": {
        "id": "S8wvoA4HXSIj",
        "colab": {
          "base_uri": "https://localhost:8080/"
        },
        "outputId": "531f2cd7-b318-4ed9-ba5d-39143fab9a76"
      },
      "source": [
        "tokens = [token for token in doc]\n",
        "tokens[0].is_ancestor(tokens[2])"
      ],
      "execution_count": 17,
      "outputs": [
        {
          "output_type": "execute_result",
          "data": {
            "text/plain": [
              "False"
            ]
          },
          "metadata": {},
          "execution_count": 17
        }
      ]
    },
    {
      "cell_type": "markdown",
      "metadata": {
        "id": "-fBx6OLXDQO3"
      },
      "source": [
        "##Identificando as sentenças em um texto."
      ]
    },
    {
      "cell_type": "markdown",
      "metadata": {
        "id": "KfqTTg4TC2z7"
      },
      "source": [
        "Mostra as sentenças de um texto."
      ]
    },
    {
      "cell_type": "code",
      "metadata": {
        "id": "aBWy816RDQO-",
        "colab": {
          "base_uri": "https://localhost:8080/"
        },
        "outputId": "d61744a0-6e1f-4dd1-9c99-79cf87cbb151"
      },
      "source": [
        "for sentencas in doc.sents:\n",
        "    print(sentencas)"
      ],
      "execution_count": 18,
      "outputs": [
        {
          "output_type": "stream",
          "name": "stdout",
          "text": [
            "Estou bem, mas não tenho certeza se viajarei para São Paulo amanhã às 8:30.\n"
          ]
        }
      ]
    },
    {
      "cell_type": "markdown",
      "metadata": {
        "id": "xwml1YkDlXPf"
      },
      "source": [
        "##Identificando as entidades. (NER/Named Entity Recognition)\n",
        "\n",
        "**Text**: o texto original da entidade.<br>\n",
        "**Start**: Índice de início da entidade no Doc.<br>\n",
        "**End**: Índice do fim da entidade no Doc.<br>\n",
        "**Label**: rótulo da entidade, ou seja, tipo.<br>\n",
        "\n",
        "https://medium.com/botsbrasil/como-reconhecer-entidades-na-l%C3%ADngua-portuguesa-usando-spacy-8a5ca6f42c4f"
      ]
    },
    {
      "cell_type": "markdown",
      "metadata": {
        "id": "3NRQb-Gp5EAP"
      },
      "source": [
        "### Listando as entidades identificadas"
      ]
    },
    {
      "cell_type": "code",
      "metadata": {
        "id": "OCUsoS4En0JK",
        "colab": {
          "base_uri": "https://localhost:8080/"
        },
        "outputId": "0bc9e5a2-c130-41dd-f354-ba80f428f1b4"
      },
      "source": [
        "for ent in doc.ents:\n",
        "   print(ent.text, ent.start_char, ent.end_char, ent.label_)"
      ],
      "execution_count": 19,
      "outputs": [
        {
          "output_type": "stream",
          "name": "stdout",
          "text": [
            "São Paulo 50 59 LOC\n"
          ]
        }
      ]
    },
    {
      "cell_type": "markdown",
      "metadata": {
        "id": "ww1JVrsEn2ck"
      },
      "source": [
        "ou"
      ]
    },
    {
      "cell_type": "code",
      "metadata": {
        "id": "gIytTFrXlZOU",
        "colab": {
          "base_uri": "https://localhost:8080/"
        },
        "outputId": "023f76ea-5b8b-413d-bea5-56b3afa609a6"
      },
      "source": [
        "[(entity, entity.label_) for entity in doc.ents]"
      ],
      "execution_count": 20,
      "outputs": [
        {
          "output_type": "execute_result",
          "data": {
            "text/plain": [
              "[(São Paulo, 'LOC')]"
            ]
          },
          "metadata": {},
          "execution_count": 20
        }
      ]
    },
    {
      "cell_type": "markdown",
      "source": [
        "### Visualizando o texto marcado"
      ],
      "metadata": {
        "id": "JGgTWAlP_shk"
      }
    },
    {
      "cell_type": "code",
      "source": [
        "# Importando as bibliotecas.\n",
        "import spacy\n",
        "from spacy  import displacy\n",
        "\n",
        "displacy.render(doc,style=\"ent\",jupyter=True)"
      ],
      "metadata": {
        "colab": {
          "base_uri": "https://localhost:8080/",
          "height": 52
        },
        "id": "SH_Hx3I8_PiM",
        "outputId": "1e5839a2-8d0c-4444-a52a-d6575c171868"
      },
      "execution_count": 21,
      "outputs": [
        {
          "output_type": "display_data",
          "data": {
            "text/plain": [
              "<IPython.core.display.HTML object>"
            ],
            "text/html": [
              "<span class=\"tex2jax_ignore\"><div class=\"entities\" style=\"line-height: 2.5; direction: ltr\">Estou bem, mas não tenho certeza se viajarei para \n",
              "<mark class=\"entity\" style=\"background: #ff9561; padding: 0.45em 0.6em; margin: 0 0.25em; line-height: 1; border-radius: 0.35em;\">\n",
              "    São Paulo\n",
              "    <span style=\"font-size: 0.8em; font-weight: bold; line-height: 1; border-radius: 0.35em; vertical-align: middle; margin-left: 0.5rem\">LOC</span>\n",
              "</mark>\n",
              " amanhã às 8:30.</div></span>"
            ]
          },
          "metadata": {}
        }
      ]
    },
    {
      "cell_type": "markdown",
      "metadata": {
        "id": "p0YyQMqVlcb3"
      },
      "source": [
        "###Checando similaridade entre as entidades."
      ]
    },
    {
      "cell_type": "code",
      "metadata": {
        "id": "5PjI4zm6lpTB",
        "colab": {
          "base_uri": "https://localhost:8080/"
        },
        "outputId": "6017d503-75f8-4aaa-ef64-cf528e12d980"
      },
      "source": [
        "# Retorna as entidades de doc\n",
        "entities = [entity for entity in doc.ents]\n",
        "\n",
        "if len(doc.ents) > 1:\n",
        "  print('Similaridade entre entities[0]=[' + str(entities[0]) + '] e entities[0]=[' + str(entities[0]) + ']: %.4g'%(entities[0].similarity(entities[0]) * 100), \"%\")\n",
        "  print('Similaridade entre entities[0]=[' + str(entities[0]) + '] e entities[1]=[' + str(entities[1]) + ']: %.4g'%(entities[0].similarity(entities[1]) * 100), \"%\")\n",
        "else:\n",
        "  print('Similaridade entre entities[0]=[' + str(entities[0]) + '] e entities[0]=[' + str(entities[0]) + ']: %.4g'%(entities[0].similarity(entities[0]) * 100), \"%\")"
      ],
      "execution_count": 22,
      "outputs": [
        {
          "output_type": "stream",
          "name": "stdout",
          "text": [
            "Similaridade entre entities[0]=[São Paulo] e entities[0]=[São Paulo]: 100 %\n"
          ]
        }
      ]
    },
    {
      "cell_type": "markdown",
      "metadata": {
        "id": "hsNEv69c-sms"
      },
      "source": [
        "## POS tagging / Analisando a sentença\n",
        "\n",
        "https://medium.com/greyatom/learning-pos-tagging-chunking-in-nlp-85f7f811a8cb\n",
        "\n",
        "**Text**: o texto original da palavra.<br>\n",
        "**Lema**: A forma base da palavra.<br>\n",
        "**POS**: A tag simples da parte do discurso. O significado das classes estão em: https://spacy.io/api/annotation#pos-tagging<br>\n",
        "**Tag**: A etiqueta detalhada da parte do discurso.<br>\n",
        "**Dep**: Dependência sintática, ou seja, a relação entre tokens.<br>\n",
        "**Shape**: A forma da palavra - letras maiúsculas, pontuação e dígitos.<br>\n",
        "**is alpha**: o token é um caractere alfa?<br>\n",
        "**is stop**: o token faz parte de uma lista de paradas, ou seja, as palavras mais comuns do idioma?<br> **bold text**"
      ]
    },
    {
      "cell_type": "code",
      "metadata": {
        "id": "T7pDkLR--rtj",
        "colab": {
          "base_uri": "https://localhost:8080/"
        },
        "outputId": "64e0cd96-5532-4817-dd6d-ed21193914fe"
      },
      "source": [
        "for token in doc:\n",
        "    print(token.text, token.lemma_, token.pos_, token.tag_, token.dep_,token.shape_,token.is_alpha, token.is_stop)"
      ],
      "execution_count": 23,
      "outputs": [
        {
          "output_type": "stream",
          "name": "stdout",
          "text": [
            "Estou estar AUX AUX cop Xxxxx True True\n",
            "bem bem ADV ADV ROOT xxx True True\n",
            ", , PUNCT PUNCT punct , False False\n",
            "mas mas CCONJ CCONJ cc xxx True True\n",
            "não não ADV ADV advmod xxx True True\n",
            "tenho ter VERB VERB conj xxxx True True\n",
            "certeza certeza NOUN NOUN obj xxxx True True\n",
            "se se SCONJ SCONJ expl xx True True\n",
            "viajarei viajar VERB VERB parataxis xxxx True False\n",
            "para para ADP ADP case xxxx True True\n",
            "São São PROPN PROPN obl Xxx True True\n",
            "Paulo Paulo PROPN PROPN flat:name Xxxxx True False\n",
            "amanhã amanhã ADV ADV advmod xxxx True False\n",
            "às a o ADP ADP case xx True True\n",
            "8:30 8:30 NOUN NOUN obl d:dd False False\n",
            ". . PUNCT PUNCT punct . False False\n"
          ]
        }
      ]
    },
    {
      "cell_type": "markdown",
      "metadata": {
        "id": "8qZjNop31a0H"
      },
      "source": [
        "ou partes"
      ]
    },
    {
      "cell_type": "code",
      "metadata": {
        "id": "_GXoEH00uWuD",
        "colab": {
          "base_uri": "https://localhost:8080/"
        },
        "outputId": "74e56568-b6c6-438a-dc26-475bce4fd375"
      },
      "source": [
        "print([(token.text, token.tag_) for token in doc])"
      ],
      "execution_count": 24,
      "outputs": [
        {
          "output_type": "stream",
          "name": "stdout",
          "text": [
            "[('Estou', 'AUX'), ('bem', 'ADV'), (',', 'PUNCT'), ('mas', 'CCONJ'), ('não', 'ADV'), ('tenho', 'VERB'), ('certeza', 'NOUN'), ('se', 'SCONJ'), ('viajarei', 'VERB'), ('para', 'ADP'), ('São', 'PROPN'), ('Paulo', 'PROPN'), ('amanhã', 'ADV'), ('às', 'ADP'), ('8:30', 'NOUN'), ('.', 'PUNCT')]\n"
          ]
        }
      ]
    },
    {
      "cell_type": "markdown",
      "metadata": {
        "id": "gfj5k0_hcue6"
      },
      "source": [
        "## Frequência de POS"
      ]
    },
    {
      "cell_type": "code",
      "metadata": {
        "colab": {
          "base_uri": "https://localhost:8080/"
        },
        "id": "CaZdLbtxemnk",
        "outputId": "6b083f0a-5dd6-4c5f-ca60-af84298b4dca"
      },
      "source": [
        "[(token.text, token.pos_) for token in doc]"
      ],
      "execution_count": 25,
      "outputs": [
        {
          "output_type": "execute_result",
          "data": {
            "text/plain": [
              "[('Estou', 'AUX'),\n",
              " ('bem', 'ADV'),\n",
              " (',', 'PUNCT'),\n",
              " ('mas', 'CCONJ'),\n",
              " ('não', 'ADV'),\n",
              " ('tenho', 'VERB'),\n",
              " ('certeza', 'NOUN'),\n",
              " ('se', 'SCONJ'),\n",
              " ('viajarei', 'VERB'),\n",
              " ('para', 'ADP'),\n",
              " ('São', 'PROPN'),\n",
              " ('Paulo', 'PROPN'),\n",
              " ('amanhã', 'ADV'),\n",
              " ('às', 'ADP'),\n",
              " ('8:30', 'NOUN'),\n",
              " ('.', 'PUNCT')]"
            ]
          },
          "metadata": {},
          "execution_count": 25
        }
      ]
    },
    {
      "cell_type": "code",
      "metadata": {
        "id": "NBo9IIGgQOrt"
      },
      "source": [
        "def getDicPOSQtde(sentenca):\n",
        "\n",
        "    # Verifica se o sentenca não foi processado pelo spaCy\n",
        "  if type(sentenca) is not spacy.tokens.doc.Doc:\n",
        "      # Realiza o parsing no spacy\n",
        "      doc = nlp(sentenca)\n",
        "  else:\n",
        "      doc = sentenca\n",
        "\n",
        "  # Retorna inteiros que mapeiam para classes gramaticais\n",
        "  conta_dicionarios = doc.count_by(spacy.attrs.IDS['POS'])\n",
        "\n",
        "  # Dicionário com as tags e quantidades\n",
        "  novodic = dict()\n",
        "\n",
        "  for pos, qtde in conta_dicionarios.items():\n",
        "    classe_gramatical = doc.vocab[pos].text\n",
        "    novodic[classe_gramatical] = qtde\n",
        "\n",
        "  return novodic"
      ],
      "execution_count": 26,
      "outputs": []
    },
    {
      "cell_type": "code",
      "metadata": {
        "colab": {
          "base_uri": "https://localhost:8080/"
        },
        "id": "E6E7o2t7Qtkn",
        "outputId": "fdfa839c-a6ab-4ebc-a97f-ad5739674a0b"
      },
      "source": [
        "documento = \"O céu está azul e verde.\"\n",
        "# Processa sentença no spaCy\n",
        "doc = nlp(documento)\n",
        "\n",
        "retorno = getDicPOSQtde(documento)\n",
        "\n",
        "print(retorno)"
      ],
      "execution_count": 27,
      "outputs": [
        {
          "output_type": "stream",
          "name": "stdout",
          "text": [
            "{'DET': 1, 'NOUN': 1, 'AUX': 1, 'ADJ': 2, 'CCONJ': 1, 'PUNCT': 1}\n"
          ]
        }
      ]
    },
    {
      "cell_type": "markdown",
      "metadata": {
        "id": "b_S7dH_Fuhzc"
      },
      "source": [
        "##Noun Chunking / Substantivos\n",
        "\n",
        "Os substantivos são \"sentenças substantivas de base\" - sentenças simples que têm um substantivo como principal. Você pode pensar em blocos de substantivos como um substantivo, além das palavras que descrevem o substantivo - por exemplo, \"a luxuosa grama verde\" ou \"o maior fundo de tecnologia do mundo\".\n",
        "\n",
        "**Text**: o texto original do pedaço do substantivo.<br>\n",
        "**Root text**: o texto original da palavra que conecta o pedaço do substantivo ao restante da análise.<br>\n",
        "**Root dep**: relação de dependência que conecta a raiz à sua cabeça.<br>\n",
        "**Root head text**: o texto do cabeçalho do token raiz.<br>\n",
        "\n",
        "https://medium.com/greyatom/learning-pos-tagging-chunking-in-nlp-85f7f811a8cb"
      ]
    },
    {
      "cell_type": "code",
      "metadata": {
        "id": "m0-La0BCt1Y_"
      },
      "source": [
        "#for chunk in doc.noun_chunks:\n",
        "  #print(chunk.text, chunk.label_, chunk.root.text, chunk.root.dep_,chunk.root.head.text)"
      ],
      "execution_count": 28,
      "outputs": []
    },
    {
      "cell_type": "markdown",
      "metadata": {
        "id": "FRK6pMzJ-ypZ"
      },
      "source": [
        "##Visualizando as dependências\n",
        "\n",
        "Éo processo de representar as dependências do texto através das relações entre os tokens. Por exemplo: um artigo está ligado a um substantivo, um advérbio modifica um verbo, e assim por diante.\n",
        "\n",
        "O significado das classes estão em: https://spacy.io/api/annotation#pos-tagging"
      ]
    },
    {
      "cell_type": "code",
      "metadata": {
        "id": "O4lMhC2L-0Ip",
        "colab": {
          "base_uri": "https://localhost:8080/",
          "height": 243
        },
        "outputId": "175d902e-bbda-4c6b-fc59-2dae25c8c6a5"
      },
      "source": [
        "displacy.render(doc, style='dep', jupyter=True, options={'distance': 85})"
      ],
      "execution_count": 29,
      "outputs": [
        {
          "output_type": "display_data",
          "data": {
            "text/plain": [
              "<IPython.core.display.HTML object>"
            ],
            "text/html": [
              "<span class=\"tex2jax_ignore\"><svg xmlns=\"http://www.w3.org/2000/svg\" xmlns:xlink=\"http://www.w3.org/1999/xlink\" xml:lang=\"pt\" id=\"cca1e22c742f41fab8f8d7cfaf18564c-0\" class=\"displacy\" width=\"560\" height=\"222.0\" direction=\"ltr\" style=\"max-width: none; height: 222.0px; color: #000000; background: #ffffff; font-family: Arial; direction: ltr\">\n",
              "<text class=\"displacy-token\" fill=\"currentColor\" text-anchor=\"middle\" y=\"132.0\">\n",
              "    <tspan class=\"displacy-word\" fill=\"currentColor\" x=\"50\">O</tspan>\n",
              "    <tspan class=\"displacy-tag\" dy=\"2em\" fill=\"currentColor\" x=\"50\">DET</tspan>\n",
              "</text>\n",
              "\n",
              "<text class=\"displacy-token\" fill=\"currentColor\" text-anchor=\"middle\" y=\"132.0\">\n",
              "    <tspan class=\"displacy-word\" fill=\"currentColor\" x=\"135\">céu</tspan>\n",
              "    <tspan class=\"displacy-tag\" dy=\"2em\" fill=\"currentColor\" x=\"135\">NOUN</tspan>\n",
              "</text>\n",
              "\n",
              "<text class=\"displacy-token\" fill=\"currentColor\" text-anchor=\"middle\" y=\"132.0\">\n",
              "    <tspan class=\"displacy-word\" fill=\"currentColor\" x=\"220\">está</tspan>\n",
              "    <tspan class=\"displacy-tag\" dy=\"2em\" fill=\"currentColor\" x=\"220\">AUX</tspan>\n",
              "</text>\n",
              "\n",
              "<text class=\"displacy-token\" fill=\"currentColor\" text-anchor=\"middle\" y=\"132.0\">\n",
              "    <tspan class=\"displacy-word\" fill=\"currentColor\" x=\"305\">azul</tspan>\n",
              "    <tspan class=\"displacy-tag\" dy=\"2em\" fill=\"currentColor\" x=\"305\">ADJ</tspan>\n",
              "</text>\n",
              "\n",
              "<text class=\"displacy-token\" fill=\"currentColor\" text-anchor=\"middle\" y=\"132.0\">\n",
              "    <tspan class=\"displacy-word\" fill=\"currentColor\" x=\"390\">e</tspan>\n",
              "    <tspan class=\"displacy-tag\" dy=\"2em\" fill=\"currentColor\" x=\"390\">CCONJ</tspan>\n",
              "</text>\n",
              "\n",
              "<text class=\"displacy-token\" fill=\"currentColor\" text-anchor=\"middle\" y=\"132.0\">\n",
              "    <tspan class=\"displacy-word\" fill=\"currentColor\" x=\"475\">verde.</tspan>\n",
              "    <tspan class=\"displacy-tag\" dy=\"2em\" fill=\"currentColor\" x=\"475\">ADJ</tspan>\n",
              "</text>\n",
              "\n",
              "<g class=\"displacy-arrow\">\n",
              "    <path class=\"displacy-arc\" id=\"arrow-cca1e22c742f41fab8f8d7cfaf18564c-0-0\" stroke-width=\"2px\" d=\"M70,87.0 C70,44.5 130.0,44.5 130.0,87.0\" fill=\"none\" stroke=\"currentColor\"/>\n",
              "    <text dy=\"1.25em\" style=\"font-size: 0.8em; letter-spacing: 1px\">\n",
              "        <textPath xlink:href=\"#arrow-cca1e22c742f41fab8f8d7cfaf18564c-0-0\" class=\"displacy-label\" startOffset=\"50%\" side=\"left\" fill=\"currentColor\" text-anchor=\"middle\">det</textPath>\n",
              "    </text>\n",
              "    <path class=\"displacy-arrowhead\" d=\"M70,89.0 L62,77.0 78,77.0\" fill=\"currentColor\"/>\n",
              "</g>\n",
              "\n",
              "<g class=\"displacy-arrow\">\n",
              "    <path class=\"displacy-arc\" id=\"arrow-cca1e22c742f41fab8f8d7cfaf18564c-0-1\" stroke-width=\"2px\" d=\"M155,87.0 C155,2.0 305.0,2.0 305.0,87.0\" fill=\"none\" stroke=\"currentColor\"/>\n",
              "    <text dy=\"1.25em\" style=\"font-size: 0.8em; letter-spacing: 1px\">\n",
              "        <textPath xlink:href=\"#arrow-cca1e22c742f41fab8f8d7cfaf18564c-0-1\" class=\"displacy-label\" startOffset=\"50%\" side=\"left\" fill=\"currentColor\" text-anchor=\"middle\">nsubj</textPath>\n",
              "    </text>\n",
              "    <path class=\"displacy-arrowhead\" d=\"M155,89.0 L147,77.0 163,77.0\" fill=\"currentColor\"/>\n",
              "</g>\n",
              "\n",
              "<g class=\"displacy-arrow\">\n",
              "    <path class=\"displacy-arc\" id=\"arrow-cca1e22c742f41fab8f8d7cfaf18564c-0-2\" stroke-width=\"2px\" d=\"M240,87.0 C240,44.5 300.0,44.5 300.0,87.0\" fill=\"none\" stroke=\"currentColor\"/>\n",
              "    <text dy=\"1.25em\" style=\"font-size: 0.8em; letter-spacing: 1px\">\n",
              "        <textPath xlink:href=\"#arrow-cca1e22c742f41fab8f8d7cfaf18564c-0-2\" class=\"displacy-label\" startOffset=\"50%\" side=\"left\" fill=\"currentColor\" text-anchor=\"middle\">cop</textPath>\n",
              "    </text>\n",
              "    <path class=\"displacy-arrowhead\" d=\"M240,89.0 L232,77.0 248,77.0\" fill=\"currentColor\"/>\n",
              "</g>\n",
              "\n",
              "<g class=\"displacy-arrow\">\n",
              "    <path class=\"displacy-arc\" id=\"arrow-cca1e22c742f41fab8f8d7cfaf18564c-0-3\" stroke-width=\"2px\" d=\"M410,87.0 C410,44.5 470.0,44.5 470.0,87.0\" fill=\"none\" stroke=\"currentColor\"/>\n",
              "    <text dy=\"1.25em\" style=\"font-size: 0.8em; letter-spacing: 1px\">\n",
              "        <textPath xlink:href=\"#arrow-cca1e22c742f41fab8f8d7cfaf18564c-0-3\" class=\"displacy-label\" startOffset=\"50%\" side=\"left\" fill=\"currentColor\" text-anchor=\"middle\">cc</textPath>\n",
              "    </text>\n",
              "    <path class=\"displacy-arrowhead\" d=\"M410,89.0 L402,77.0 418,77.0\" fill=\"currentColor\"/>\n",
              "</g>\n",
              "\n",
              "<g class=\"displacy-arrow\">\n",
              "    <path class=\"displacy-arc\" id=\"arrow-cca1e22c742f41fab8f8d7cfaf18564c-0-4\" stroke-width=\"2px\" d=\"M325,87.0 C325,2.0 475.0,2.0 475.0,87.0\" fill=\"none\" stroke=\"currentColor\"/>\n",
              "    <text dy=\"1.25em\" style=\"font-size: 0.8em; letter-spacing: 1px\">\n",
              "        <textPath xlink:href=\"#arrow-cca1e22c742f41fab8f8d7cfaf18564c-0-4\" class=\"displacy-label\" startOffset=\"50%\" side=\"left\" fill=\"currentColor\" text-anchor=\"middle\">conj</textPath>\n",
              "    </text>\n",
              "    <path class=\"displacy-arrowhead\" d=\"M475.0,89.0 L483.0,77.0 467.0,77.0\" fill=\"currentColor\"/>\n",
              "</g>\n",
              "</svg></span>"
            ]
          },
          "metadata": {}
        }
      ]
    },
    {
      "cell_type": "markdown",
      "metadata": {
        "id": "W6alLd-DiG0g"
      },
      "source": [
        "## Árvore de Análise da sentença"
      ]
    },
    {
      "cell_type": "code",
      "metadata": {
        "id": "Jzezf2lmhyaV",
        "colab": {
          "base_uri": "https://localhost:8080/"
        },
        "outputId": "ab3633a2-a084-43e5-e665-43e4536003c2"
      },
      "source": [
        "# Importando a biblioteca\n",
        "from nltk import Tree\n",
        "\n",
        "def to_nltk_tree(node):\n",
        "    if node.n_lefts + node.n_rights > 0:\n",
        "        return Tree(node.orth_, [to_nltk_tree(child) for child in node.children])\n",
        "    else:\n",
        "        return node.orth_\n",
        "\n",
        "[to_nltk_tree(sent.root).pretty_print() for sent in doc.sents]"
      ],
      "execution_count": 30,
      "outputs": [
        {
          "output_type": "stream",
          "name": "stdout",
          "text": [
            "     azul          \n",
            "  ____|_________    \n",
            " |    |   céu verde\n",
            " |    |    |    |   \n",
            "está  .    O    e  \n",
            "\n"
          ]
        },
        {
          "output_type": "execute_result",
          "data": {
            "text/plain": [
              "[None]"
            ]
          },
          "metadata": {},
          "execution_count": 30
        }
      ]
    },
    {
      "cell_type": "markdown",
      "metadata": {
        "id": "FLRCeu_ormZF"
      },
      "source": [
        "## Sentença substantiva\n",
        "\n",
        "https://realpython.com/natural-language-processing-spacy-python/"
      ]
    },
    {
      "cell_type": "code",
      "metadata": {
        "id": "wB5NTb8MroUc"
      },
      "source": [
        "doc = nlp(documento)\n",
        "\n",
        "# Extrai as sentenças substantivas\n",
        "#for chunk in doc.noun_chunks:\n",
        "#   print (chunk)"
      ],
      "execution_count": 31,
      "outputs": []
    },
    {
      "cell_type": "markdown",
      "metadata": {
        "id": "cVfFUPQUlUq6"
      },
      "source": [
        "## Localiza verbos\n",
        "\n",
        "Localiza os verbos e locuções verbais da sentença.\n",
        "\n",
        "Parâmetro OP:\n",
        "- \\! = Negação, 0 Vezes\n",
        "- \\? = Opcional, 0 ou 1 Vez\n",
        "- \\+ = Requerido, 1 ou mais vezes\n",
        "- \\* = Vários, 0 ou mais vezes\n",
        "\n",
        "Simulador em inglês:\n",
        "https://explosion.ai/demos/matcher\n"
      ]
    },
    {
      "cell_type": "code",
      "metadata": {
        "id": "EPawAdiYiCWS"
      },
      "source": [
        "import spacy\n",
        "from spacy.util import filter_spans\n",
        "from spacy.matcher import Matcher\n",
        "\n",
        "# (verbo normal como auxilar ou auxilar) + vários verbos auxiliares +verbo principal ou verbo auxiliar\n",
        "gramaticav1 =  [\n",
        "                {'POS': 'AUX', 'OP': '?', 'DEP': {'IN': ['aux','aux:pass']}},  #verbo auxiliar\n",
        "                {'POS': 'VERB', 'OP': '?', 'DEP': {'IN': ['ROOT','aux','xcomp','aux:pass']}},  #verbo normal como auxiliar\n",
        "                {'POS': 'AUX', 'OP': '*', 'DEP': {'IN': ['aux','xcomp','aux:pass']}},  #verbo auxiliar\n",
        "                {'POS': 'VERB', 'OP': '+'}, #verbo principal\n",
        "                {'POS': 'AUX', 'OP': '?', 'DEP': {'IN': ['cop','aux','xcomp','aux:pass']}},  #verbo auxiliar\n",
        "               ]\n",
        "\n",
        "# verbo auxiliar + verbo normal como auxiliar + conjunção com preposição + verbo\n",
        "gramaticav2 =  [\n",
        "                {'POS': 'AUX', 'OP': '?', 'DEP': {'IN': ['aux','aux:pass']}},  #verbo auxiliar\n",
        "                {'POS': 'VERB', 'OP': '+', 'DEP': {'IN': ['ROOT']}},  #verbo principal\n",
        "                {'POS': 'SCONJ', 'OP': '+', 'DEP': {'IN': ['mark']}}, #conjunção com preposição\n",
        "                {'POS': 'VERB', 'OP': '+', 'DEP': {'IN': ['xcomp']}}, #verbo normal como complementar\n",
        "               ]\n",
        "\n",
        "#Somente verbos auxiliares\n",
        "gramaticav3 =  [\n",
        "                {'POS': 'AUX', 'OP': '?'},  #Verbos auxiliar\n",
        "                {'POS': 'AUX', 'OP': '?', 'DEP': {'IN': ['cop']}},  #Verbos auxiliar de ligação (AUX+(cop))\n",
        "                {'POS': 'ADJ', 'OP': '+', 'DEP': {'IN': ['ROOT']}},\n",
        "                {'POS': 'AUX', 'OP': '?'}  #Verbos auxiliar\n",
        "                ]\n",
        "\n",
        "matcherv = Matcher(nlp.vocab)\n",
        "\n",
        "matcherv.add(\"sentença verbal\", [gramaticav1])\n",
        "matcherv.add(\"sentença verbal\", [gramaticav2])\n",
        "matcherv.add(\"sentença verbal\", [gramaticav3])\n",
        "\n",
        "#Retorna a Sentença Verbal\n",
        "def localizaVerbos(sentenca):\n",
        "  #Processa o período\n",
        "  doc1 = nlp(sentenca)\n",
        "\n",
        "  # Chama o matcher para encontrar o padrão\n",
        "  matches = matcherv(doc1)\n",
        "\n",
        "  padrao = [doc1[start:end] for _, start, end in matches]\n",
        "\n",
        "  #elimina as repetições e sobreposições\n",
        "  lista1 = filter_spans(padrao)\n",
        "\n",
        "  # Converte os itens em string\n",
        "  lista2 = []\n",
        "  for x in lista1:\n",
        "      lista2.append(str(x))\n",
        "\n",
        "  return lista2"
      ],
      "execution_count": 32,
      "outputs": []
    },
    {
      "cell_type": "code",
      "metadata": {
        "colab": {
          "base_uri": "https://localhost:8080/"
        },
        "id": "5TuiOHiTnDz-",
        "outputId": "30abadd2-4a0a-4a80-9228-bd76ccaf1608"
      },
      "source": [
        "documento = \"Vi, vi e venci.\"\n",
        "\n",
        "verbos = localizaVerbos(documento)\n",
        "\n",
        "print(verbos)"
      ],
      "execution_count": 33,
      "outputs": [
        {
          "output_type": "stream",
          "name": "stdout",
          "text": [
            "['Vi', 'vi', 'venci']\n"
          ]
        }
      ]
    },
    {
      "cell_type": "markdown",
      "metadata": {
        "id": "KvvUXvHNrks4"
      },
      "source": [
        "# 3 Exemplo sentenças"
      ]
    },
    {
      "cell_type": "markdown",
      "metadata": {
        "id": "uvXSJYKErktH"
      },
      "source": [
        "##Armazena um texto."
      ]
    },
    {
      "cell_type": "code",
      "metadata": {
        "id": "WXrXG2f4rktG"
      },
      "source": [
        "#documento = u\"Estou bem, mas não tenho certeza se viajarei para São Paulo amanhã às 8:30.\"\n",
        "#documento = u\"Que é época de alta circulação de vírus respiratórios, apontam séries históricas da Fiocruz.\"\n",
        "#documento = u'Olá Professor Osmar, hoje teremos aula?'\n",
        "#documento = u'Professor, como eu faço para Empilhar um elemento de uma Fila?'\n",
        "#documento = u'Olá Professor tudo bem? Como eu faço para Empilhar um elemento de uma Fila? Boa Tarde!'\n",
        "#documento = u\"O cão roía o osso.\"\n",
        "#documento = u\"O rato comeu o queijo.\"\n",
        "documento = u\"O que é uma pilha e como empilhar seu elemento?\""
      ],
      "execution_count": 34,
      "outputs": []
    },
    {
      "cell_type": "code",
      "metadata": {
        "id": "S8sLVX5BrktI"
      },
      "source": [
        "doc = nlp(documento)\n",
        "\n",
        "logging.info('Texto armazenado!')"
      ],
      "execution_count": 35,
      "outputs": []
    },
    {
      "cell_type": "markdown",
      "metadata": {
        "id": "BgsLuAXKrktK"
      },
      "source": [
        "##Visualizando as dependências\n",
        "\n",
        "Éo processo de representar as dependências do texto através das relações entre os tokens. Por exemplo: um artigo está ligado a um substantivo, um advérbio modifica um verbo, e assim por diante.\n",
        "\n",
        "O significado das classes estão em: https://spacy.io/api/annotation#pos-tagging"
      ]
    },
    {
      "cell_type": "code",
      "metadata": {
        "colab": {
          "base_uri": "https://localhost:8080/",
          "height": 328
        },
        "id": "6tdyU0MerktL",
        "outputId": "b1c3a0d5-cfc0-47d8-ef7c-4cb0b77b0326"
      },
      "source": [
        "displacy.render(doc, style='dep', jupyter=True, options={'distance': 100})"
      ],
      "execution_count": 36,
      "outputs": [
        {
          "output_type": "display_data",
          "data": {
            "text/plain": [
              "<IPython.core.display.HTML object>"
            ],
            "text/html": [
              "<span class=\"tex2jax_ignore\"><svg xmlns=\"http://www.w3.org/2000/svg\" xmlns:xlink=\"http://www.w3.org/1999/xlink\" xml:lang=\"pt\" id=\"dff05622d7474c16a854b67b7a6c5b3e-0\" class=\"displacy\" width=\"1050\" height=\"287.0\" direction=\"ltr\" style=\"max-width: none; height: 287.0px; color: #000000; background: #ffffff; font-family: Arial; direction: ltr\">\n",
              "<text class=\"displacy-token\" fill=\"currentColor\" text-anchor=\"middle\" y=\"197.0\">\n",
              "    <tspan class=\"displacy-word\" fill=\"currentColor\" x=\"50\">O</tspan>\n",
              "    <tspan class=\"displacy-tag\" dy=\"2em\" fill=\"currentColor\" x=\"50\">PRON</tspan>\n",
              "</text>\n",
              "\n",
              "<text class=\"displacy-token\" fill=\"currentColor\" text-anchor=\"middle\" y=\"197.0\">\n",
              "    <tspan class=\"displacy-word\" fill=\"currentColor\" x=\"150\">que</tspan>\n",
              "    <tspan class=\"displacy-tag\" dy=\"2em\" fill=\"currentColor\" x=\"150\">PRON</tspan>\n",
              "</text>\n",
              "\n",
              "<text class=\"displacy-token\" fill=\"currentColor\" text-anchor=\"middle\" y=\"197.0\">\n",
              "    <tspan class=\"displacy-word\" fill=\"currentColor\" x=\"250\">é</tspan>\n",
              "    <tspan class=\"displacy-tag\" dy=\"2em\" fill=\"currentColor\" x=\"250\">AUX</tspan>\n",
              "</text>\n",
              "\n",
              "<text class=\"displacy-token\" fill=\"currentColor\" text-anchor=\"middle\" y=\"197.0\">\n",
              "    <tspan class=\"displacy-word\" fill=\"currentColor\" x=\"350\">uma</tspan>\n",
              "    <tspan class=\"displacy-tag\" dy=\"2em\" fill=\"currentColor\" x=\"350\">DET</tspan>\n",
              "</text>\n",
              "\n",
              "<text class=\"displacy-token\" fill=\"currentColor\" text-anchor=\"middle\" y=\"197.0\">\n",
              "    <tspan class=\"displacy-word\" fill=\"currentColor\" x=\"450\">pilha</tspan>\n",
              "    <tspan class=\"displacy-tag\" dy=\"2em\" fill=\"currentColor\" x=\"450\">NOUN</tspan>\n",
              "</text>\n",
              "\n",
              "<text class=\"displacy-token\" fill=\"currentColor\" text-anchor=\"middle\" y=\"197.0\">\n",
              "    <tspan class=\"displacy-word\" fill=\"currentColor\" x=\"550\">e</tspan>\n",
              "    <tspan class=\"displacy-tag\" dy=\"2em\" fill=\"currentColor\" x=\"550\">CCONJ</tspan>\n",
              "</text>\n",
              "\n",
              "<text class=\"displacy-token\" fill=\"currentColor\" text-anchor=\"middle\" y=\"197.0\">\n",
              "    <tspan class=\"displacy-word\" fill=\"currentColor\" x=\"650\">como</tspan>\n",
              "    <tspan class=\"displacy-tag\" dy=\"2em\" fill=\"currentColor\" x=\"650\">SCONJ</tspan>\n",
              "</text>\n",
              "\n",
              "<text class=\"displacy-token\" fill=\"currentColor\" text-anchor=\"middle\" y=\"197.0\">\n",
              "    <tspan class=\"displacy-word\" fill=\"currentColor\" x=\"750\">empilhar</tspan>\n",
              "    <tspan class=\"displacy-tag\" dy=\"2em\" fill=\"currentColor\" x=\"750\">VERB</tspan>\n",
              "</text>\n",
              "\n",
              "<text class=\"displacy-token\" fill=\"currentColor\" text-anchor=\"middle\" y=\"197.0\">\n",
              "    <tspan class=\"displacy-word\" fill=\"currentColor\" x=\"850\">seu</tspan>\n",
              "    <tspan class=\"displacy-tag\" dy=\"2em\" fill=\"currentColor\" x=\"850\">DET</tspan>\n",
              "</text>\n",
              "\n",
              "<text class=\"displacy-token\" fill=\"currentColor\" text-anchor=\"middle\" y=\"197.0\">\n",
              "    <tspan class=\"displacy-word\" fill=\"currentColor\" x=\"950\">elemento?</tspan>\n",
              "    <tspan class=\"displacy-tag\" dy=\"2em\" fill=\"currentColor\" x=\"950\">NOUN</tspan>\n",
              "</text>\n",
              "\n",
              "<g class=\"displacy-arrow\">\n",
              "    <path class=\"displacy-arc\" id=\"arrow-dff05622d7474c16a854b67b7a6c5b3e-0-0\" stroke-width=\"2px\" d=\"M70,152.0 C70,102.0 140.0,102.0 140.0,152.0\" fill=\"none\" stroke=\"currentColor\"/>\n",
              "    <text dy=\"1.25em\" style=\"font-size: 0.8em; letter-spacing: 1px\">\n",
              "        <textPath xlink:href=\"#arrow-dff05622d7474c16a854b67b7a6c5b3e-0-0\" class=\"displacy-label\" startOffset=\"50%\" side=\"left\" fill=\"currentColor\" text-anchor=\"middle\">det</textPath>\n",
              "    </text>\n",
              "    <path class=\"displacy-arrowhead\" d=\"M70,154.0 L62,142.0 78,142.0\" fill=\"currentColor\"/>\n",
              "</g>\n",
              "\n",
              "<g class=\"displacy-arrow\">\n",
              "    <path class=\"displacy-arc\" id=\"arrow-dff05622d7474c16a854b67b7a6c5b3e-0-1\" stroke-width=\"2px\" d=\"M170,152.0 C170,2.0 450.0,2.0 450.0,152.0\" fill=\"none\" stroke=\"currentColor\"/>\n",
              "    <text dy=\"1.25em\" style=\"font-size: 0.8em; letter-spacing: 1px\">\n",
              "        <textPath xlink:href=\"#arrow-dff05622d7474c16a854b67b7a6c5b3e-0-1\" class=\"displacy-label\" startOffset=\"50%\" side=\"left\" fill=\"currentColor\" text-anchor=\"middle\">nsubj</textPath>\n",
              "    </text>\n",
              "    <path class=\"displacy-arrowhead\" d=\"M170,154.0 L162,142.0 178,142.0\" fill=\"currentColor\"/>\n",
              "</g>\n",
              "\n",
              "<g class=\"displacy-arrow\">\n",
              "    <path class=\"displacy-arc\" id=\"arrow-dff05622d7474c16a854b67b7a6c5b3e-0-2\" stroke-width=\"2px\" d=\"M270,152.0 C270,52.0 445.0,52.0 445.0,152.0\" fill=\"none\" stroke=\"currentColor\"/>\n",
              "    <text dy=\"1.25em\" style=\"font-size: 0.8em; letter-spacing: 1px\">\n",
              "        <textPath xlink:href=\"#arrow-dff05622d7474c16a854b67b7a6c5b3e-0-2\" class=\"displacy-label\" startOffset=\"50%\" side=\"left\" fill=\"currentColor\" text-anchor=\"middle\">cop</textPath>\n",
              "    </text>\n",
              "    <path class=\"displacy-arrowhead\" d=\"M270,154.0 L262,142.0 278,142.0\" fill=\"currentColor\"/>\n",
              "</g>\n",
              "\n",
              "<g class=\"displacy-arrow\">\n",
              "    <path class=\"displacy-arc\" id=\"arrow-dff05622d7474c16a854b67b7a6c5b3e-0-3\" stroke-width=\"2px\" d=\"M370,152.0 C370,102.0 440.0,102.0 440.0,152.0\" fill=\"none\" stroke=\"currentColor\"/>\n",
              "    <text dy=\"1.25em\" style=\"font-size: 0.8em; letter-spacing: 1px\">\n",
              "        <textPath xlink:href=\"#arrow-dff05622d7474c16a854b67b7a6c5b3e-0-3\" class=\"displacy-label\" startOffset=\"50%\" side=\"left\" fill=\"currentColor\" text-anchor=\"middle\">det</textPath>\n",
              "    </text>\n",
              "    <path class=\"displacy-arrowhead\" d=\"M370,154.0 L362,142.0 378,142.0\" fill=\"currentColor\"/>\n",
              "</g>\n",
              "\n",
              "<g class=\"displacy-arrow\">\n",
              "    <path class=\"displacy-arc\" id=\"arrow-dff05622d7474c16a854b67b7a6c5b3e-0-4\" stroke-width=\"2px\" d=\"M570,152.0 C570,52.0 745.0,52.0 745.0,152.0\" fill=\"none\" stroke=\"currentColor\"/>\n",
              "    <text dy=\"1.25em\" style=\"font-size: 0.8em; letter-spacing: 1px\">\n",
              "        <textPath xlink:href=\"#arrow-dff05622d7474c16a854b67b7a6c5b3e-0-4\" class=\"displacy-label\" startOffset=\"50%\" side=\"left\" fill=\"currentColor\" text-anchor=\"middle\">cc</textPath>\n",
              "    </text>\n",
              "    <path class=\"displacy-arrowhead\" d=\"M570,154.0 L562,142.0 578,142.0\" fill=\"currentColor\"/>\n",
              "</g>\n",
              "\n",
              "<g class=\"displacy-arrow\">\n",
              "    <path class=\"displacy-arc\" id=\"arrow-dff05622d7474c16a854b67b7a6c5b3e-0-5\" stroke-width=\"2px\" d=\"M670,152.0 C670,102.0 740.0,102.0 740.0,152.0\" fill=\"none\" stroke=\"currentColor\"/>\n",
              "    <text dy=\"1.25em\" style=\"font-size: 0.8em; letter-spacing: 1px\">\n",
              "        <textPath xlink:href=\"#arrow-dff05622d7474c16a854b67b7a6c5b3e-0-5\" class=\"displacy-label\" startOffset=\"50%\" side=\"left\" fill=\"currentColor\" text-anchor=\"middle\">mark</textPath>\n",
              "    </text>\n",
              "    <path class=\"displacy-arrowhead\" d=\"M670,154.0 L662,142.0 678,142.0\" fill=\"currentColor\"/>\n",
              "</g>\n",
              "\n",
              "<g class=\"displacy-arrow\">\n",
              "    <path class=\"displacy-arc\" id=\"arrow-dff05622d7474c16a854b67b7a6c5b3e-0-6\" stroke-width=\"2px\" d=\"M470,152.0 C470,2.0 750.0,2.0 750.0,152.0\" fill=\"none\" stroke=\"currentColor\"/>\n",
              "    <text dy=\"1.25em\" style=\"font-size: 0.8em; letter-spacing: 1px\">\n",
              "        <textPath xlink:href=\"#arrow-dff05622d7474c16a854b67b7a6c5b3e-0-6\" class=\"displacy-label\" startOffset=\"50%\" side=\"left\" fill=\"currentColor\" text-anchor=\"middle\">conj</textPath>\n",
              "    </text>\n",
              "    <path class=\"displacy-arrowhead\" d=\"M750.0,154.0 L758.0,142.0 742.0,142.0\" fill=\"currentColor\"/>\n",
              "</g>\n",
              "\n",
              "<g class=\"displacy-arrow\">\n",
              "    <path class=\"displacy-arc\" id=\"arrow-dff05622d7474c16a854b67b7a6c5b3e-0-7\" stroke-width=\"2px\" d=\"M870,152.0 C870,102.0 940.0,102.0 940.0,152.0\" fill=\"none\" stroke=\"currentColor\"/>\n",
              "    <text dy=\"1.25em\" style=\"font-size: 0.8em; letter-spacing: 1px\">\n",
              "        <textPath xlink:href=\"#arrow-dff05622d7474c16a854b67b7a6c5b3e-0-7\" class=\"displacy-label\" startOffset=\"50%\" side=\"left\" fill=\"currentColor\" text-anchor=\"middle\">det</textPath>\n",
              "    </text>\n",
              "    <path class=\"displacy-arrowhead\" d=\"M870,154.0 L862,142.0 878,142.0\" fill=\"currentColor\"/>\n",
              "</g>\n",
              "\n",
              "<g class=\"displacy-arrow\">\n",
              "    <path class=\"displacy-arc\" id=\"arrow-dff05622d7474c16a854b67b7a6c5b3e-0-8\" stroke-width=\"2px\" d=\"M770,152.0 C770,52.0 945.0,52.0 945.0,152.0\" fill=\"none\" stroke=\"currentColor\"/>\n",
              "    <text dy=\"1.25em\" style=\"font-size: 0.8em; letter-spacing: 1px\">\n",
              "        <textPath xlink:href=\"#arrow-dff05622d7474c16a854b67b7a6c5b3e-0-8\" class=\"displacy-label\" startOffset=\"50%\" side=\"left\" fill=\"currentColor\" text-anchor=\"middle\">obj</textPath>\n",
              "    </text>\n",
              "    <path class=\"displacy-arrowhead\" d=\"M945.0,154.0 L953.0,142.0 937.0,142.0\" fill=\"currentColor\"/>\n",
              "</g>\n",
              "</svg></span>"
            ]
          },
          "metadata": {}
        }
      ]
    },
    {
      "cell_type": "markdown",
      "metadata": {
        "id": "McoKwva_tu7l"
      },
      "source": [
        "##Armazena um texto."
      ]
    },
    {
      "cell_type": "code",
      "metadata": {
        "id": "PUpP5Xyhtg31"
      },
      "source": [
        "#documento = u\"Estou bem, mas não tenho certeza se viajarei para São Paulo amanhã às 8:30.\"\n",
        "#documento = u\"Que é época de alta circulação de vírus respiratórios, apontam séries históricas da Fiocruz.\"\n",
        "#documento = u'Olá Professor Osmar, hoje teremos aula?'\n",
        "#documento = u'Professor, como eu faço para Empilhar um elemento de uma Fila?'\n",
        "#documento = u'Olá Professor tudo bem? Como eu faço para Empilhar um elemento de uma Fila? Boa Tarde!'\n",
        "#documento = u\"O cão roía o osso.\"\n",
        "#documento = u\"O rato comeu o queijo.\"\n",
        "documento = u\"O que é uma fila e como enfileirar seu elemento?\""
      ],
      "execution_count": 37,
      "outputs": []
    },
    {
      "cell_type": "code",
      "metadata": {
        "id": "r1FfLPyptg4A"
      },
      "source": [
        "doc = nlp(documento)\n",
        "\n",
        "logging.info('Texto armazenado!')"
      ],
      "execution_count": 38,
      "outputs": []
    },
    {
      "cell_type": "markdown",
      "metadata": {
        "id": "hp8MF2Oetg4B"
      },
      "source": [
        "##Visualizando as dependências\n",
        "\n",
        "Éo processo de representar as dependências do texto através das relações entre os tokens. Por exemplo: um artigo está ligado a um substantivo, um advérbio modifica um verbo, e assim por diante.\n",
        "\n",
        "O significado das classes estão em: https://spacy.io/api/annotation#pos-tagging"
      ]
    },
    {
      "cell_type": "code",
      "metadata": {
        "colab": {
          "base_uri": "https://localhost:8080/",
          "height": 328
        },
        "id": "3VP8iZ_Ttg4B",
        "outputId": "9ce2a6ec-0dcb-40d1-84e8-6310d5b9d803"
      },
      "source": [
        "displacy.render(doc, style='dep', jupyter=True, options={'distance': 100})"
      ],
      "execution_count": 39,
      "outputs": [
        {
          "output_type": "display_data",
          "data": {
            "text/plain": [
              "<IPython.core.display.HTML object>"
            ],
            "text/html": [
              "<span class=\"tex2jax_ignore\"><svg xmlns=\"http://www.w3.org/2000/svg\" xmlns:xlink=\"http://www.w3.org/1999/xlink\" xml:lang=\"pt\" id=\"7492209299844427972545ee14efddd0-0\" class=\"displacy\" width=\"1050\" height=\"287.0\" direction=\"ltr\" style=\"max-width: none; height: 287.0px; color: #000000; background: #ffffff; font-family: Arial; direction: ltr\">\n",
              "<text class=\"displacy-token\" fill=\"currentColor\" text-anchor=\"middle\" y=\"197.0\">\n",
              "    <tspan class=\"displacy-word\" fill=\"currentColor\" x=\"50\">O</tspan>\n",
              "    <tspan class=\"displacy-tag\" dy=\"2em\" fill=\"currentColor\" x=\"50\">PRON</tspan>\n",
              "</text>\n",
              "\n",
              "<text class=\"displacy-token\" fill=\"currentColor\" text-anchor=\"middle\" y=\"197.0\">\n",
              "    <tspan class=\"displacy-word\" fill=\"currentColor\" x=\"150\">que</tspan>\n",
              "    <tspan class=\"displacy-tag\" dy=\"2em\" fill=\"currentColor\" x=\"150\">PRON</tspan>\n",
              "</text>\n",
              "\n",
              "<text class=\"displacy-token\" fill=\"currentColor\" text-anchor=\"middle\" y=\"197.0\">\n",
              "    <tspan class=\"displacy-word\" fill=\"currentColor\" x=\"250\">é</tspan>\n",
              "    <tspan class=\"displacy-tag\" dy=\"2em\" fill=\"currentColor\" x=\"250\">AUX</tspan>\n",
              "</text>\n",
              "\n",
              "<text class=\"displacy-token\" fill=\"currentColor\" text-anchor=\"middle\" y=\"197.0\">\n",
              "    <tspan class=\"displacy-word\" fill=\"currentColor\" x=\"350\">uma</tspan>\n",
              "    <tspan class=\"displacy-tag\" dy=\"2em\" fill=\"currentColor\" x=\"350\">DET</tspan>\n",
              "</text>\n",
              "\n",
              "<text class=\"displacy-token\" fill=\"currentColor\" text-anchor=\"middle\" y=\"197.0\">\n",
              "    <tspan class=\"displacy-word\" fill=\"currentColor\" x=\"450\">fila</tspan>\n",
              "    <tspan class=\"displacy-tag\" dy=\"2em\" fill=\"currentColor\" x=\"450\">NOUN</tspan>\n",
              "</text>\n",
              "\n",
              "<text class=\"displacy-token\" fill=\"currentColor\" text-anchor=\"middle\" y=\"197.0\">\n",
              "    <tspan class=\"displacy-word\" fill=\"currentColor\" x=\"550\">e</tspan>\n",
              "    <tspan class=\"displacy-tag\" dy=\"2em\" fill=\"currentColor\" x=\"550\">CCONJ</tspan>\n",
              "</text>\n",
              "\n",
              "<text class=\"displacy-token\" fill=\"currentColor\" text-anchor=\"middle\" y=\"197.0\">\n",
              "    <tspan class=\"displacy-word\" fill=\"currentColor\" x=\"650\">como</tspan>\n",
              "    <tspan class=\"displacy-tag\" dy=\"2em\" fill=\"currentColor\" x=\"650\">SCONJ</tspan>\n",
              "</text>\n",
              "\n",
              "<text class=\"displacy-token\" fill=\"currentColor\" text-anchor=\"middle\" y=\"197.0\">\n",
              "    <tspan class=\"displacy-word\" fill=\"currentColor\" x=\"750\">enfileirar</tspan>\n",
              "    <tspan class=\"displacy-tag\" dy=\"2em\" fill=\"currentColor\" x=\"750\">VERB</tspan>\n",
              "</text>\n",
              "\n",
              "<text class=\"displacy-token\" fill=\"currentColor\" text-anchor=\"middle\" y=\"197.0\">\n",
              "    <tspan class=\"displacy-word\" fill=\"currentColor\" x=\"850\">seu</tspan>\n",
              "    <tspan class=\"displacy-tag\" dy=\"2em\" fill=\"currentColor\" x=\"850\">DET</tspan>\n",
              "</text>\n",
              "\n",
              "<text class=\"displacy-token\" fill=\"currentColor\" text-anchor=\"middle\" y=\"197.0\">\n",
              "    <tspan class=\"displacy-word\" fill=\"currentColor\" x=\"950\">elemento?</tspan>\n",
              "    <tspan class=\"displacy-tag\" dy=\"2em\" fill=\"currentColor\" x=\"950\">NOUN</tspan>\n",
              "</text>\n",
              "\n",
              "<g class=\"displacy-arrow\">\n",
              "    <path class=\"displacy-arc\" id=\"arrow-7492209299844427972545ee14efddd0-0-0\" stroke-width=\"2px\" d=\"M70,152.0 C70,102.0 140.0,102.0 140.0,152.0\" fill=\"none\" stroke=\"currentColor\"/>\n",
              "    <text dy=\"1.25em\" style=\"font-size: 0.8em; letter-spacing: 1px\">\n",
              "        <textPath xlink:href=\"#arrow-7492209299844427972545ee14efddd0-0-0\" class=\"displacy-label\" startOffset=\"50%\" side=\"left\" fill=\"currentColor\" text-anchor=\"middle\">det</textPath>\n",
              "    </text>\n",
              "    <path class=\"displacy-arrowhead\" d=\"M70,154.0 L62,142.0 78,142.0\" fill=\"currentColor\"/>\n",
              "</g>\n",
              "\n",
              "<g class=\"displacy-arrow\">\n",
              "    <path class=\"displacy-arc\" id=\"arrow-7492209299844427972545ee14efddd0-0-1\" stroke-width=\"2px\" d=\"M170,152.0 C170,2.0 450.0,2.0 450.0,152.0\" fill=\"none\" stroke=\"currentColor\"/>\n",
              "    <text dy=\"1.25em\" style=\"font-size: 0.8em; letter-spacing: 1px\">\n",
              "        <textPath xlink:href=\"#arrow-7492209299844427972545ee14efddd0-0-1\" class=\"displacy-label\" startOffset=\"50%\" side=\"left\" fill=\"currentColor\" text-anchor=\"middle\">nsubj</textPath>\n",
              "    </text>\n",
              "    <path class=\"displacy-arrowhead\" d=\"M170,154.0 L162,142.0 178,142.0\" fill=\"currentColor\"/>\n",
              "</g>\n",
              "\n",
              "<g class=\"displacy-arrow\">\n",
              "    <path class=\"displacy-arc\" id=\"arrow-7492209299844427972545ee14efddd0-0-2\" stroke-width=\"2px\" d=\"M270,152.0 C270,52.0 445.0,52.0 445.0,152.0\" fill=\"none\" stroke=\"currentColor\"/>\n",
              "    <text dy=\"1.25em\" style=\"font-size: 0.8em; letter-spacing: 1px\">\n",
              "        <textPath xlink:href=\"#arrow-7492209299844427972545ee14efddd0-0-2\" class=\"displacy-label\" startOffset=\"50%\" side=\"left\" fill=\"currentColor\" text-anchor=\"middle\">cop</textPath>\n",
              "    </text>\n",
              "    <path class=\"displacy-arrowhead\" d=\"M270,154.0 L262,142.0 278,142.0\" fill=\"currentColor\"/>\n",
              "</g>\n",
              "\n",
              "<g class=\"displacy-arrow\">\n",
              "    <path class=\"displacy-arc\" id=\"arrow-7492209299844427972545ee14efddd0-0-3\" stroke-width=\"2px\" d=\"M370,152.0 C370,102.0 440.0,102.0 440.0,152.0\" fill=\"none\" stroke=\"currentColor\"/>\n",
              "    <text dy=\"1.25em\" style=\"font-size: 0.8em; letter-spacing: 1px\">\n",
              "        <textPath xlink:href=\"#arrow-7492209299844427972545ee14efddd0-0-3\" class=\"displacy-label\" startOffset=\"50%\" side=\"left\" fill=\"currentColor\" text-anchor=\"middle\">det</textPath>\n",
              "    </text>\n",
              "    <path class=\"displacy-arrowhead\" d=\"M370,154.0 L362,142.0 378,142.0\" fill=\"currentColor\"/>\n",
              "</g>\n",
              "\n",
              "<g class=\"displacy-arrow\">\n",
              "    <path class=\"displacy-arc\" id=\"arrow-7492209299844427972545ee14efddd0-0-4\" stroke-width=\"2px\" d=\"M570,152.0 C570,52.0 745.0,52.0 745.0,152.0\" fill=\"none\" stroke=\"currentColor\"/>\n",
              "    <text dy=\"1.25em\" style=\"font-size: 0.8em; letter-spacing: 1px\">\n",
              "        <textPath xlink:href=\"#arrow-7492209299844427972545ee14efddd0-0-4\" class=\"displacy-label\" startOffset=\"50%\" side=\"left\" fill=\"currentColor\" text-anchor=\"middle\">cc</textPath>\n",
              "    </text>\n",
              "    <path class=\"displacy-arrowhead\" d=\"M570,154.0 L562,142.0 578,142.0\" fill=\"currentColor\"/>\n",
              "</g>\n",
              "\n",
              "<g class=\"displacy-arrow\">\n",
              "    <path class=\"displacy-arc\" id=\"arrow-7492209299844427972545ee14efddd0-0-5\" stroke-width=\"2px\" d=\"M670,152.0 C670,102.0 740.0,102.0 740.0,152.0\" fill=\"none\" stroke=\"currentColor\"/>\n",
              "    <text dy=\"1.25em\" style=\"font-size: 0.8em; letter-spacing: 1px\">\n",
              "        <textPath xlink:href=\"#arrow-7492209299844427972545ee14efddd0-0-5\" class=\"displacy-label\" startOffset=\"50%\" side=\"left\" fill=\"currentColor\" text-anchor=\"middle\">mark</textPath>\n",
              "    </text>\n",
              "    <path class=\"displacy-arrowhead\" d=\"M670,154.0 L662,142.0 678,142.0\" fill=\"currentColor\"/>\n",
              "</g>\n",
              "\n",
              "<g class=\"displacy-arrow\">\n",
              "    <path class=\"displacy-arc\" id=\"arrow-7492209299844427972545ee14efddd0-0-6\" stroke-width=\"2px\" d=\"M470,152.0 C470,2.0 750.0,2.0 750.0,152.0\" fill=\"none\" stroke=\"currentColor\"/>\n",
              "    <text dy=\"1.25em\" style=\"font-size: 0.8em; letter-spacing: 1px\">\n",
              "        <textPath xlink:href=\"#arrow-7492209299844427972545ee14efddd0-0-6\" class=\"displacy-label\" startOffset=\"50%\" side=\"left\" fill=\"currentColor\" text-anchor=\"middle\">conj</textPath>\n",
              "    </text>\n",
              "    <path class=\"displacy-arrowhead\" d=\"M750.0,154.0 L758.0,142.0 742.0,142.0\" fill=\"currentColor\"/>\n",
              "</g>\n",
              "\n",
              "<g class=\"displacy-arrow\">\n",
              "    <path class=\"displacy-arc\" id=\"arrow-7492209299844427972545ee14efddd0-0-7\" stroke-width=\"2px\" d=\"M870,152.0 C870,102.0 940.0,102.0 940.0,152.0\" fill=\"none\" stroke=\"currentColor\"/>\n",
              "    <text dy=\"1.25em\" style=\"font-size: 0.8em; letter-spacing: 1px\">\n",
              "        <textPath xlink:href=\"#arrow-7492209299844427972545ee14efddd0-0-7\" class=\"displacy-label\" startOffset=\"50%\" side=\"left\" fill=\"currentColor\" text-anchor=\"middle\">det</textPath>\n",
              "    </text>\n",
              "    <path class=\"displacy-arrowhead\" d=\"M870,154.0 L862,142.0 878,142.0\" fill=\"currentColor\"/>\n",
              "</g>\n",
              "\n",
              "<g class=\"displacy-arrow\">\n",
              "    <path class=\"displacy-arc\" id=\"arrow-7492209299844427972545ee14efddd0-0-8\" stroke-width=\"2px\" d=\"M770,152.0 C770,52.0 945.0,52.0 945.0,152.0\" fill=\"none\" stroke=\"currentColor\"/>\n",
              "    <text dy=\"1.25em\" style=\"font-size: 0.8em; letter-spacing: 1px\">\n",
              "        <textPath xlink:href=\"#arrow-7492209299844427972545ee14efddd0-0-8\" class=\"displacy-label\" startOffset=\"50%\" side=\"left\" fill=\"currentColor\" text-anchor=\"middle\">obj</textPath>\n",
              "    </text>\n",
              "    <path class=\"displacy-arrowhead\" d=\"M945.0,154.0 L953.0,142.0 937.0,142.0\" fill=\"currentColor\"/>\n",
              "</g>\n",
              "</svg></span>"
            ]
          },
          "metadata": {}
        }
      ]
    },
    {
      "cell_type": "markdown",
      "metadata": {
        "id": "iK2OnS1QrktM"
      },
      "source": [
        "##Árvore de Análise"
      ]
    },
    {
      "cell_type": "code",
      "metadata": {
        "id": "3SgV-SQzjDFQ",
        "colab": {
          "base_uri": "https://localhost:8080/"
        },
        "outputId": "71be4999-f707-4f40-ef6f-9cb3eeaed1f7"
      },
      "source": [
        "#documento = u\"Que dia bonito hoje!\"\n",
        "#documento = u\"Que é época de alta circulação de vírus respiratórios, apontam séries históricas da Fiocruz.\"\n",
        "#documento = u\"Estou bem, mas não tenho certeza se viajarei para São Paulo amanhã às 8:30.\"\n",
        "#documento = u\"Estados anunciam flexibilização em época de alta circulação de vírus respiratórios, apontam séries históricas da Fiocruz.\"\n",
        "documento = u\"O que é uma pilha e como empilhar seu elemento?\"\n",
        "\n",
        "doc = nlp(documento)\n",
        "\n",
        "print (type(doc))\n",
        "\n",
        "if (type(doc) is spacy.tokens.doc.Doc):\n",
        "  print(\"tipo Spacy\")\n",
        "else:\n",
        "  print(\"Não é do tipo spacy\")"
      ],
      "execution_count": 40,
      "outputs": [
        {
          "output_type": "stream",
          "name": "stdout",
          "text": [
            "<class 'spacy.tokens.doc.Doc'>\n",
            "tipo Spacy\n"
          ]
        }
      ]
    },
    {
      "cell_type": "code",
      "metadata": {
        "id": "CtRQt1mfGnyt"
      },
      "source": [
        "# Importando as bibliotecas.\n",
        "import spacy\n",
        "from nltk import Tree\n",
        "\n",
        "def to_nltk_tree(node):\n",
        "    if node.n_lefts + node.n_rights > 0:\n",
        "        return Tree(node.orth_, [to_nltk_tree(child) for child in node.children])\n",
        "    else:\n",
        "        return node.orth_"
      ],
      "execution_count": 41,
      "outputs": []
    },
    {
      "cell_type": "code",
      "metadata": {
        "colab": {
          "base_uri": "https://localhost:8080/"
        },
        "id": "-jiARyeFrktN",
        "outputId": "893110b2-34ed-4d3b-ef43-43b37554aa56"
      },
      "source": [
        "print([to_nltk_tree(sent.root).pretty_print() for sent in doc.sents])"
      ],
      "execution_count": 42,
      "outputs": [
        {
          "output_type": "stream",
          "name": "stdout",
          "text": [
            "            pilha                      \n",
            "  ____________|__________               \n",
            " |   |   |    |       empilhar         \n",
            " |   |   |    |     _____|________      \n",
            " |   |   |   que   |     |     elemento\n",
            " |   |   |    |    |     |        |     \n",
            " é  uma  ?    O    e    como     seu   \n",
            "\n",
            "[None]\n"
          ]
        }
      ]
    },
    {
      "cell_type": "markdown",
      "metadata": {
        "id": "107jSu39Jj-q"
      },
      "source": [
        "# 4 Exemplo comparando os embeddings das ocorrências da palavra \"banco\" em uma sentença."
      ]
    },
    {
      "cell_type": "markdown",
      "source": [
        "## Comparando embeddings de palavras"
      ],
      "metadata": {
        "id": "tJBS-kfhwCEL"
      }
    },
    {
      "cell_type": "code",
      "metadata": {
        "id": "m_vfdQKPEnCn"
      },
      "source": [
        "texto = \"Depois de roubar o cofre do banco,\"\\\n",
        "        \" o ladrão de banco foi visto \" \\\n",
        "        \"sentado no banco da praça central.\"\n",
        "\n",
        "logging.info('Texto armazenado!')"
      ],
      "execution_count": 43,
      "outputs": []
    },
    {
      "cell_type": "code",
      "metadata": {
        "id": "DedqTrpZEE6K"
      },
      "source": [
        "doc = nlp(texto)"
      ],
      "execution_count": 44,
      "outputs": []
    },
    {
      "cell_type": "markdown",
      "source": [
        "Confirmando os tokens do documento"
      ],
      "metadata": {
        "id": "JSYygMNVxNon"
      }
    },
    {
      "cell_type": "code",
      "metadata": {
        "id": "zQ7J7b-SFCXN",
        "colab": {
          "base_uri": "https://localhost:8080/"
        },
        "outputId": "cdd540b9-23ee-4f75-838d-8eefcb4cd16d"
      },
      "source": [
        "i = 0\n",
        "for token in doc:\n",
        "   print(i, token)\n",
        "   i = i + 1"
      ],
      "execution_count": 45,
      "outputs": [
        {
          "output_type": "stream",
          "name": "stdout",
          "text": [
            "0 Depois\n",
            "1 de\n",
            "2 roubar\n",
            "3 o\n",
            "4 cofre\n",
            "5 do\n",
            "6 banco\n",
            "7 ,\n",
            "8 o\n",
            "9 ladrão\n",
            "10 de\n",
            "11 banco\n",
            "12 foi\n",
            "13 visto\n",
            "14 sentado\n",
            "15 no\n",
            "16 banco\n",
            "17 da\n",
            "18 praça\n",
            "19 central\n",
            "20 .\n"
          ]
        }
      ]
    },
    {
      "cell_type": "markdown",
      "metadata": {
        "id": "-TysEHsOZaij"
      },
      "source": [
        "Exibe os embenddings das palavras"
      ]
    },
    {
      "cell_type": "markdown",
      "metadata": {
        "id": "VXZFKHQBZIFk"
      },
      "source": [
        "A banco aparece nos índices 6, 11 e 16.\n"
      ]
    },
    {
      "cell_type": "code",
      "metadata": {
        "id": "2hrWa-RzZIFl",
        "colab": {
          "base_uri": "https://localhost:8080/"
        },
        "outputId": "d4277041-87d7-48aa-e089-c66783ef449d"
      },
      "source": [
        "# Índice das palavras a serem comparadas\n",
        "palavra1 = 6\n",
        "palavra2 = 11\n",
        "palavra3 = 16\n",
        "\n",
        "print(\"Os primeiros 5 valores de cada instância de \\\"banco\\\".\")\n",
        "print(\"\")\n",
        "print(str(doc[palavra1]), doc[palavra1].vector[:5])\n",
        "print(str(doc[palavra2]), doc[palavra3].vector[:5])\n",
        "print(str(doc[palavra3]), doc[palavra2].vector[:5])"
      ],
      "execution_count": 46,
      "outputs": [
        {
          "output_type": "stream",
          "name": "stdout",
          "text": [
            "Os primeiros 5 valores de cada instância de \"banco\".\n",
            "\n",
            "banco [-0.9601  -3.2818  -1.357   -0.91696  3.5838 ]\n",
            "banco [-0.9601  -3.2818  -1.357   -0.91696  3.5838 ]\n",
            "banco [-0.9601  -3.2818  -1.357   -0.91696  3.5838 ]\n"
          ]
        }
      ]
    },
    {
      "cell_type": "code",
      "source": [
        "# Índice das palavras a serem comparadas\n",
        "print(\"Período:\", texto)\n",
        "print(\"Palavra 1 =\", palavra1, \"=\", str(doc[palavra1]), \"(instituição financeira)\")\n",
        "print(\"Palavra 2 =\", palavra2, \"=\", str(doc[palavra2]), \"(instituição financeira)\")\n",
        "print(\"Palavra 3 =\", palavra3, \"=\", str(doc[palavra3]), \"(assento)\")\n",
        "\n",
        "# Calcula a similaridade de coseno entre as palavras banco\n",
        "# Em \"ladrão de banco\" versus \"banco da praça\" (diferentes significados).\n",
        "banco_diferente = doc[palavra2].similarity(doc[palavra3])\n",
        "\n",
        "print(\"Vetor de similaridade  para diferentes significados(\",palavra2,\",\",palavra3,\"):  %.2f\" % banco_diferente)\n",
        "\n",
        "# Calcula a similaridade de coseno entre as palavras banco\n",
        "# Em \"ladrão de banco\" versus \"cofre do banco\" (mesmo significado).\n",
        "mesmo_banco = doc[palavra2].similarity(doc[palavra1])\n",
        "\n",
        "print(\"Vetor de similaridade  para mesmo significado(\",palavra2,\",\",palavra1,\"):  %.2f\" % mesmo_banco)\n",
        "\n",
        "# Calcula a similaridade de coseno entre as palavras banco\n",
        "# Em \"cofre do banco\" versus \"banco da praça\" (diferente significados).\n",
        "banco_diferente2 = doc[palavra3].similarity(doc[palavra1])\n",
        "\n",
        "print(\"Vetor de similaridade  para diferentes significados(\",palavra3,\",\",palavra1,\"):  %.2f\" % banco_diferente2)"
      ],
      "metadata": {
        "colab": {
          "base_uri": "https://localhost:8080/"
        },
        "id": "mSAXA7F6vdmQ",
        "outputId": "347d0b51-8dec-426f-e484-c16d56ea03fa"
      },
      "execution_count": 47,
      "outputs": [
        {
          "output_type": "stream",
          "name": "stdout",
          "text": [
            "Período: Depois de roubar o cofre do banco, o ladrão de banco foi visto sentado no banco da praça central.\n",
            "Palavra 1 = 6 = banco (instituição financeira)\n",
            "Palavra 2 = 11 = banco (instituição financeira)\n",
            "Palavra 3 = 16 = banco (assento)\n",
            "Vetor de similaridade  para diferentes significados( 11 , 16 ):  1.00\n",
            "Vetor de similaridade  para mesmo significado( 11 , 6 ):  1.00\n",
            "Vetor de similaridade  para diferentes significados( 16 , 6 ):  1.00\n"
          ]
        }
      ]
    },
    {
      "cell_type": "markdown",
      "metadata": {
        "id": "EY3mTTNNJtUb"
      },
      "source": [
        "# 5 Exemplo comparando embeddings de palavras diferentes"
      ]
    },
    {
      "cell_type": "markdown",
      "metadata": {
        "id": "5ojzg5KeI23_"
      },
      "source": [
        "## Comparando palavras diferentes"
      ]
    },
    {
      "cell_type": "markdown",
      "metadata": {
        "id": "Hp4KXhZNyVNh"
      },
      "source": [
        "Import para apresentação dos dados"
      ]
    },
    {
      "cell_type": "code",
      "metadata": {
        "id": "sQqDa6lgfqJX"
      },
      "source": [
        "# Importando as bibliotecas.\n",
        "from scipy import spatial\n",
        "from jinja2 import Template\n",
        "from IPython.display import display, HTML\n",
        "\n",
        "logging.info('Import realizado!')"
      ],
      "execution_count": 48,
      "outputs": []
    },
    {
      "cell_type": "markdown",
      "metadata": {
        "id": "QWhQ6U9WyYQK"
      },
      "source": [
        "Função para calcular a similaridade e apresentação dos dados."
      ]
    },
    {
      "cell_type": "code",
      "metadata": {
        "id": "9atJadP_VvJr"
      },
      "source": [
        "#template de apresentação dos dados\n",
        "table_list_template = \"\"\"\n",
        "<table>\n",
        "        <tr>\n",
        "           <th>Palavra</th>\n",
        "           <th>Similaridade</th>\n",
        "        </tr>\n",
        "        {% for item in items%}\n",
        "        <TR>\n",
        "           <TD class=\"c1\">{{item[0].text}}</TD>\n",
        "           <TD class=\"c2\">{{item[1]}}</TD>\n",
        "        </TR>\n",
        "        {% endfor %}\n",
        "</table>\n",
        "\"\"\"\n",
        "\n",
        "#função de cálculo da das palavras\n",
        "def most_similar(positive, negative):\n",
        "    cosine_similarity = lambda x, y: 1 - spatial.distance.cosine(x, y)\n",
        "\n",
        "    #recupera o cálculo das palavras\n",
        "    positivo1 = nlp.vocab[positive[0]].vector\n",
        "    positivo2 = nlp.vocab[positive[1]].vector\n",
        "    negativo1 = nlp.vocab[negative[0]].vector\n",
        "\n",
        "    # Agora precisamos encontrar o vetor mais próximo no vocabulário do resultado de \"man\" - \"woman\" + \"queen\"\n",
        "    diferenca = negativo1 - positivo2 + positivo1\n",
        "\n",
        "    cs = []\n",
        "    for word in nlp.vocab:\n",
        "        # Ignore palavras sem vetor\n",
        "        if not word.has_vector:\n",
        "            continue\n",
        "\n",
        "        similarity = cosine_similarity(diferenca, word.vector)\n",
        "        cs.append((word, similarity))\n",
        "\n",
        "    cs = sorted(cs, key=lambda item: -item[1])\n",
        "\n",
        "    tmpl = Template(table_list_template)\n",
        "    output_html = tmpl.render(items=cs[:10])\n",
        "    return HTML(output_html)\n",
        "\n",
        "logging.info('Função criada!')"
      ],
      "execution_count": 49,
      "outputs": []
    },
    {
      "cell_type": "markdown",
      "metadata": {
        "id": "0Of3v1dbMC5K"
      },
      "source": [
        "Similaridade de \"queen\" e \"king\"<br>\n",
        "Rainha + Mulher – Homem = ?"
      ]
    },
    {
      "cell_type": "code",
      "metadata": {
        "id": "FQ6cHkQ8MC5Q",
        "colab": {
          "base_uri": "https://localhost:8080/",
          "height": 254
        },
        "outputId": "f5f8e637-ecfb-4b2a-de11-01c47c70f107"
      },
      "source": [
        "most_similar(positive=[u'rainha',u'mulher'], negative=[u'homem'])"
      ],
      "execution_count": 50,
      "outputs": [
        {
          "output_type": "execute_result",
          "data": {
            "text/plain": [
              "<IPython.core.display.HTML object>"
            ],
            "text/html": [
              " \n",
              "<table> \n",
              "        <tr>  \n",
              "           <th>Palavra</th>   \n",
              "           <th>Similaridade</th>   \n",
              "        </tr>  \n",
              "          \n",
              "        <TR>     \n",
              "           <TD class=\"c1\">homem</TD>     \n",
              "           <TD class=\"c2\">0.6543570160865784</TD>   \n",
              "        </TR>   \n",
              "          \n",
              "        <TR>     \n",
              "           <TD class=\"c1\">rainha</TD>     \n",
              "           <TD class=\"c2\">0.6328749656677246</TD>   \n",
              "        </TR>   \n",
              "          \n",
              "        <TR>     \n",
              "           <TD class=\"c1\">ladrão</TD>     \n",
              "           <TD class=\"c2\">0.3939955234527588</TD>   \n",
              "        </TR>   \n",
              "          \n",
              "        <TR>     \n",
              "           <TD class=\"c1\">dom</TD>     \n",
              "           <TD class=\"c2\">0.38642817735671997</TD>   \n",
              "        </TR>   \n",
              "          \n",
              "        <TR>     \n",
              "           <TD class=\"c1\">céu</TD>     \n",
              "           <TD class=\"c2\">0.3669966161251068</TD>   \n",
              "        </TR>   \n",
              "          \n",
              "        <TR>     \n",
              "           <TD class=\"c1\">D.</TD>     \n",
              "           <TD class=\"c2\">0.3281002342700958</TD>   \n",
              "        </TR>   \n",
              "          \n",
              "        <TR>     \n",
              "           <TD class=\"c1\">sentado</TD>     \n",
              "           <TD class=\"c2\">0.28750479221343994</TD>   \n",
              "        </TR>   \n",
              "          \n",
              "        <TR>     \n",
              "           <TD class=\"c1\">d.</TD>     \n",
              "           <TD class=\"c2\">0.24366678297519684</TD>   \n",
              "        </TR>   \n",
              "          \n",
              "        <TR>     \n",
              "           <TD class=\"c1\">elemento</TD>     \n",
              "           <TD class=\"c2\">0.23681078851222992</TD>   \n",
              "        </TR>   \n",
              "          \n",
              "        <TR>     \n",
              "           <TD class=\"c1\">v.v</TD>     \n",
              "           <TD class=\"c2\">0.23499780893325806</TD>   \n",
              "        </TR>   \n",
              "        \n",
              "</table> "
            ]
          },
          "metadata": {},
          "execution_count": 50
        }
      ]
    },
    {
      "cell_type": "markdown",
      "metadata": {
        "id": "9iKAtTiKxkDM"
      },
      "source": [
        "\n",
        "Rainha + Homem – Mulher = ?"
      ]
    },
    {
      "cell_type": "code",
      "metadata": {
        "id": "f59RMra0xlKT",
        "colab": {
          "base_uri": "https://localhost:8080/",
          "height": 254
        },
        "outputId": "89513156-4c7a-4b75-d506-dc2292a6d07a"
      },
      "source": [
        "most_similar(positive=[u'rainha',u'homen'], negative=[u'mulher'])"
      ],
      "execution_count": 51,
      "outputs": [
        {
          "output_type": "execute_result",
          "data": {
            "text/plain": [
              "<IPython.core.display.HTML object>"
            ],
            "text/html": [
              " \n",
              "<table> \n",
              "        <tr>  \n",
              "           <th>Palavra</th>   \n",
              "           <th>Similaridade</th>   \n",
              "        </tr>  \n",
              "          \n",
              "        <TR>     \n",
              "           <TD class=\"c1\">rainha</TD>     \n",
              "           <TD class=\"c2\">0.8429843783378601</TD>   \n",
              "        </TR>   \n",
              "          \n",
              "        <TR>     \n",
              "           <TD class=\"c1\">mulher</TD>     \n",
              "           <TD class=\"c2\">0.7481345534324646</TD>   \n",
              "        </TR>   \n",
              "          \n",
              "        <TR>     \n",
              "           <TD class=\"c1\">sra.</TD>     \n",
              "           <TD class=\"c2\">0.37973400950431824</TD>   \n",
              "        </TR>   \n",
              "          \n",
              "        <TR>     \n",
              "           <TD class=\"c1\">Sra.</TD>     \n",
              "           <TD class=\"c2\">0.35056641697883606</TD>   \n",
              "        </TR>   \n",
              "          \n",
              "        <TR>     \n",
              "           <TD class=\"c1\">homem</TD>     \n",
              "           <TD class=\"c2\">0.3256874978542328</TD>   \n",
              "        </TR>   \n",
              "          \n",
              "        <TR>     \n",
              "           <TD class=\"c1\">pilha</TD>     \n",
              "           <TD class=\"c2\">0.2841774523258209</TD>   \n",
              "        </TR>   \n",
              "          \n",
              "        <TR>     \n",
              "           <TD class=\"c1\">D.</TD>     \n",
              "           <TD class=\"c2\">0.28291937708854675</TD>   \n",
              "        </TR>   \n",
              "          \n",
              "        <TR>     \n",
              "           <TD class=\"c1\">Sra</TD>     \n",
              "           <TD class=\"c2\">0.27065104246139526</TD>   \n",
              "        </TR>   \n",
              "          \n",
              "        <TR>     \n",
              "           <TD class=\"c1\">sra</TD>     \n",
              "           <TD class=\"c2\">0.25299468636512756</TD>   \n",
              "        </TR>   \n",
              "          \n",
              "        <TR>     \n",
              "           <TD class=\"c1\">certeza</TD>     \n",
              "           <TD class=\"c2\">0.24196042120456696</TD>   \n",
              "        </TR>   \n",
              "        \n",
              "</table> "
            ]
          },
          "metadata": {},
          "execution_count": 51
        }
      ]
    },
    {
      "cell_type": "markdown",
      "metadata": {
        "id": "Sw-Avpb0zL9b"
      },
      "source": [
        "Rei + Mulher – Homem = ?"
      ]
    },
    {
      "cell_type": "code",
      "metadata": {
        "id": "H1v8VY6DzMJK",
        "colab": {
          "base_uri": "https://localhost:8080/",
          "height": 254
        },
        "outputId": "fb70124e-56de-46da-e10b-62cf3a880a99"
      },
      "source": [
        "most_similar(positive=[u'rei',u'mulher'], negative=[u'homem'])"
      ],
      "execution_count": 52,
      "outputs": [
        {
          "output_type": "execute_result",
          "data": {
            "text/plain": [
              "<IPython.core.display.HTML object>"
            ],
            "text/html": [
              " \n",
              "<table> \n",
              "        <tr>  \n",
              "           <th>Palavra</th>   \n",
              "           <th>Similaridade</th>   \n",
              "        </tr>  \n",
              "          \n",
              "        <TR>     \n",
              "           <TD class=\"c1\">rei</TD>     \n",
              "           <TD class=\"c2\">0.931167721748352</TD>   \n",
              "        </TR>   \n",
              "          \n",
              "        <TR>     \n",
              "           <TD class=\"c1\">homem</TD>     \n",
              "           <TD class=\"c2\">0.5503122806549072</TD>   \n",
              "        </TR>   \n",
              "          \n",
              "        <TR>     \n",
              "           <TD class=\"c1\">rainha</TD>     \n",
              "           <TD class=\"c2\">0.39487096667289734</TD>   \n",
              "        </TR>   \n",
              "          \n",
              "        <TR>     \n",
              "           <TD class=\"c1\">D.</TD>     \n",
              "           <TD class=\"c2\">0.37275466322898865</TD>   \n",
              "        </TR>   \n",
              "          \n",
              "        <TR>     \n",
              "           <TD class=\"c1\">ladrão</TD>     \n",
              "           <TD class=\"c2\">0.36278364062309265</TD>   \n",
              "        </TR>   \n",
              "          \n",
              "        <TR>     \n",
              "           <TD class=\"c1\">v.v</TD>     \n",
              "           <TD class=\"c2\">0.3469931483268738</TD>   \n",
              "        </TR>   \n",
              "          \n",
              "        <TR>     \n",
              "           <TD class=\"c1\">dom</TD>     \n",
              "           <TD class=\"c2\">0.34520941972732544</TD>   \n",
              "        </TR>   \n",
              "          \n",
              "        <TR>     \n",
              "           <TD class=\"c1\">homen</TD>     \n",
              "           <TD class=\"c2\">0.30901098251342773</TD>   \n",
              "        </TR>   \n",
              "          \n",
              "        <TR>     \n",
              "           <TD class=\"c1\">d.</TD>     \n",
              "           <TD class=\"c2\">0.30572617053985596</TD>   \n",
              "        </TR>   \n",
              "          \n",
              "        <TR>     \n",
              "           <TD class=\"c1\">céu</TD>     \n",
              "           <TD class=\"c2\">0.2914807200431824</TD>   \n",
              "        </TR>   \n",
              "        \n",
              "</table> "
            ]
          },
          "metadata": {},
          "execution_count": 52
        }
      ]
    },
    {
      "cell_type": "markdown",
      "metadata": {
        "id": "lmW-B5JO0SqG"
      },
      "source": [
        "Rei + Homem – Mulher = ?"
      ]
    },
    {
      "cell_type": "code",
      "metadata": {
        "id": "yKyR2bi-0L7K",
        "colab": {
          "base_uri": "https://localhost:8080/",
          "height": 254
        },
        "outputId": "648e8163-fd5d-4d9f-c563-456936911e3f"
      },
      "source": [
        "most_similar(positive=[u'rei',u'homem'], negative=[u'mulher'])"
      ],
      "execution_count": 53,
      "outputs": [
        {
          "output_type": "execute_result",
          "data": {
            "text/plain": [
              "<IPython.core.display.HTML object>"
            ],
            "text/html": [
              " \n",
              "<table> \n",
              "        <tr>  \n",
              "           <th>Palavra</th>   \n",
              "           <th>Similaridade</th>   \n",
              "        </tr>  \n",
              "          \n",
              "        <TR>     \n",
              "           <TD class=\"c1\">rei</TD>     \n",
              "           <TD class=\"c2\">0.8917216062545776</TD>   \n",
              "        </TR>   \n",
              "          \n",
              "        <TR>     \n",
              "           <TD class=\"c1\">rainha</TD>     \n",
              "           <TD class=\"c2\">0.7386540770530701</TD>   \n",
              "        </TR>   \n",
              "          \n",
              "        <TR>     \n",
              "           <TD class=\"c1\">D.</TD>     \n",
              "           <TD class=\"c2\">0.4636102616786957</TD>   \n",
              "        </TR>   \n",
              "          \n",
              "        <TR>     \n",
              "           <TD class=\"c1\">d.</TD>     \n",
              "           <TD class=\"c2\">0.38125309348106384</TD>   \n",
              "        </TR>   \n",
              "          \n",
              "        <TR>     \n",
              "           <TD class=\"c1\">mulher</TD>     \n",
              "           <TD class=\"c2\">0.36437276005744934</TD>   \n",
              "        </TR>   \n",
              "          \n",
              "        <TR>     \n",
              "           <TD class=\"c1\">(;</TD>     \n",
              "           <TD class=\"c2\">0.3019980788230896</TD>   \n",
              "        </TR>   \n",
              "          \n",
              "        <TR>     \n",
              "           <TD class=\"c1\">r.</TD>     \n",
              "           <TD class=\"c2\">0.2830849289894104</TD>   \n",
              "        </TR>   \n",
              "          \n",
              "        <TR>     \n",
              "           <TD class=\"c1\">v.v</TD>     \n",
              "           <TD class=\"c2\">0.2759232521057129</TD>   \n",
              "        </TR>   \n",
              "          \n",
              "        <TR>     \n",
              "           <TD class=\"c1\">c.</TD>     \n",
              "           <TD class=\"c2\">0.23240360617637634</TD>   \n",
              "        </TR>   \n",
              "          \n",
              "        <TR>     \n",
              "           <TD class=\"c1\">homen</TD>     \n",
              "           <TD class=\"c2\">0.22730857133865356</TD>   \n",
              "        </TR>   \n",
              "        \n",
              "</table> "
            ]
          },
          "metadata": {},
          "execution_count": 53
        }
      ]
    },
    {
      "cell_type": "markdown",
      "metadata": {
        "id": "YE9O7fM-y5Zc"
      },
      "source": [
        "Função de cálculo da similaridade de palavras."
      ]
    },
    {
      "cell_type": "code",
      "metadata": {
        "id": "UuHoa2MJUp4R",
        "colab": {
          "base_uri": "https://localhost:8080/"
        },
        "outputId": "76d0b0ca-9401-44f1-f57d-c71a9711ebaf"
      },
      "source": [
        "#Matemática de Word Embeding\n",
        "from scipy import spatial\n",
        "\n",
        "cosine_similarity = lambda x, y: 1 - spatial.distance.cosine(x, y)\n",
        "\n",
        "#recupera o cálculo das palavras\n",
        "man = nlp.vocab[u'homem'].vector\n",
        "woman = nlp.vocab[u'mulher'].vector\n",
        "queen = nlp.vocab[u'rainha'].vector\n",
        "#king = nlp.vocab[u'rei'].vector\n",
        "\n",
        "# Agora precisamos encontrar o vetor mais próximo no vocabulário do resultado de \"man\" - \"woman\" + \"queen\"\n",
        "maybe_king = man - woman + queen\n",
        "computed_similarities = []\n",
        "\n",
        "for word in nlp.vocab:\n",
        "    # Ignore palavras sem vetor\n",
        "    if not word.has_vector:\n",
        "        continue\n",
        "\n",
        "    similarity = cosine_similarity(maybe_king, word.vector)\n",
        "    computed_similarities.append((word, similarity))\n",
        "\n",
        "computed_similarities = sorted(computed_similarities, key=lambda item: -item[1])\n",
        "\n",
        "#mostra o resultado\n",
        "print([w[0].text for w in computed_similarities[:10]])"
      ],
      "execution_count": 54,
      "outputs": [
        {
          "output_type": "stream",
          "name": "stdout",
          "text": [
            "['rei', 'homem', 'rainha', 'ladrão', 'dom', 'céu', 'homen', 'D.', 'sentado', 'd.']\n"
          ]
        }
      ]
    },
    {
      "cell_type": "markdown",
      "metadata": {
        "id": "-zBBKEgCzCW9"
      },
      "source": [
        "Calculando a similaridade"
      ]
    },
    {
      "cell_type": "code",
      "metadata": {
        "id": "9f4GU-FVzCrK",
        "colab": {
          "base_uri": "https://localhost:8080/"
        },
        "outputId": "2dfe0318-074b-4f2b-fe13-614332c68aa3"
      },
      "source": [
        "banana = nlp.vocab[u'banana']\n",
        "dog = nlp.vocab[u'cachorro']\n",
        "fruit = nlp.vocab[u'fruta']\n",
        "animal = nlp.vocab[u'animal']\n",
        "\n",
        "print(dog.similarity(animal), dog.similarity(fruit))\n",
        "print(banana.similarity(fruit), banana.similarity(animal))"
      ],
      "execution_count": 55,
      "outputs": [
        {
          "output_type": "stream",
          "name": "stdout",
          "text": [
            "0.6258523464202881 0.23907972872257233\n",
            "0.7187858819961548 0.17296834290027618\n"
          ]
        }
      ]
    },
    {
      "cell_type": "markdown",
      "metadata": {
        "id": "UFuZc9Sk0ZMp"
      },
      "source": [
        "Calculando a similaridade entre textos"
      ]
    },
    {
      "cell_type": "code",
      "metadata": {
        "id": "mMWSQxnQ0ZZC",
        "colab": {
          "base_uri": "https://localhost:8080/"
        },
        "outputId": "ffa17c04-7664-4c1e-a4cd-fa727b9eb932"
      },
      "source": [
        "destino = nlp(u'Gatos são bonitos animais.')\n",
        "\n",
        "doc1 = nlp(u'Cães são incríveis.')\n",
        "doc2 = nlp(u'Algumas criaturas lindas são felinos.')\n",
        "doc3 = nlp(u'Golfinhos são animais que nadam.')\n",
        "\n",
        "print(destino.similarity(doc1))\n",
        "print(destino.similarity(doc2))\n",
        "print(destino.similarity(doc3))"
      ],
      "execution_count": 56,
      "outputs": [
        {
          "output_type": "stream",
          "name": "stdout",
          "text": [
            "0.9246653638245138\n",
            "0.8842595974832\n",
            "0.8645154356594877\n"
          ]
        }
      ]
    }
  ]
}